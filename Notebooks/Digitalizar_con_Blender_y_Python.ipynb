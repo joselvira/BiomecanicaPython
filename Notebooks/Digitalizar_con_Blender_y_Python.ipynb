{
  "nbformat": 4,
  "nbformat_minor": 0,
  "metadata": {
    "colab": {
      "name": "Digitalizar_con_Blender_y_Python.ipynb",
      "provenance": [],
      "collapsed_sections": [],
      "toc_visible": true,
      "include_colab_link": true
    },
    "kernelspec": {
      "display_name": "Python 3",
      "language": "python",
      "name": "python3"
    }
  },
  "cells": [
    {
      "cell_type": "markdown",
      "metadata": {
        "id": "view-in-github",
        "colab_type": "text"
      },
      "source": [
        "<a href=\"https://colab.research.google.com/github/joselvira/BiomecanicaPython/blob/master/Notebooks/Digitalizar_con_Blender_y_Python.ipynb\" target=\"_parent\"><img src=\"https://colab.research.google.com/assets/colab-badge.svg\" alt=\"Open In Colab\"/></a>"
      ]
    },
    {
      "cell_type": "markdown",
      "metadata": {
        "id": "6TONcsPmeJwr",
        "colab_type": "text"
      },
      "source": [
        "# Cómo digitalizar vídeos con Blender"
      ]
    },
    {
      "cell_type": "markdown",
      "metadata": {
        "id": "r0bRW9DdeJwt",
        "colab_type": "text"
      },
      "source": [
        "Blender es un programa de animación 3D con múltiples posibilidades. Una de ellas es que dispone de una herramienta de tracking o digitalización de puntos de forma automática que funciona muy bien. Se pueden exportar archivos con las coordenadasde los marcadores digitalizados y utilizarlos para calcular los parámetros DLT y obtener coordenadas reales. Esto se puede hacer en 2D (con al menos 1 cámara, pero se pueden utilizar más) y en 3D (con dos o más cámaras)."
      ]
    },
    {
      "cell_type": "markdown",
      "metadata": {
        "id": "YtYKiKhBeJwv",
        "colab_type": "text"
      },
      "source": [
        "Como en cualquier estudio fotogramétrico en el que queramos medir distancias, es necesario utilizar un **marco de calibración** (MC). para ello debemos utilizar un objeto de dimensiones conocidas que sirva para situar el sistema de referencias espacial y para calcular la escala de las imágenes.\n",
        "\n",
        "Si disponemos de un objeto rectangular, podemos grabarlo en la misma escena y a la misma distancia de la cámara a la que se va a realizar el movimiento a analizar y ese será el vídeo del MC. Una de las esquinas del rectángulo (normalmente la inferior izquierda) será el punto cero del sistema de referencias, y los lados del rectángulo serán los ejes X e Y.\n",
        "\n",
        "Otra opción es utilizar una barra con los extremos de un color destacado. Podemos colocar la barra en varias posiciones, asegurando que esté vertical, de manera que los extremos de la barra formen un rectángulo, eso sí, en distintos fotogramas. Si se utiliza este tipo de MC, lo ideal es que quede grabado en el mismo vídeo. Si se ha grabado con distintos vídeos, se deben juntar en uno mismo, por ejemplo con [VirtualDub](http://www.virtualdub.org/) que es un programa gratuido de edición sencilla de vídeo.\n",
        "\n",
        "En Blender, entrar en el modo Motion Tracking. Abrir el vídeo. Crear marcadores (botón Add a la izquierda), nombrarlos e ir realizando el tracking. Este proceso se prodría explicar con más detalle, pero por el momento no tengo tanto tiempo y se pueden encontrar numerosos tutoriales en Youtube en los que se explica en profundidad cómo utilizarlo. En la siguiente figura se ve un ejemplo del vídeo de salto que corresponde al ejemplo tratado en este notebook."
      ]
    },
    {
      "cell_type": "code",
      "metadata": {
        "id": "VbqIYF0DuZUJ",
        "colab_type": "code",
        "colab": {
          "base_uri": "https://localhost:8080/",
          "height": 421
        },
        "outputId": "1e7d32a7-76a6-424e-ff7f-530dbfae7ef7"
      },
      "source": [
        "from IPython.display import Image\n",
        "Image(url='https://github.com/joselvira/BiomecanicaPython/raw/master/Datos/EjemploDLT/Blender_DigitalizacionModelo.png', height=400)"
      ],
      "execution_count": 4,
      "outputs": [
        {
          "output_type": "execute_result",
          "data": {
            "text/html": [
              "<img src=\"https://github.com/joselvira/BiomecanicaPython/raw/master/Datos/EjemploDLT/Blender_DigitalizacionModelo.png\" height=\"400\"/>"
            ],
            "text/plain": [
              "<IPython.core.display.Image object>"
            ]
          },
          "metadata": {
            "tags": []
          },
          "execution_count": 4
        }
      ]
    },
    {
      "cell_type": "markdown",
      "metadata": {
        "id": "iuAqsw2LulhR",
        "colab_type": "text"
      },
      "source": [
        "Una vez terminada la digitalización tanto del vídeo del MC como de los marcadores del modelo, hay que meterse en el modo Scripting de Blender y en un nuevo script de Python compiar el código de Python siguiente. No intentes ejecutarlo desde aquí porque solo funciona desde dentro de blender."
      ]
    },
    {
      "cell_type": "code",
      "metadata": {
        "id": "C9t-zRZCeJwy",
        "colab_type": "code",
        "colab": {}
      },
      "source": [
        "\"\"\"\n",
        "Exporta las coordenadas de marcadores digitalizados con Blender\n",
        "Hay que ejecutarlo desde el editor Scripting de Blender con el vídeo digitalizado abierto.\n",
        "Jose Luis Lpoez Elvira\n",
        "Fecha: 21/05/2018\n",
        "\n",
        "Adaptado de :\n",
        "# http://scummos.blogspot.cz/2012/11/blender-exporting-camera-tracking.html\n",
        "# https://gist.github.com/anonymous/31c915d611f0a84e5d33\n",
        "\"\"\"\n",
        "\n",
        "from __future__ import print_function\n",
        "import bpy\n",
        "import numpy as np\n",
        "\n",
        "D = bpy.data\n",
        "\n",
        "frameNums = True  # incluye num frames en el archivo\n",
        "relativeCoords = False  # para hacer que las coordenadas sean relativas a las dimensiones del vídeo\n",
        "\n",
        "#CARGA LOS DATOS DE COORDENADAS\n",
        "for clip in D.movieclips:\n",
        "    print('\\nProcesando video {}'.format(clip.name))\n",
        "    \n",
        "    markers = {}\n",
        "    marcadores = {} #guarda los datos de cada marcador\n",
        "    nomMarcadores = []\n",
        "    nomVideo = bpy.data.filepath.split('.')[0] #guarda el archivo de las coordenadas con el mismo nombre que el archivo BLENDER\n",
        "    #nomVideo = clip.name.split('.')[0] #guarda el archivo de las coordenadas con el mismo nombre que archivo de VÍDEO\n",
        "        \n",
        "    if relativeCoords:\n",
        "        width = 1\n",
        "        height = 1\n",
        "    else:\n",
        "        width = clip.size[0]\n",
        "        height = clip.size[1]\n",
        "    for ob in clip.tracking.objects:\n",
        "        print('Procesando objeto {}'.format(ob.name))\n",
        "        \n",
        "        for track in ob.tracks:\n",
        "            fn = '{}_{}_{}'.format(clip.name.split('.')[0], ob.name, track.name)\n",
        "            markers[fn] = []\n",
        "            marcadores[track.name] = []\n",
        "            print('Marcador {} encontrado'.format(track.name))\n",
        "            nomMarcadores.append(track.name)\n",
        "            for framenum in range(clip.frame_duration):\n",
        "                markerAtFrame = track.markers.find_frame(framenum)\n",
        "                if markerAtFrame:\n",
        "                    coords = list(markerAtFrame.co.xy)\n",
        "                    coords = [coords[0] * width, coords[1] * height]\n",
        "                    markers[fn].append(coords)\n",
        "                    marcadores[track.name].append(coords)\n",
        "                else: #si no está digitalizado este fotograma, lo deja en blanco. Es necesario para que no meta todas las filas juntas saltando huecos.\n",
        "                    markers[fn].append(['', ''])\n",
        "                    marcadores[track.name].append(['', ''])\n",
        "                         \n",
        "            \n",
        "    #nomMarcadores=list(marcadores.keys())\n",
        "    \n",
        "    #print(len(marcadores), len(marcadores[nomMarcadores[0]]))\n",
        "    #print(marcadores[nomMarcadores[0]])\n",
        "\n",
        "    ##############################\n",
        "    #ESCRIBE LOS DATOS DE TODOS LOS MARCADORES EN UN MISMO ARCHIVO\n",
        "    print(len(marcadores))\n",
        "    if len(marcadores) !=0:\n",
        "        print('\\nEscribiendo datos...')\n",
        "        nombreArchivo= nomVideo + '_Marcadores.csv' #nombre del archivo de las coordenadas. Lo guarda en la misma carpeta del archivo de Blender.\n",
        "        with open(nombreArchivo, 'w', newline='') as writer:\n",
        "            #Escribe el encabezado\n",
        "            encabezado=''\n",
        "            if frameNums: encabezado+='frame,'\n",
        "            for h in range(len(marcadores)):\n",
        "                encabezado+='{},{},'.format(str(nomMarcadores[h])+'_x', str(nomMarcadores[h])+'_y')\n",
        "                print('Marcador{}, con {} frames.'.format(nomMarcadores[h], len(marcadores[nomMarcadores[h]])))\n",
        "            writer.write(encabezado[:-1]+'\\n')\n",
        "            \n",
        "            #Escribe las coordenadas\n",
        "            for i in range(len(marcadores[nomMarcadores[0]])):\n",
        "                linea=''\n",
        "                if frameNums: linea+=str(i)+','\n",
        "                for h in nomMarcadores:\n",
        "                    coordx=marcadores[h][i][0]\n",
        "                    coordy=marcadores[h][i][1]\n",
        "                    linea+='{},{},'.format(coordx, coordy)        \n",
        "                writer.write(linea[:-1]+'\\n')\n",
        "            \n",
        "        print('Terminado', nomVideo)            \n",
        "    else:\n",
        "        print('\\nEl video {} no tiene marcadores.'.format(nomVideo))"
      ],
      "execution_count": null,
      "outputs": []
    },
    {
      "cell_type": "markdown",
      "metadata": {
        "id": "h9EzLCsQjYGb",
        "colab_type": "text"
      },
      "source": [
        "En este caso, utilizaremos archivos ya preparados y digitalizados con Blender sobre un salto vertical con 5 marcadores."
      ]
    },
    {
      "cell_type": "markdown",
      "metadata": {
        "id": "VQxv1ky9eJw4",
        "colab_type": "text"
      },
      "source": [
        "# Cálculo de la DLT"
      ]
    },
    {
      "cell_type": "markdown",
      "metadata": {
        "id": "biBScv_NeJw8",
        "colab_type": "text"
      },
      "source": [
        "Una vez tenemos los vídeos digitalizados y los archivos de las coordenadas exportados, procedemos a realizar los cálculos con Python, ya fuera del entorno Blender con el editor de código que utilicemos. Como ejemplo, utilizaremos los archivos de la carpeta /Datos/EjemploDLT/\n",
        "\n",
        "En primer lugar, importamos los módulos necesarios."
      ]
    },
    {
      "cell_type": "code",
      "metadata": {
        "id": "NAk0nUwGjw_r",
        "colab_type": "code",
        "colab": {}
      },
      "source": [
        "import numpy as np\n",
        "import pandas as pd\n",
        "import matplotlib.pyplot as plt"
      ],
      "execution_count": null,
      "outputs": []
    },
    {
      "cell_type": "markdown",
      "metadata": {
        "id": "Qo1i2D2cj5Hg",
        "colab_type": "text"
      },
      "source": [
        "También necesitaremos funciones para realizar la calibración y la reconstrucción de las coordenadas. para ello, utilizaremos como referencia las funciones de Marcos Duarte (a partir de https://www.mail-archive.com/floatcanvas@mithis.com/msg00513.html). Estas funciones podemos tenerlas en el propio código, o encapsularlas en un archivo aparte y llamarlo externamente, si sabemos cómo hacerlo. En este caso, por simplificar las incluiremos en el código."
      ]
    },
    {
      "cell_type": "code",
      "metadata": {
        "id": "D1NA4K_HeJw9",
        "colab_type": "code",
        "colab": {}
      },
      "source": [
        "#https://www.mail-archive.com/floatcanvas@mithis.com/msg00513.html\n",
        "#Marcos Duarte - [EMAIL PROTECTED] - 04dec08\n",
        "\n",
        "import numpy as np\n",
        "\n",
        "def DLTcalib(nd, xyz, uv):\n",
        "    '''\n",
        "    Camera calibration by DLT using known object points and their image points.\n",
        "\n",
        "    This code performs 2D or 3D DLT camera calibration with any number of views (cameras).\n",
        "    For 3D DLT, at least two views (cameras) are necessary.\n",
        "    Inputs:\n",
        "     nd is the number of dimensions of the object space: 3 for 3D DLT and 2 for 2D DLT.\n",
        "     xyz are the coordinates in the object 3D or 2D space of the calibration points.\n",
        "     uv are the coordinates in the image 2D space of these calibration points.\n",
        "     The coordinates (x,y,z and u,v) are given as columns and the different points as rows.\n",
        "     For the 2D DLT (object planar space), only the first 2 columns (x and y) are used.\n",
        "     There must be at least 6 calibration points for the 3D DLT and 4 for the 2D DLT.\n",
        "    Outputs:\n",
        "     L: array of the 8 or 11 parameters of the calibration matrix\n",
        "     err: error of the DLT (mean residual of the DLT transformation in units of camera coordinates).\n",
        "    '''\n",
        "    \n",
        "    #Convert all variables to numpy array:\n",
        "    xyz = np.asarray(xyz)\n",
        "    uv = np.asarray(uv)\n",
        "    #number of points:\n",
        "    npo = xyz.shape[0]\n",
        "    #Check the parameters:\n",
        "    if uv.shape[0] != npo:\n",
        "        raise(ValueError, 'xyz (%d points) and uv (%d points) have different number of points.' %(np, uv.shape[0]))\n",
        "    if (nd == 2 and xyz.shape[1] != 2) or (nd == 3 and xyz.shape[1] != 3):\n",
        "        raise(ValueError, 'Incorrect number of coordinates (%d) for %dD DLT (it should be %d).' %(xyz.shape[1],nd,nd))\n",
        "    if nd == 3 and npo < 6 or nd == 2 and npo < 4:\n",
        "        raise(ValueError, '%dD DLT requires at least %d calibration points. Only %d points were entered.' %(nd, 2*nd, npo))\n",
        "        \n",
        "    #Normalize the data to improve the DLT quality (DLT is dependent of the system of coordinates).\n",
        "    #This is relevant when there is a considerable perspective distortion.\n",
        "    #Normalization: mean position at origin and mean distance equals to 1 at each direction.\n",
        "    Txyz, xyzn = Normalization(nd, xyz)\n",
        "    Tuv, uvn = Normalization(2, uv)\n",
        "\n",
        "    A = []\n",
        "    if nd == 2: #2D DLT\n",
        "        for i in range(npo):\n",
        "            x,y = xyzn[i,0], xyzn[i,1]\n",
        "            u,v = uvn[i,0], uvn[i,1]\n",
        "            A.append( [x, y, 1, 0, 0, 0, -u*x, -u*y, -u] )\n",
        "            A.append( [0, 0, 0, x, y, 1, -v*x, -v*y, -v] )\n",
        "    elif nd == 3: #3D DLT\n",
        "        for i in range(npo):\n",
        "            x,y,z = xyzn[i,0], xyzn[i,1], xyzn[i,2]\n",
        "            u,v = uvn[i,0], uvn[i,1]\n",
        "            A.append( [x, y, z, 1, 0, 0, 0, 0, -u*x, -u*y, -u*z, -u] )\n",
        "            A.append( [0, 0, 0, 0, x, y, z, 1, -v*x, -v*y, -v*z, -v] )\n",
        "\n",
        "    #convert A to array\n",
        "    A = np.asarray(A) \n",
        "    #Find the 11 (or 8 for 2D DLT) parameters:\n",
        "    U, S, Vh = np.linalg.svd(A)\n",
        "    #The parameters are in the last line of Vh and normalize them:\n",
        "    L = Vh[-1,:] / Vh[-1,-1]\n",
        "    #Camera projection matrix:\n",
        "    H = L.reshape(3,nd+1)\n",
        "    #Denormalization:\n",
        "    H = np.dot( np.dot( np.linalg.pinv(Tuv), H ), Txyz );\n",
        "    H = H / H[-1,-1]\n",
        "    L = H.flatten('C') #ponía '0' pero daba warning deprecation\n",
        "    #Mean error of the DLT (mean residual of the DLT transformation in units of camera coordinates):\n",
        "    uv2 = np.dot( H, np.concatenate( (xyz.T, np.ones((1,xyz.shape[0]))) ) ) \n",
        "    uv2 = uv2/uv2[2,:] \n",
        "    #mean distance:\n",
        "    err = np.sqrt( np.mean(np.sum( (uv2[0:2,:].T - uv)**2,1 )) ) \n",
        "\n",
        "    return L, err\n",
        "\n",
        "\n",
        "def DLTrecon(nd, nc, Ls, uvs):\n",
        "    '''\n",
        "    Reconstruction of object point from image point(s) based on the DLT parameters.\n",
        "\n",
        "    This code performs 2D or 3D DLT point reconstruction with any number of views (cameras).\n",
        "    For 3D DLT, at least two views (cameras) are necessary.\n",
        "    Inputs:\n",
        "     nd is the number of dimensions of the object space: 3 for 3D DLT and 2 for 2D DLT.\n",
        "     nc is the number of cameras (views) used.\n",
        "     Ls (array type) are the camera calibration parameters of each camera \n",
        "      (is the output of DLTcalib function). The Ls parameters are given as columns\n",
        "      and the Ls for different cameras as rows.\n",
        "     uvs are the coordinates of the point in the image 2D space of each camera.\n",
        "      The coordinates of the point are given as columns and the different views as rows.\n",
        "    Outputs:\n",
        "     xyz: point coordinates in space\n",
        "    '''\n",
        "    \n",
        "    #Convert Ls to array:\n",
        "    Ls = np.asarray(Ls) \n",
        "    #Check the parameters:\n",
        "    if Ls.ndim ==1 and nc != 1:\n",
        "        raise(ValueError, 'Number of views (%d) and number of sets of camera calibration parameters (1) are different.' %(nc))\n",
        "    if Ls.ndim > 1 and nc != Ls.shape[0]:\n",
        "        raise(ValueError, 'Number of views (%d) and number of sets of camera calibration parameters (%d) are different.' %(nc, Ls.shape[0]))\n",
        "    if nd == 3 and Ls.ndim == 1:\n",
        "        raise(ValueError, 'At least two sets of camera calibration parameters are needed for 3D point reconstruction.')\n",
        "\n",
        "    if nc == 1: #2D and 1 camera (view), the simplest (and fastest) case\n",
        "        #One could calculate inv(H) and input that to the code to speed up things if needed.\n",
        "        Hinv = np.linalg.inv( Ls.reshape(3,3) )\n",
        "        #Point coordinates in space:\n",
        "        xyz = np.dot( Hinv,[uvs[0],uvs[1],1] ) \n",
        "        xyz = xyz[0:2]/xyz[2]       \n",
        "    else:\n",
        "        M = []\n",
        "        for i in range(nc):\n",
        "            L = Ls[i,:]\n",
        "            u,v = uvs[i][0], uvs[i][1] #this indexing works for both list and numpy array\n",
        "            if nd == 2:      \n",
        "                M.append( [L[0]-u*L[6], L[1]-u*L[7], L[2]-u*L[8]] )\n",
        "                M.append( [L[3]-v*L[6], L[4]-v*L[7], L[5]-v*L[8]] )\n",
        "            elif nd == 3:  \n",
        "                M.append( [L[0]-u*L[8], L[1]-u*L[9], L[2]-u*L[10], L[3]-u*L[11]] )\n",
        "                M.append( [L[4]-v*L[8], L[5]-v*L[9], L[6]-v*L[10], L[7]-v*L[11]] )\n",
        "        \n",
        "        #Find the xyz coordinates:\n",
        "        U, S, Vh = np.linalg.svd(np.asarray(M))\n",
        "        #Point coordinates in space:\n",
        "        xyz = Vh[-1,0:-1] / Vh[-1,-1]\n",
        "    \n",
        "    return xyz\n",
        "\n",
        "\n",
        "def Normalization(nd,x):\n",
        "    '''\n",
        "    Normalization of coordinates (centroid to the origin and mean distance of sqrt(2 or 3).\n",
        "\n",
        "    Inputs:\n",
        "     nd: number of dimensions (2 for 2D; 3 for 3D)\n",
        "     x: the data to be normalized (directions at different columns and points at rows)\n",
        "    Outputs:\n",
        "     Tr: the transformation matrix (translation plus scaling)\n",
        "     x: the transformed data\n",
        "    '''\n",
        "\n",
        "    x = np.asarray(x)\n",
        "    m, s = np.mean(x,0), np.std(x)\n",
        "    if nd==2:\n",
        "        Tr = np.array([[s, 0, m[0]], [0, s, m[1]], [0, 0, 1]])\n",
        "    else:\n",
        "        Tr = np.array([[s, 0, 0, m[0]], [0, s, 0, m[1]], [0, 0, s, m[2]], [0, 0, 0, 1]])\n",
        "        \n",
        "    Tr = np.linalg.inv(Tr)\n",
        "    x = np.dot( Tr, np.concatenate( (x.T, np.ones((1,x.shape[0]))) ) )\n",
        "    x = x[0:nd,:].T\n",
        "\n",
        "    return Tr, x\n"
      ],
      "execution_count": null,
      "outputs": []
    },
    {
      "cell_type": "markdown",
      "metadata": {
        "id": "jisyys_NeJxC",
        "colab_type": "text"
      },
      "source": [
        "Ajustamos los nombres de la carpeta donde se encuentran los archivos a tratar."
      ]
    },
    {
      "cell_type": "code",
      "metadata": {
        "id": "8abE9E2veJxD",
        "colab_type": "code",
        "colab": {}
      },
      "source": [
        "carpetaOriginal = r'\\Programas\\Biomecanica\\AnalisisImagen\\Blender\\PruebaTrackMarcadores'\n",
        "nomArchMCTeorico = 'https://raw.githubusercontent.com/joselvira/BiomecanicaPython/master/Datos/EjemploDLT/Salto-MC-Teorico.csv' #archivo con las coordenadas reales del marco de calibración\n",
        "nomArchMCDigit = 'https://raw.githubusercontent.com/joselvira/BiomecanicaPython/master/Datos/EjemploDLT/Salto-MC-Digitalizado.csv' #archivo con las coordenadas digitalizadas del marco de calibración\n",
        "nomMarcadoresDigit = 'https://raw.githubusercontent.com/joselvira/BiomecanicaPython/master/Datos/EjemploDLT/Salto-MarcadoresModelo-Digitalizado.csv' #archivo con las coordenadas digitalizadas de los marcadores\n",
        "separador= ','"
      ],
      "execution_count": null,
      "outputs": []
    },
    {
      "cell_type": "markdown",
      "metadata": {
        "id": "sD7MOk-SeJxI",
        "colab_type": "text"
      },
      "source": [
        "Cargamos el archivo con las coordenadas reales de marco de calibración."
      ]
    },
    {
      "cell_type": "code",
      "metadata": {
        "id": "1dVODbITeJxK",
        "colab_type": "code",
        "colab": {}
      },
      "source": [
        "MCTeorico = pd.read_csv(nomArchMCTeorico, sep=separador) #con values lo pasa directamente a array de numpy"
      ],
      "execution_count": null,
      "outputs": []
    },
    {
      "cell_type": "markdown",
      "metadata": {
        "id": "BzyJrnTOeJxO",
        "colab_type": "text"
      },
      "source": [
        "El archivo tiene esta estructura:"
      ]
    },
    {
      "cell_type": "code",
      "metadata": {
        "id": "JguEa85geJxQ",
        "colab_type": "code",
        "colab": {
          "base_uri": "https://localhost:8080/",
          "height": 173
        },
        "outputId": "9ed039fe-b19f-4091-c169-d6036c4a239d"
      },
      "source": [
        "MCTeorico"
      ],
      "execution_count": null,
      "outputs": [
        {
          "output_type": "execute_result",
          "data": {
            "text/html": [
              "<div>\n",
              "<style scoped>\n",
              "    .dataframe tbody tr th:only-of-type {\n",
              "        vertical-align: middle;\n",
              "    }\n",
              "\n",
              "    .dataframe tbody tr th {\n",
              "        vertical-align: top;\n",
              "    }\n",
              "\n",
              "    .dataframe thead th {\n",
              "        text-align: right;\n",
              "    }\n",
              "</style>\n",
              "<table border=\"1\" class=\"dataframe\">\n",
              "  <thead>\n",
              "    <tr style=\"text-align: right;\">\n",
              "      <th></th>\n",
              "      <th>x</th>\n",
              "      <th>y</th>\n",
              "    </tr>\n",
              "  </thead>\n",
              "  <tbody>\n",
              "    <tr>\n",
              "      <th>0</th>\n",
              "      <td>0</td>\n",
              "      <td>0</td>\n",
              "    </tr>\n",
              "    <tr>\n",
              "      <th>1</th>\n",
              "      <td>0</td>\n",
              "      <td>100</td>\n",
              "    </tr>\n",
              "    <tr>\n",
              "      <th>2</th>\n",
              "      <td>40</td>\n",
              "      <td>100</td>\n",
              "    </tr>\n",
              "    <tr>\n",
              "      <th>3</th>\n",
              "      <td>40</td>\n",
              "      <td>0</td>\n",
              "    </tr>\n",
              "  </tbody>\n",
              "</table>\n",
              "</div>"
            ],
            "text/plain": [
              "    x    y\n",
              "0   0    0\n",
              "1   0  100\n",
              "2  40  100\n",
              "3  40    0"
            ]
          },
          "metadata": {
            "tags": []
          },
          "execution_count": 26
        }
      ]
    },
    {
      "cell_type": "markdown",
      "metadata": {
        "id": "yz9pau4LIZFc",
        "colab_type": "text"
      },
      "source": [
        "En columnas se encuentran las coordenadas x e y de cada punto teórico del marco de calibración. En filas están los puntos que componen el marco de calibración. En este caso son 4 puntos, formados por los extremos de una barra vertical colocada en dos posiciones concretas. La esquina inferior izquierda es el punto (0, 0), la barra tiene una altura de 100 cm, y la misma barra se vuelve a colocar 40 cm a la derecha. De este modo tenemos 4 puntos que forman un rectángulo de 40x100 cm, como se puede ver en la siguiente figura."
      ]
    },
    {
      "cell_type": "code",
      "metadata": {
        "id": "4r-suUnss23v",
        "colab_type": "code",
        "colab": {
          "base_uri": "https://localhost:8080/",
          "height": 421
        },
        "outputId": "2c1d5edc-933d-4799-fc83-02fadf91c6ce"
      },
      "source": [
        "Image(url='https://github.com/joselvira/BiomecanicaPython/raw/master/Datos/EjemploDLT/Blender_DigitalizacionMarcoCalibracion.png', height=400)"
      ],
      "execution_count": 2,
      "outputs": [
        {
          "output_type": "execute_result",
          "data": {
            "text/html": [
              "<img src=\"https://github.com/joselvira/BiomecanicaPython/raw/master/Datos/EjemploDLT/Blender_DigitalizacionMarcoCalibracion.png\" height=\"400\"/>"
            ],
            "text/plain": [
              "<IPython.core.display.Image object>"
            ]
          },
          "metadata": {
            "tags": []
          },
          "execution_count": 2
        }
      ]
    },
    {
      "cell_type": "markdown",
      "metadata": {
        "id": "X7VxUdGos9w_",
        "colab_type": "text"
      },
      "source": [
        "\n",
        "Es importante resaltar que el orden de la definición de las coordenadas del marco de calibración teórico y el de digitalización de sus puntos debe ser el mismo. En este ejemplo el orden es:\n",
        "\n",
        "1-Inferior izquierda (0,0)\n",
        "\n",
        "2-Superior izquierda (0,100)\n",
        "\n",
        "3-Superior derecha (40,100)\n",
        "\n",
        "4-Inferior derecha (40,0)"
      ]
    },
    {
      "cell_type": "markdown",
      "metadata": {
        "id": "vImnMP3NJE_G",
        "colab_type": "text"
      },
      "source": [
        "Podemos crear una gráfica de tipo scatterplot para ver dónde se localizan los puntos."
      ]
    },
    {
      "cell_type": "code",
      "metadata": {
        "id": "NB84gYfSJFge",
        "colab_type": "code",
        "colab": {
          "base_uri": "https://localhost:8080/",
          "height": 296
        },
        "outputId": "b8a42790-f46f-4918-aa84-d8a361337dd4"
      },
      "source": [
        "MCTeorico.plot.scatter('x', 'y')"
      ],
      "execution_count": null,
      "outputs": [
        {
          "output_type": "execute_result",
          "data": {
            "text/plain": [
              "<matplotlib.axes._subplots.AxesSubplot at 0x7f3f0b607470>"
            ]
          },
          "metadata": {
            "tags": []
          },
          "execution_count": 27
        },
        {
          "output_type": "display_data",
          "data": {
            "image/png": "[encoded data removed]",
            "text/plain": [
              "<Figure size 432x288 with 1 Axes>"
            ]
          },
          "metadata": {
            "tags": [],
            "needs_background": "light"
          }
        }
      ]
    },
    {
      "cell_type": "markdown",
      "metadata": {
        "id": "IafXGmdKeJxY",
        "colab_type": "text"
      },
      "source": [
        "Para funcionar con las funciones del DLT necesitamos solo el array numpy, por lo que es mejor transformarlo de esta forma:"
      ]
    },
    {
      "cell_type": "code",
      "metadata": {
        "id": "cIfC-c_KeJxZ",
        "colab_type": "code",
        "colab": {
          "base_uri": "https://localhost:8080/",
          "height": 85
        },
        "outputId": "9c52bf8b-4a16-40b3-965e-10989f964cea"
      },
      "source": [
        "MCTeorico = np.asarray(MCTeorico)\n",
        "MCTeorico"
      ],
      "execution_count": null,
      "outputs": [
        {
          "output_type": "execute_result",
          "data": {
            "text/plain": [
              "array([[  0,   0],\n",
              "       [  0, 100],\n",
              "       [ 40, 100],\n",
              "       [ 40,   0]])"
            ]
          },
          "metadata": {
            "tags": []
          },
          "execution_count": 28
        }
      ]
    },
    {
      "cell_type": "markdown",
      "metadata": {
        "id": "w2csdtwpeJxk",
        "colab_type": "text"
      },
      "source": [
        "Cargamos el archivo con las coordenadas digitalizadas del marco de calibración. Lo hacemos en varios pasos."
      ]
    },
    {
      "cell_type": "code",
      "metadata": {
        "id": "7NyvESlBeJxl",
        "colab_type": "code",
        "colab": {}
      },
      "source": [
        "MCDigit = pd.read_csv(nomArchMCDigit, header= 0, sep=separador, na_values=[' '])"
      ],
      "execution_count": null,
      "outputs": []
    },
    {
      "cell_type": "markdown",
      "metadata": {
        "id": "aRRwJK3aeJxo",
        "colab_type": "text"
      },
      "source": [
        "Normalmente en los archivos del marco de calibración se digitalizan solo unos pocos fotogramas por marcador, por lo que el archivo está lleno de valores vacíos. Para ver sólo las coordenadas, podemos eliminar los valores nan (not a number). Aunque esto no es necesario porque a continuación calcularemos la media de cada marcadore en los fotogramas digitalizados."
      ]
    },
    {
      "cell_type": "code",
      "metadata": {
        "id": "FuaPRuVheJxq",
        "colab_type": "code",
        "colab": {
          "base_uri": "https://localhost:8080/",
          "height": 390
        },
        "outputId": "0386e554-c6b5-4349-e30f-be285f6d1392"
      },
      "source": [
        "MCDigit.iloc[:, 1:].dropna(how='all') #elimina las filas en las que no hay ningún valor numérico"
      ],
      "execution_count": null,
      "outputs": [
        {
          "output_type": "execute_result",
          "data": {
            "text/html": [
              "<div>\n",
              "<style scoped>\n",
              "    .dataframe tbody tr th:only-of-type {\n",
              "        vertical-align: middle;\n",
              "    }\n",
              "\n",
              "    .dataframe tbody tr th {\n",
              "        vertical-align: top;\n",
              "    }\n",
              "\n",
              "    .dataframe thead th {\n",
              "        text-align: right;\n",
              "    }\n",
              "</style>\n",
              "<table border=\"1\" class=\"dataframe\">\n",
              "  <thead>\n",
              "    <tr style=\"text-align: right;\">\n",
              "      <th></th>\n",
              "      <th>InfIzq_x</th>\n",
              "      <th>InfIzq_y</th>\n",
              "      <th>SupIzq_x</th>\n",
              "      <th>SupIzq_y</th>\n",
              "      <th>SupDer_x</th>\n",
              "      <th>SupDer_y</th>\n",
              "      <th>InfDer_x</th>\n",
              "      <th>InfDer_y</th>\n",
              "    </tr>\n",
              "  </thead>\n",
              "  <tbody>\n",
              "    <tr>\n",
              "      <th>1</th>\n",
              "      <td>207.354233</td>\n",
              "      <td>20.035230</td>\n",
              "      <td>204.370010</td>\n",
              "      <td>336.137764</td>\n",
              "      <td>NaN</td>\n",
              "      <td>NaN</td>\n",
              "      <td>NaN</td>\n",
              "      <td>NaN</td>\n",
              "    </tr>\n",
              "    <tr>\n",
              "      <th>2</th>\n",
              "      <td>207.501083</td>\n",
              "      <td>20.102323</td>\n",
              "      <td>204.516861</td>\n",
              "      <td>336.540344</td>\n",
              "      <td>NaN</td>\n",
              "      <td>NaN</td>\n",
              "      <td>NaN</td>\n",
              "      <td>NaN</td>\n",
              "    </tr>\n",
              "    <tr>\n",
              "      <th>3</th>\n",
              "      <td>207.060532</td>\n",
              "      <td>19.833953</td>\n",
              "      <td>203.635757</td>\n",
              "      <td>336.204826</td>\n",
              "      <td>NaN</td>\n",
              "      <td>NaN</td>\n",
              "      <td>NaN</td>\n",
              "      <td>NaN</td>\n",
              "    </tr>\n",
              "    <tr>\n",
              "      <th>4</th>\n",
              "      <td>207.354233</td>\n",
              "      <td>20.035230</td>\n",
              "      <td>203.635757</td>\n",
              "      <td>336.204803</td>\n",
              "      <td>NaN</td>\n",
              "      <td>NaN</td>\n",
              "      <td>NaN</td>\n",
              "      <td>NaN</td>\n",
              "    </tr>\n",
              "    <tr>\n",
              "      <th>5</th>\n",
              "      <td>207.354233</td>\n",
              "      <td>20.035233</td>\n",
              "      <td>204.076294</td>\n",
              "      <td>336.473167</td>\n",
              "      <td>NaN</td>\n",
              "      <td>NaN</td>\n",
              "      <td>NaN</td>\n",
              "      <td>NaN</td>\n",
              "    </tr>\n",
              "    <tr>\n",
              "      <th>602</th>\n",
              "      <td>NaN</td>\n",
              "      <td>NaN</td>\n",
              "      <td>NaN</td>\n",
              "      <td>NaN</td>\n",
              "      <td>309.241638</td>\n",
              "      <td>335.665306</td>\n",
              "      <td>311.924286</td>\n",
              "      <td>19.842509</td>\n",
              "    </tr>\n",
              "    <tr>\n",
              "      <th>603</th>\n",
              "      <td>NaN</td>\n",
              "      <td>NaN</td>\n",
              "      <td>NaN</td>\n",
              "      <td>NaN</td>\n",
              "      <td>309.241638</td>\n",
              "      <td>335.866653</td>\n",
              "      <td>311.924286</td>\n",
              "      <td>19.507047</td>\n",
              "    </tr>\n",
              "    <tr>\n",
              "      <th>604</th>\n",
              "      <td>NaN</td>\n",
              "      <td>NaN</td>\n",
              "      <td>NaN</td>\n",
              "      <td>NaN</td>\n",
              "      <td>308.801086</td>\n",
              "      <td>335.933762</td>\n",
              "      <td>312.071136</td>\n",
              "      <td>19.641232</td>\n",
              "    </tr>\n",
              "    <tr>\n",
              "      <th>605</th>\n",
              "      <td>NaN</td>\n",
              "      <td>NaN</td>\n",
              "      <td>NaN</td>\n",
              "      <td>NaN</td>\n",
              "      <td>308.947937</td>\n",
              "      <td>336.067978</td>\n",
              "      <td>312.071136</td>\n",
              "      <td>19.574139</td>\n",
              "    </tr>\n",
              "    <tr>\n",
              "      <th>606</th>\n",
              "      <td>NaN</td>\n",
              "      <td>NaN</td>\n",
              "      <td>NaN</td>\n",
              "      <td>NaN</td>\n",
              "      <td>309.094788</td>\n",
              "      <td>335.866676</td>\n",
              "      <td>312.217987</td>\n",
              "      <td>19.574139</td>\n",
              "    </tr>\n",
              "    <tr>\n",
              "      <th>607</th>\n",
              "      <td>NaN</td>\n",
              "      <td>NaN</td>\n",
              "      <td>NaN</td>\n",
              "      <td>NaN</td>\n",
              "      <td>308.801086</td>\n",
              "      <td>335.933784</td>\n",
              "      <td>NaN</td>\n",
              "      <td>NaN</td>\n",
              "    </tr>\n",
              "  </tbody>\n",
              "</table>\n",
              "</div>"
            ],
            "text/plain": [
              "       InfIzq_x   InfIzq_y    SupIzq_x  ...    SupDer_y    InfDer_x   InfDer_y\n",
              "1    207.354233  20.035230  204.370010  ...         NaN         NaN        NaN\n",
              "2    207.501083  20.102323  204.516861  ...         NaN         NaN        NaN\n",
              "3    207.060532  19.833953  203.635757  ...         NaN         NaN        NaN\n",
              "4    207.354233  20.035230  203.635757  ...         NaN         NaN        NaN\n",
              "5    207.354233  20.035233  204.076294  ...         NaN         NaN        NaN\n",
              "602         NaN        NaN         NaN  ...  335.665306  311.924286  19.842509\n",
              "603         NaN        NaN         NaN  ...  335.866653  311.924286  19.507047\n",
              "604         NaN        NaN         NaN  ...  335.933762  312.071136  19.641232\n",
              "605         NaN        NaN         NaN  ...  336.067978  312.071136  19.574139\n",
              "606         NaN        NaN         NaN  ...  335.866676  312.217987  19.574139\n",
              "607         NaN        NaN         NaN  ...  335.933784         NaN        NaN\n",
              "\n",
              "[11 rows x 8 columns]"
            ]
          },
          "metadata": {
            "tags": []
          },
          "execution_count": 30
        }
      ]
    },
    {
      "cell_type": "markdown",
      "metadata": {
        "id": "5aQfwIpPeJxu",
        "colab_type": "text"
      },
      "source": [
        "En este caso concreto, se colocaba la barra primero en el lado izquierdo (se digitalizan los puntos inferior izquierdo y superior izquierdo) y después se colocaba en el lado derecho (superior derecho e inferior derecho). En el primer caso se han digitalizado los dos puntos en 5 fotogramas (del 1 al 5), mientras que en el segundo se han digitalizado en 6 fotogramas (del 602 al 607).\n",
        "\n",
        "Si en lugar de utilizar una simple barra como marco de calibración se utiliza una estructura rectangular, todos los puntos del marco de calibración se ven simultáneamente en todos los fotogramas, por lo que se pueden digitalizar todos a la vez en cada fotograma.\n",
        "\n",
        "Es conveniente digitalizar cada punto del modelo del marco de calibración varias veces para minimizar el error de localización y marcado. Posteriormente se calcula el promedio de cada marcador en todos los fotogramas en los que se haya digitalizado y se ordena para que quede con estructura de los marcadores en filas y las coordenadas x e y en columnas."
      ]
    },
    {
      "cell_type": "code",
      "metadata": {
        "id": "yWzf-Y3HeJxv",
        "colab_type": "code",
        "colab": {}
      },
      "source": [
        "#hay que transformar la estructura de filas-frames, columnas marcadores con x e y, a filas-marcadores, columnas x e y\n",
        "MCDigit = MCDigit.iloc[:, 1:].mean() #quita columna frames y hace media de cada columna\n",
        "MCDigit = np.asarray([MCDigit[::2], MCDigit[1::2]]).T #mete en un array las medias de x y de y y las transpone"
      ],
      "execution_count": null,
      "outputs": []
    },
    {
      "cell_type": "markdown",
      "metadata": {
        "id": "mTV86aNAeJxz",
        "colab_type": "text"
      },
      "source": [
        "El archivo tiene esta estructura, que corresponde a coordenadas de pixeles de la imagen."
      ]
    },
    {
      "cell_type": "code",
      "metadata": {
        "id": "Nw26qeoteJx0",
        "colab_type": "code",
        "colab": {
          "base_uri": "https://localhost:8080/",
          "height": 85
        },
        "outputId": "a27a5b06-ba00-449e-9e38-ec085af6219a"
      },
      "source": [
        "MCDigit"
      ],
      "execution_count": null,
      "outputs": [
        {
          "output_type": "execute_result",
          "data": {
            "text/plain": [
              "array([[207.32486267,  20.00839376],\n",
              "       [204.04693604, 336.31218109],\n",
              "       [309.0213623 , 335.88902664],\n",
              "       [312.04176636,  19.62781305]])"
            ]
          },
          "metadata": {
            "tags": []
          },
          "execution_count": 32
        }
      ]
    },
    {
      "cell_type": "markdown",
      "metadata": {
        "id": "gEAnxwRXeJx9",
        "colab_type": "text"
      },
      "source": [
        "Finalmente se cargan las coordenadas de los marcadores digitalizados. Posiblemente los primeros fotogramas salgan vacíos de datos, esto es porque las digitalizaciones empiezan más tarde."
      ]
    },
    {
      "cell_type": "code",
      "metadata": {
        "id": "NMLukZVxeJx_",
        "colab_type": "code",
        "colab": {
          "base_uri": "https://localhost:8080/",
          "height": 224
        },
        "outputId": "4c5dc68d-dc4d-4380-86bc-b4ce57f041f8"
      },
      "source": [
        "ModeloDigit = pd.read_table(nomMarcadoresDigit , header= 0, sep=separador, na_values=[' '])\n",
        "ModeloDigit.head()"
      ],
      "execution_count": null,
      "outputs": [
        {
          "output_type": "execute_result",
          "data": {
            "text/html": [
              "<div>\n",
              "<style scoped>\n",
              "    .dataframe tbody tr th:only-of-type {\n",
              "        vertical-align: middle;\n",
              "    }\n",
              "\n",
              "    .dataframe tbody tr th {\n",
              "        vertical-align: top;\n",
              "    }\n",
              "\n",
              "    .dataframe thead th {\n",
              "        text-align: right;\n",
              "    }\n",
              "</style>\n",
              "<table border=\"1\" class=\"dataframe\">\n",
              "  <thead>\n",
              "    <tr style=\"text-align: right;\">\n",
              "      <th></th>\n",
              "      <th>frame</th>\n",
              "      <th>Cadera_x</th>\n",
              "      <th>Cadera_y</th>\n",
              "      <th>Rodilla_x</th>\n",
              "      <th>Rodilla_y</th>\n",
              "      <th>Tobillo_x</th>\n",
              "      <th>Tobillo_y</th>\n",
              "      <th>Talon_x</th>\n",
              "      <th>Talon_y</th>\n",
              "      <th>Meta_x</th>\n",
              "      <th>Meta_y</th>\n",
              "    </tr>\n",
              "  </thead>\n",
              "  <tbody>\n",
              "    <tr>\n",
              "      <th>0</th>\n",
              "      <td>0</td>\n",
              "      <td>NaN</td>\n",
              "      <td>NaN</td>\n",
              "      <td>NaN</td>\n",
              "      <td>NaN</td>\n",
              "      <td>NaN</td>\n",
              "      <td>NaN</td>\n",
              "      <td>NaN</td>\n",
              "      <td>NaN</td>\n",
              "      <td>NaN</td>\n",
              "      <td>NaN</td>\n",
              "    </tr>\n",
              "    <tr>\n",
              "      <th>1</th>\n",
              "      <td>1</td>\n",
              "      <td>NaN</td>\n",
              "      <td>NaN</td>\n",
              "      <td>NaN</td>\n",
              "      <td>NaN</td>\n",
              "      <td>NaN</td>\n",
              "      <td>NaN</td>\n",
              "      <td>NaN</td>\n",
              "      <td>NaN</td>\n",
              "      <td>NaN</td>\n",
              "      <td>NaN</td>\n",
              "    </tr>\n",
              "    <tr>\n",
              "      <th>2</th>\n",
              "      <td>2</td>\n",
              "      <td>NaN</td>\n",
              "      <td>NaN</td>\n",
              "      <td>NaN</td>\n",
              "      <td>NaN</td>\n",
              "      <td>NaN</td>\n",
              "      <td>NaN</td>\n",
              "      <td>NaN</td>\n",
              "      <td>NaN</td>\n",
              "      <td>NaN</td>\n",
              "      <td>NaN</td>\n",
              "    </tr>\n",
              "    <tr>\n",
              "      <th>3</th>\n",
              "      <td>3</td>\n",
              "      <td>NaN</td>\n",
              "      <td>NaN</td>\n",
              "      <td>NaN</td>\n",
              "      <td>NaN</td>\n",
              "      <td>NaN</td>\n",
              "      <td>NaN</td>\n",
              "      <td>NaN</td>\n",
              "      <td>NaN</td>\n",
              "      <td>NaN</td>\n",
              "      <td>NaN</td>\n",
              "    </tr>\n",
              "    <tr>\n",
              "      <th>4</th>\n",
              "      <td>4</td>\n",
              "      <td>NaN</td>\n",
              "      <td>NaN</td>\n",
              "      <td>NaN</td>\n",
              "      <td>NaN</td>\n",
              "      <td>NaN</td>\n",
              "      <td>NaN</td>\n",
              "      <td>NaN</td>\n",
              "      <td>NaN</td>\n",
              "      <td>NaN</td>\n",
              "      <td>NaN</td>\n",
              "    </tr>\n",
              "  </tbody>\n",
              "</table>\n",
              "</div>"
            ],
            "text/plain": [
              "   frame  Cadera_x  Cadera_y  Rodilla_x  ...  Talon_x  Talon_y  Meta_x  Meta_y\n",
              "0      0       NaN       NaN        NaN  ...      NaN      NaN     NaN     NaN\n",
              "1      1       NaN       NaN        NaN  ...      NaN      NaN     NaN     NaN\n",
              "2      2       NaN       NaN        NaN  ...      NaN      NaN     NaN     NaN\n",
              "3      3       NaN       NaN        NaN  ...      NaN      NaN     NaN     NaN\n",
              "4      4       NaN       NaN        NaN  ...      NaN      NaN     NaN     NaN\n",
              "\n",
              "[5 rows x 11 columns]"
            ]
          },
          "metadata": {
            "tags": []
          },
          "execution_count": 33
        }
      ]
    },
    {
      "cell_type": "markdown",
      "metadata": {
        "id": "YwmWcHL1eJyG",
        "colab_type": "text"
      },
      "source": [
        "Como después nos vendrá bien, nos quedamos con los nombres de los marcadores"
      ]
    },
    {
      "cell_type": "code",
      "metadata": {
        "id": "Lfxp29DxeJyI",
        "colab_type": "code",
        "colab": {
          "base_uri": "https://localhost:8080/",
          "height": 34
        },
        "outputId": "ecd5f2b2-1818-48e9-89a0-09d4612e4841"
      },
      "source": [
        "nomMarcadores = [x[:-2] for x in ModeloDigit.iloc[:, 1::2].columns] #se queda con el nombre de los marcadores\n",
        "nomMarcadores"
      ],
      "execution_count": null,
      "outputs": [
        {
          "output_type": "execute_result",
          "data": {
            "text/plain": [
              "['Cadera', 'Rodilla', 'Tobillo', 'Talon', 'Meta']"
            ]
          },
          "metadata": {
            "tags": []
          },
          "execution_count": 34
        }
      ]
    },
    {
      "cell_type": "markdown",
      "metadata": {
        "id": "xkT-n8wFeJyN",
        "colab_type": "text"
      },
      "source": [
        "Para poder operar con las funciones del DLT, se quita la primera columna (frames) y se deja como array de numpy."
      ]
    },
    {
      "cell_type": "code",
      "metadata": {
        "id": "4ryJQg9QeJyO",
        "colab_type": "code",
        "colab": {
          "base_uri": "https://localhost:8080/",
          "height": 238
        },
        "outputId": "4c101b65-4cc2-4d34-e3d9-4afb08386353"
      },
      "source": [
        "ModeloDigit = ModeloDigit.iloc[:, 1:].values #quita columna frames y lo hace numpy\n",
        "ModeloDigit"
      ],
      "execution_count": null,
      "outputs": [
        {
          "output_type": "execute_result",
          "data": {
            "text/plain": [
              "array([[         nan,          nan,          nan, ...,          nan,\n",
              "                 nan,          nan],\n",
              "       [         nan,          nan,          nan, ...,          nan,\n",
              "                 nan,          nan],\n",
              "       [         nan,          nan,          nan, ...,          nan,\n",
              "                 nan,          nan],\n",
              "       ...,\n",
              "       [252.40542603, 261.87100983, 249.68392944, ...,  28.10670948,\n",
              "        270.14099121,  18.70313215],\n",
              "       [252.36895752, 261.83530426, 249.67323303, ...,  28.09943676,\n",
              "        270.13189697,  18.70953941],\n",
              "       [252.33334351, 261.80065155, 249.75402832, ...,  28.10488129,\n",
              "        270.12280273,  18.71594667]])"
            ]
          },
          "metadata": {
            "tags": []
          },
          "execution_count": 35
        }
      ]
    },
    {
      "cell_type": "markdown",
      "metadata": {
        "id": "cGcm-p5YeJyS",
        "colab_type": "text"
      },
      "source": [
        "A continuación se muestran las coordenadas de los marcadores digitalizados, en series temporales y como plano. Nótese que de momento están en coordenadas de píxeles de la imagen."
      ]
    },
    {
      "cell_type": "code",
      "metadata": {
        "id": "4a8Ks3ebeJyT",
        "colab_type": "code",
        "colab": {
          "base_uri": "https://localhost:8080/",
          "height": 356
        },
        "outputId": "7077b56a-ca8f-4da0-d892-8c5ad88ea5db"
      },
      "source": [
        "fig, ax = plt.subplots(1, 2, figsize=(10,5), gridspec_kw = {'width_ratios':[2.5, 1.5]})\n",
        "#Gráfica de cada marcador en series temporales\n",
        "ax[0].plot(ModeloDigit)\n",
        "\n",
        "#Puntos de referencia del marco de calibración\n",
        "ax[1].plot(MCDigit[:,0], MCDigit[:,1], 'bo', label='MC')\n",
        "\n",
        "#Gráfica del desplazamiento de cada marcador en el plano\n",
        "for h in range(0, ModeloDigit.shape[1], 2):\n",
        "    ax[1].plot(ModeloDigit[:,h], ModeloDigit[:,h+1], alpha=0.6, label='{}'.format(nomMarcadores[h//2]))\n",
        "ax[1].legend()\n",
        "\n",
        "plt.suptitle('Coordenadas de digitalización de los marcadores en píxeles del vídeo')\n",
        "plt.show()"
      ],
      "execution_count": null,
      "outputs": [
        {
          "output_type": "display_data",
          "data": {
            "image/png": "[encoded data removed]",
            "text/plain": [
              "<Figure size 720x360 with 2 Axes>"
            ]
          },
          "metadata": {
            "tags": [],
            "needs_background": "light"
          }
        }
      ]
    },
    {
      "cell_type": "markdown",
      "metadata": {
        "id": "UtYnzM_meJyX",
        "colab_type": "text"
      },
      "source": [
        "## Empieza a calcular la DLT\n",
        "\n",
        "A continuación se realiza el proceso de reconstrucción de las coordenadas digitalizadas con los parámetros DLT calculados anteriormente, para obtener las coordenadas en distancia real."
      ]
    },
    {
      "cell_type": "code",
      "metadata": {
        "id": "LTzI61AzeJyY",
        "colab_type": "code",
        "colab": {}
      },
      "source": [
        "nd=2 #nº dimensiones\n",
        "nc=1 #nº cámaras\n",
        "\n",
        "#calcula parámetros de calibración\n",
        "L1, err1 = DLTcalib(nd, MCTeorico, MCDigit)\n",
        "\n",
        "#Reconstruye las coordenadas punto por punto\n",
        "ModeloReconst = np.zeros((len(ModeloDigit), ModeloDigit.shape[1]))\n",
        "for h in range(0, ModeloDigit.shape[1], 2):\n",
        "    for i in range(len(ModeloDigit)):\n",
        "        ModeloReconst[i, h:h+2] = DLTrecon( nd, nc, L1, ModeloDigit[i, h:h+2])"
      ],
      "execution_count": null,
      "outputs": []
    },
    {
      "cell_type": "markdown",
      "metadata": {
        "id": "UtkerToyeJyb",
        "colab_type": "text"
      },
      "source": [
        "Finalmente muestra las coordenadas reconstruidas junto con los marcadores reales del marco de calibración. "
      ]
    },
    {
      "cell_type": "code",
      "metadata": {
        "id": "CjnoNF0veJyc",
        "colab_type": "code",
        "colab": {
          "base_uri": "https://localhost:8080/",
          "height": 336
        },
        "outputId": "3d6c6dcd-569a-4c7e-d601-171bd35d7cfc"
      },
      "source": [
        "fig, ax = plt.subplots(figsize=(5,5)) \n",
        "#representa los marcadores del marco de calibración\n",
        "plt.plot(MCTeorico[:,0], MCTeorico[:,1], 'bo', alpha=0.6, label='MC')\n",
        "\n",
        "#Representa las trayectorias de los marcadores del modelo\n",
        "for h in range(0, ModeloReconst.shape[1], 2):\n",
        "    plt.plot(ModeloReconst[:,h], ModeloReconst[:,h+1], alpha=0.6, label='{}'.format(nomMarcadores[h//2]))\n",
        "\n",
        "ax.axis('equal') #hace que se vea en la misma proporción los ejes x e y\n",
        "plt.legend()\n",
        "plt.title('Comparación MC real y reconstruido')\n",
        "plt.show()"
      ],
      "execution_count": null,
      "outputs": [
        {
          "output_type": "display_data",
          "data": {
            "image/png": "[encoded data removed]",
            "text/plain": [
              "<Figure size 360x360 with 1 Axes>"
            ]
          },
          "metadata": {
            "tags": [],
            "needs_background": "light"
          }
        }
      ]
    }
  ]
}