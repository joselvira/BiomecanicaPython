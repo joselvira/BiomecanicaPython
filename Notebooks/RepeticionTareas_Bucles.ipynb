{
  "nbformat": 4,
  "nbformat_minor": 0,
  "metadata": {
    "colab": {
      "name": "RepeticionTareas-Bucles.ipynb",
      "provenance": [],
      "collapsed_sections": [
        "VKOHSWFwgTI3",
        "7UhHeKP5geI-",
        "SfPrejEjgmlf",
        "5JBOEwaogrJ2",
        "65yX3F94gxPy"
      ],
      "toc_visible": true,
      "include_colab_link": true
    },
    "kernelspec": {
      "name": "python3",
      "display_name": "Python 3"
    }
  },
  "cells": [
    {
      "cell_type": "markdown",
      "metadata": {
        "id": "view-in-github",
        "colab_type": "text"
      },
      "source": [
        "<a href=\"https://colab.research.google.com/github/joselvira/BiomecanicaPython/blob/master/Notebooks/RepeticionTareas_Bucles.ipynb\" target=\"_parent\"><img src=\"https://colab.research.google.com/assets/colab-badge.svg\" alt=\"Open In Colab\"/></a>"
      ]
    },
    {
      "cell_type": "markdown",
      "metadata": {
        "id": "jnX0Nvo2cSru"
      },
      "source": [
        "# Repetición de tareas. Los bucles\n",
        "Con frecuencia es necesario repetir operaciones un número determinado de veces. Para eso en programaión se usan los bucles. En python se utilizan básicamente dos tipos de bucles: *for* y *while*.\n"
      ]
    },
    {
      "cell_type": "markdown",
      "metadata": {
        "id": "0FvO66Wsc0-n"
      },
      "source": [
        "## Bucles for\n",
        "Se utiliza el bucle for cuando sabemos de antemano cuántas veces hay que repetir un trozo de código."
      ]
    },
    {
      "cell_type": "code",
      "metadata": {
        "id": "qPob_ZrxcHsl",
        "colab": {
          "base_uri": "https://localhost:8080/"
        },
        "outputId": "35d67818-c7fd-47d3-d06a-1c2c782c2846"
      },
      "source": [
        "for i in range(10):\n",
        "  x=i**3\n",
        "  print('Esta es la repetición nº', i, 'x=', x)\n"
      ],
      "execution_count": null,
      "outputs": [
        {
          "output_type": "stream",
          "text": [
            "Esta es la repetición nº 0 x= 0\n",
            "Esta es la repetición nº 1 x= 1\n",
            "Esta es la repetición nº 2 x= 8\n",
            "Esta es la repetición nº 3 x= 27\n",
            "Esta es la repetición nº 4 x= 64\n",
            "Esta es la repetición nº 5 x= 125\n",
            "Esta es la repetición nº 6 x= 216\n",
            "Esta es la repetición nº 7 x= 343\n",
            "Esta es la repetición nº 8 x= 512\n",
            "Esta es la repetición nº 9 x= 729\n"
          ],
          "name": "stdout"
        }
      ]
    },
    {
      "cell_type": "markdown",
      "metadata": {
        "id": "hJivL3jjfbOn"
      },
      "source": [
        "En la función *range()* podemos especificar de qué número a qué número queremos que vaya."
      ]
    },
    {
      "cell_type": "code",
      "metadata": {
        "id": "SA5RRfQ3fjvB",
        "colab": {
          "base_uri": "https://localhost:8080/"
        },
        "outputId": "93d6dafe-bfa5-4106-c073-14c97a9ad224"
      },
      "source": [
        "for i in range(12,23):\n",
        "  print('Esta es la repetición nº', i)"
      ],
      "execution_count": null,
      "outputs": [
        {
          "output_type": "stream",
          "name": "stdout",
          "text": [
            "Esta es la repetición nº 12\n",
            "Esta es la repetición nº 13\n",
            "Esta es la repetición nº 14\n",
            "Esta es la repetición nº 15\n",
            "Esta es la repetición nº 16\n",
            "Esta es la repetición nº 17\n",
            "Esta es la repetición nº 18\n",
            "Esta es la repetición nº 19\n",
            "Esta es la repetición nº 20\n",
            "Esta es la repetición nº 21\n",
            "Esta es la repetición nº 22\n"
          ]
        }
      ]
    },
    {
      "cell_type": "markdown",
      "source": [
        "Incluso se puede determinar el rango y especificar si queremos que se salte datos intermedios."
      ],
      "metadata": {
        "id": "C3p6ikgxeHcm"
      }
    },
    {
      "cell_type": "code",
      "source": [
        "for i in range(12,23, 3): #recorre del 12 al 23 saltando de 3 en 3\n",
        "  print('Esta es la repetición nº', i)"
      ],
      "metadata": {
        "colab": {
          "base_uri": "https://localhost:8080/"
        },
        "id": "Oz4WN632eY3p",
        "outputId": "e7833f36-e3fb-496b-c0ab-585f42b749c8"
      },
      "execution_count": null,
      "outputs": [
        {
          "output_type": "stream",
          "name": "stdout",
          "text": [
            "Esta es la repetición nº 12\n",
            "Esta es la repetición nº 15\n",
            "Esta es la repetición nº 18\n",
            "Esta es la repetición nº 21\n"
          ]
        }
      ]
    },
    {
      "cell_type": "markdown",
      "metadata": {
        "id": "kAjkdWQDfuB3"
      },
      "source": [
        "Podemos hacer iteraciones por los elementos de una lista teniendo en cuenta su posición en la lista."
      ]
    },
    {
      "cell_type": "code",
      "metadata": {
        "id": "ZqDp-6OdO_Vr",
        "colab": {
          "base_uri": "https://localhost:8080/"
        },
        "outputId": "13da502c-9732-4eb4-e8ab-6b6cac0b44be"
      },
      "source": [
        "nombres=['sujeto1', 'sujeto2', 'sujeto3', 'sujeto4', 'sujeto5', 'sujeto6', 'sujeto7']\n",
        "len(nombres)"
      ],
      "execution_count": null,
      "outputs": [
        {
          "output_type": "execute_result",
          "data": {
            "text/plain": [
              "7"
            ]
          },
          "metadata": {
            "tags": []
          },
          "execution_count": 7
        }
      ]
    },
    {
      "cell_type": "code",
      "metadata": {
        "id": "FVxO0wbOdM_P",
        "colab": {
          "base_uri": "https://localhost:8080/"
        },
        "outputId": "b5794533-3807-4031-ae75-2153477762e5"
      },
      "source": [
        "nombres=['sujeto1', 'sujeto2', 'sujeto3', 'sujeto4', 'sujeto5']\n",
        "for i in range(len(nombres)):\n",
        "  print(nombres[i])"
      ],
      "execution_count": null,
      "outputs": [
        {
          "output_type": "stream",
          "text": [
            "sujeto1\n",
            "sujeto2\n",
            "sujeto3\n",
            "sujeto4\n",
            "sujeto5\n"
          ],
          "name": "stdout"
        }
      ]
    },
    {
      "cell_type": "markdown",
      "metadata": {
        "id": "yHw5BJJoflpo"
      },
      "source": [
        "Pero también podemos hacer iteraciones directamente sobre los elementos de la lista."
      ]
    },
    {
      "cell_type": "code",
      "metadata": {
        "id": "NS1mPWTBdXH7",
        "colab": {
          "base_uri": "https://localhost:8080/"
        },
        "outputId": "42f83980-ade6-4756-9a98-348de3033e55"
      },
      "source": [
        "nombres=['sujeto1', 'sujeto2', 'sujeto3', 'sujeto4', 'sujeto5']\n",
        "for nom in nombres:\n",
        "  print(nom)"
      ],
      "execution_count": null,
      "outputs": [
        {
          "output_type": "stream",
          "text": [
            "sujeto1\n",
            "sujeto2\n",
            "sujeto3\n",
            "sujeto4\n",
            "sujeto5\n"
          ],
          "name": "stdout"
        }
      ]
    },
    {
      "cell_type": "markdown",
      "metadata": {
        "id": "qygzV-HKdeXT"
      },
      "source": [
        "Por ejemplo, tenemos unos datos que corresponden a tiempos de vuelo y queremos calcular la altura en cada salto. Tenemos que repetir la misma ecuación en cada dato de la lista de tiempos de vuelo. Un bucle for nos simplifica la tarea."
      ]
    },
    {
      "cell_type": "code",
      "metadata": {
        "id": "cB5OqFAxdgn_",
        "colab": {
          "base_uri": "https://localhost:8080/"
        },
        "outputId": "bb99e288-9b3c-4606-b75d-be01e1874f61"
      },
      "source": [
        "tv=[0.476, 0.381, 0.534, 0.486, 0.397]\n",
        "h=[]\n",
        "\n",
        "g=9.8\n",
        "for t in tv: \n",
        "  h1=g*t**2/8 \n",
        "  h.append(h1) #añade a la lista h un nuevo valor, el resultado de la operación\n",
        "  \n",
        "print(\"Resultado del procesamiento: \\n\", h)\n"
      ],
      "execution_count": null,
      "outputs": [
        {
          "output_type": "stream",
          "name": "stdout",
          "text": [
            "Resultado del procesamiento: \n",
            " [0.2775556, 0.17782222500000003, 0.3493161000000001, 0.2893401, 0.19307102500000003]\n"
          ]
        }
      ]
    },
    {
      "cell_type": "markdown",
      "metadata": {
        "id": "o8hTZbnydu8T"
      },
      "source": [
        "También se pueden anidar bucles for:"
      ]
    },
    {
      "cell_type": "code",
      "metadata": {
        "id": "ETC1xc_3dvaK",
        "colab": {
          "base_uri": "https://localhost:8080/"
        },
        "outputId": "7fc2caae-1c11-4c74-922f-481de7d6a37d"
      },
      "source": [
        "cols=3\n",
        "filas=5\n",
        "for h in range(cols):\n",
        "  for i in range(filas):\n",
        "    print('Columna ', h, ', fila ', i)\n"
      ],
      "execution_count": null,
      "outputs": [
        {
          "output_type": "stream",
          "text": [
            "Columna  0 , fila  0\n",
            "Columna  0 , fila  1\n",
            "Columna  0 , fila  2\n",
            "Columna  0 , fila  3\n",
            "Columna  0 , fila  4\n",
            "Columna  1 , fila  0\n",
            "Columna  1 , fila  1\n",
            "Columna  1 , fila  2\n",
            "Columna  1 , fila  3\n",
            "Columna  1 , fila  4\n",
            "Columna  2 , fila  0\n",
            "Columna  2 , fila  1\n",
            "Columna  2 , fila  2\n",
            "Columna  2 , fila  3\n",
            "Columna  2 , fila  4\n"
          ],
          "name": "stdout"
        }
      ]
    },
    {
      "cell_type": "markdown",
      "metadata": {
        "id": "Mda64Xfxd485"
      },
      "source": [
        "Se pueden juntar bucles con condicionales. En este ejemplo se crean números aleatorios entre 0 y 1. Se comprueba si cada número es mayor o menor que 0.5, y en función de eso se redondea a 0 o a 1."
      ]
    },
    {
      "cell_type": "code",
      "metadata": {
        "id": "BHGyzVfgd5ib",
        "colab": {
          "base_uri": "https://localhost:8080/"
        },
        "outputId": "99f93fcf-3114-4150-cf1b-f138a8f29d8d"
      },
      "source": [
        "import numpy as np #librería muy potente de tratamiento de datos\n",
        "\n",
        "numTiradas=5\n",
        "for i in range(numTiradas):\n",
        "    x=np.random.rand()\n",
        "    if x>=0.8:\n",
        "        resultado=1.0\n",
        "    elif x>=0.3 and x<0.8:\n",
        "        resultado=0.5\n",
        "    else:\n",
        "        resultado=0.0\n",
        "    \n",
        "    print(f'Aleatorio= {x:.3f},  redondeado= {resultado:.1f}') #de esta forma podemos controlar el nº de decimales que imprime en cada cadena de texto"
      ],
      "execution_count": null,
      "outputs": [
        {
          "output_type": "stream",
          "name": "stdout",
          "text": [
            "Aleatorio= 0.297,  redondeado= 0.0\n",
            "Aleatorio= 0.322,  redondeado= 0.5\n",
            "Aleatorio= 0.847,  redondeado= 1.0\n",
            "Aleatorio= 0.156,  redondeado= 0.0\n",
            "Aleatorio= 0.437,  redondeado= 0.5\n"
          ]
        }
      ]
    },
    {
      "cell_type": "markdown",
      "metadata": {
        "id": "Ca87hW9_eaRr"
      },
      "source": [
        "## Bucles While\n",
        "El bucle while puede funcionar parecido al for, pero es más adecuado cuando no sabemos a priori cuántas veces hay que repetir un proceso."
      ]
    },
    {
      "cell_type": "code",
      "metadata": {
        "id": "a3ZHuwIsea5o",
        "colab": {
          "base_uri": "https://localhost:8080/"
        },
        "outputId": "29c870da-2705-46bf-c9f7-97739dab332d"
      },
      "source": [
        "maximo=input('Introduce un número del 1 al 10:')\n",
        "maximo =int(maximo)\n",
        "x=0\n",
        "while x<maximo:\n",
        "    print(x)\n",
        "    x=x+1"
      ],
      "execution_count": null,
      "outputs": [
        {
          "output_type": "stream",
          "name": "stdout",
          "text": [
            "Introduce un número del 1 al 10:4\n",
            "0\n",
            "1\n",
            "2\n",
            "3\n"
          ]
        }
      ]
    },
    {
      "cell_type": "markdown",
      "metadata": {
        "id": "fWA4asZpfQRr"
      },
      "source": [
        "Ejemplo conociendo de antemano un listado.\n",
        "Queremos que busque de principio a final de la lista y se pare cuando encuentre un nº 7 dentro del listado."
      ]
    },
    {
      "cell_type": "code",
      "metadata": {
        "id": "UGvlK9QufQyA",
        "colab": {
          "base_uri": "https://localhost:8080/"
        },
        "outputId": "1d7c0a6d-a341-4d4d-b2f7-b2e73281d92c"
      },
      "source": [
        "aleatorio=[3,5,6,5,4,7,6,8,7,6,5,6,7,9,2,3,2,6]\n",
        "contador=0 #variable de ayuda para contar cuántas veces repite el bucle while\n",
        "\n",
        "while aleatorio[contador]!=7:\n",
        "    print(aleatorio[contador])\n",
        "    contador+=1\n",
        "\n",
        "print('He encontrado un 7 en la posición ', contador)"
      ],
      "execution_count": null,
      "outputs": [
        {
          "output_type": "stream",
          "name": "stdout",
          "text": [
            "3\n",
            "5\n",
            "6\n",
            "5\n",
            "4\n",
            "He encontrado un 7 en la posición  5\n"
          ]
        }
      ]
    },
    {
      "cell_type": "markdown",
      "metadata": {
        "id": "ES6xQFClfkrW"
      },
      "source": [
        "# EJERCICIO\n",
        "Intenta hacer lo mismo que en el ejemplo anterior, pero creando números aleatorios entre 0 y 100 y que pare cuando el número sea **>90**"
      ]
    },
    {
      "cell_type": "markdown",
      "metadata": {
        "id": "VKOHSWFwgTI3"
      },
      "source": [
        "## SOLUCIÓN"
      ]
    },
    {
      "cell_type": "code",
      "metadata": {
        "id": "uDij2C8RkZ0A",
        "colab": {
          "base_uri": "https://localhost:8080/"
        },
        "outputId": "09bb6279-8f1a-4f4d-ea44-c49a9dddd705"
      },
      "source": [
        "import numpy as np\n",
        "#ejemplo para crear un nº entero aleatorio entre o y 100\n",
        "np.random.randint(0,100)\n",
        "\n",
        "contador=0\n",
        "\n",
        "x=np.random.randint(0,100) #ejemplo para crear un nº aleatorio entro 0 y 100\n",
        "while x<=90:\n",
        "    print(x)\n",
        "    contador+=1\n",
        "    x=np.random.randint(0,100)\n",
        "\n",
        "print('Ha encontrado un nº > 90 en el intento ', contador+1)"
      ],
      "execution_count": null,
      "outputs": [
        {
          "output_type": "stream",
          "name": "stdout",
          "text": [
            "Ha encontrado un nº > 90 en el intento  1\n"
          ]
        }
      ]
    },
    {
      "cell_type": "markdown",
      "metadata": {
        "id": "awth3nrMf6fD"
      },
      "source": [
        "# EJERCICIO\n",
        "Intenta recrear los primeros números de la secuencia de Fibonacci. La secuencia empieza con los números 0 y 1, y después va añadiendo números sumando los dos anteriores: 0, 1, 1, 2, 3, 5, 8,...\n",
        "Primero hazlo con los 10 primeros números, después deja que sea el usuario el que introduza cuántos primeros números.\n",
        "\n",
        "Intenta después incluir en el bucle que calcule el número áureo, que resulta de dividir dos números consecutivos de la secuencia.\n"
      ]
    },
    {
      "cell_type": "code",
      "metadata": {
        "id": "0g0fRqYCgoqb"
      },
      "source": [
        "import numpy as np\n",
        "\n",
        "#La secuencia empieza con estos dos números en la lista\n",
        "secuencia=[0,1]"
      ],
      "execution_count": null,
      "outputs": []
    },
    {
      "cell_type": "markdown",
      "metadata": {
        "id": "7UhHeKP5geI-"
      },
      "source": [
        "## SOLUCIÓN"
      ]
    },
    {
      "cell_type": "code",
      "metadata": {
        "id": "MvJycUTCkxQd",
        "colab": {
          "base_uri": "https://localhost:8080/"
        },
        "outputId": "b26c423f-9bae-4d66-a38d-aaae6f3a8157"
      },
      "source": [
        "#SOLUCIÓN con bucle for\n",
        "import numpy as np\n",
        "\n",
        "secuencia=[0,1]\n",
        "for i in range(10):\n",
        "    secuencia.append(secuencia[-2] + secuencia[-1])\n",
        "print(secuencia)"
      ],
      "execution_count": 21,
      "outputs": [
        {
          "output_type": "stream",
          "name": "stdout",
          "text": [
            "[0, 1, 1, 2, 3, 5, 8, 13, 21, 34, 55, 89]\n"
          ]
        }
      ]
    },
    {
      "cell_type": "code",
      "metadata": {
        "id": "Bo2B8GlQlT1t",
        "colab": {
          "base_uri": "https://localhost:8080/"
        },
        "outputId": "f2acd316-c5f7-432c-c52e-a9bba27bcf07"
      },
      "source": [
        "#SOLUCIÓN con bucle for calculando nº áureo\n",
        "import numpy as np\n",
        "\n",
        "iteraciones=input('Introduce el número de iteraciones:')\n",
        "iteraciones=int(iteraciones)\n",
        "secuencia=[0,1]\n",
        "numAureo=[]\n",
        "for i in range(iteraciones-1):\n",
        "    secuencia.append(secuencia[-1]+secuencia[-2])\n",
        "    numAureo.append(secuencia[-1]/secuencia[-2])\n",
        "\n",
        "print(secuencia)\n",
        "print(u'Número áureo calculado:', numAureo[-1])\n",
        "print(u'Número áureo teórico (1+raiz5)/2:', (1+np.sqrt(5))/2)"
      ],
      "execution_count": 22,
      "outputs": [
        {
          "output_type": "stream",
          "name": "stdout",
          "text": [
            "Introduce el número de iteraciones:10\n",
            "[0, 1, 1, 2, 3, 5, 8, 13, 21, 34, 55]\n",
            "Número áureo calculado: 1.6176470588235294\n",
            "Número áureo teórico (1+raiz5)/2: 1.618033988749895\n"
          ]
        }
      ]
    },
    {
      "cell_type": "code",
      "metadata": {
        "id": "I1LJp0p6kiYp",
        "colab": {
          "base_uri": "https://localhost:8080/"
        },
        "outputId": "653e6680-ea8d-4cba-8388-b8060c5a8366"
      },
      "source": [
        "#SOLUCIÓN con bucle while\n",
        "import numpy as np\n",
        "\n",
        "#La secuencia empieza con estos dos números en la lista\n",
        "secuencia=[0,1]\n",
        "\n",
        "iteraciones=10\n",
        "numAureo=[]\n",
        "while len(secuencia)<iteraciones:\n",
        "    secuencia.append(secuencia[-1]+secuencia[-2])\n",
        "    numAureo.append(secuencia[-1]/secuencia[-2])\n",
        "\n",
        "print(secuencia)\n",
        "print(u'Número áureo calculado:', numAureo[-1])\n",
        "print(u'Número áureo teórico (1+raiz5)/2:', (1+np.sqrt(5))/2)"
      ],
      "execution_count": 23,
      "outputs": [
        {
          "output_type": "stream",
          "name": "stdout",
          "text": [
            "[0, 1, 1, 2, 3, 5, 8, 13, 21, 34]\n",
            "Número áureo calculado: 1.619047619047619\n",
            "Número áureo teórico (1+raiz5)/2: 1.618033988749895\n"
          ]
        }
      ]
    },
    {
      "cell_type": "markdown",
      "metadata": {
        "id": "oGm08cpfhb7b"
      },
      "source": [
        "# Para detener los bucles en cualquier momento\n",
        "\n",
        "Dentro de los bucles *for*, en cualquier momento se puede terminar el bucle y salirse de él completamente (con la instrucción *break*) o pasar a la siguiente iteración (*continue*) sin salirse del bucle.\n"
      ]
    },
    {
      "cell_type": "code",
      "metadata": {
        "id": "lo4XMlOohcaH",
        "colab": {
          "base_uri": "https://localhost:8080/"
        },
        "outputId": "f049ab17-6947-4808-eaba-a66f877d27e5"
      },
      "source": [
        "import numpy as np\n",
        "for i in range(30):\n",
        "    x=np.random.rand() #crea un nº aleatorio de 0 a 1\n",
        "    if x>0.9:\n",
        "        print('Encontrado un > 0.9 ',x,'al intento nº', i+1)\n",
        "        break #probar quitar el break\n",
        "print('Nº de iteraciones totales hechas: ', i+1)"
      ],
      "execution_count": null,
      "outputs": [
        {
          "output_type": "stream",
          "text": [
            "Encontrado un > 0.9  0.9858699295178558 al intento nº 2\n",
            "Nº de iteraciones totales hechas:  2\n"
          ],
          "name": "stdout"
        }
      ]
    },
    {
      "cell_type": "markdown",
      "metadata": {
        "id": "EeqDoMZbiOM0"
      },
      "source": [
        "# EJERCICIO\n",
        "Busca una letra concreta en las palabras de un texto. Con que esté una vez en una palabra ya la cuenta:\n",
        "Que guarde en una variable las palabras que tienen la 'a' y otra que las cuente."
      ]
    },
    {
      "cell_type": "code",
      "metadata": {
        "id": "XnF0f7BLiVN8",
        "colab": {
          "base_uri": "https://localhost:8080/"
        },
        "outputId": "a65e32e2-e914-44f9-9041-3b56a64dba1c"
      },
      "source": [
        "texto='En un lugar de la Mancha de cuyo nombre no quiero acordarme ...'\n",
        "texto=texto.split() #esto descompone el texto en palabras\n",
        "print(texto)\n",
        "\n",
        "aciertos=0\n",
        "palabras_con_a=[]"
      ],
      "execution_count": null,
      "outputs": [
        {
          "output_type": "stream",
          "text": [
            "['En', 'un', 'lugar', 'de', 'la', 'Mancha', 'de', 'cuyo', 'nombre', 'no', 'quiero', 'acordarme', '...']\n"
          ],
          "name": "stdout"
        }
      ]
    },
    {
      "cell_type": "markdown",
      "metadata": {
        "id": "SfPrejEjgmlf"
      },
      "source": [
        "## SOLUCIÓN"
      ]
    },
    {
      "cell_type": "code",
      "metadata": {
        "id": "cV5BqeNBmnJ1",
        "colab": {
          "base_uri": "https://localhost:8080/"
        },
        "outputId": "13796d01-b0d3-48fa-e618-f85ed4ffc472"
      },
      "source": [
        "texto='En un lugar de la Mancha de cuyo nombre no quiero acordarme ...'\n",
        "texto=texto.split() #esto descompone el texto en palabras\n",
        "print(texto)\n",
        "\n",
        "aciertos=0\n",
        "palabras_con_a=[]\n",
        "\n",
        "for palabra in texto:\n",
        "    if 'a' in palabra:\n",
        "        aciertos+=1\n",
        "        palabras_con_a.append(palabra)\n",
        "        continue#con break se saldría al encontrar la primera palabra con 'a'\n",
        "\n",
        "print('Hay', aciertos, 'palabras que contienen la letra a')\n",
        "print('Las palabras con a son:', palabras_con_a)\n"
      ],
      "execution_count": null,
      "outputs": [
        {
          "output_type": "stream",
          "text": [
            "['En', 'un', 'lugar', 'de', 'la', 'Mancha', 'de', 'cuyo', 'nombre', 'no', 'quiero', 'acordarme', '...']\n",
            "Hay 4 palabras que contienen la letra a\n",
            "Las palabras con a son: ['lugar', 'la', 'Mancha', 'acordarme']\n"
          ],
          "name": "stdout"
        }
      ]
    },
    {
      "cell_type": "markdown",
      "metadata": {
        "id": "KJe8oGDVjR4-"
      },
      "source": [
        "# EJERCICIO\n",
        "Tenemos unos datos de índice de masa corporal (BMI) y queremos que automáticamente decida la categoría en la que se encuentra. Hay que unir bucles y condicionales.\n",
        "Asumimos que bajo peso es un BMI < 18.5, y obeso es un BMI > 30"
      ]
    },
    {
      "cell_type": "code",
      "metadata": {
        "id": "LvhfI1rOjZLX"
      },
      "source": [
        "resultsBMI=[16.4, 25.3, 54.8, 29.5, 19.7, 23.6, 31.6, 18.1]\n",
        "nBajoPeso=0 #guardan cuántos ha encontrado de cada categoría\n",
        "nNormal=0\n",
        "nObeso=0"
      ],
      "execution_count": null,
      "outputs": []
    },
    {
      "cell_type": "markdown",
      "metadata": {
        "id": "5JBOEwaogrJ2"
      },
      "source": [
        "## SOLUCIÓN"
      ]
    },
    {
      "cell_type": "code",
      "metadata": {
        "id": "vy_VsUJWm5AK",
        "colab": {
          "base_uri": "https://localhost:8080/"
        },
        "outputId": "ae3fc5a7-90fc-4644-f0b3-41afe9974d68"
      },
      "source": [
        "resultsBMI=[16.4, 25.3, 54.8, 29.5, 19.7, 23.6, 31.6, 18.1, 24.5, 12.5, 36,2]\n",
        "nBajoPeso=0 #guardan cuántos ha encontrado de cada categoría\n",
        "nNormal=0\n",
        "nObeso=0\n",
        "\n",
        "for bmi in resultsBMI:\n",
        "    if bmi<18.5:\n",
        "        nBajoPeso+=1\n",
        "    elif bmi>=30:\n",
        "        nObeso+=1\n",
        "    else:\n",
        "        nNormal+=1\n",
        "\n",
        "print('Bajo peso=',nBajoPeso,\n",
        "      'Normal=', nNormal,\n",
        "      'Obeso=', nObeso)\n"
      ],
      "execution_count": null,
      "outputs": [
        {
          "output_type": "stream",
          "text": [
            "Bajo peso= 4 Normal= 5 Obeso= 3\n"
          ],
          "name": "stdout"
        }
      ]
    },
    {
      "cell_type": "markdown",
      "metadata": {
        "id": "5oImIapTltmF"
      },
      "source": [
        "# EJERCICIO\n",
        "Vamos a crear unos datos de altura en una población. Queremos sacar muestras aleatorias de esa población y comprobar cuánto se aleja la media de las muestras de la media de la población."
      ]
    },
    {
      "cell_type": "code",
      "metadata": {
        "id": "YBo6I1bvluG8",
        "colab": {
          "base_uri": "https://localhost:8080/",
          "height": 265
        },
        "outputId": "0c7803b1-8646-4de3-d352-66143e88016a"
      },
      "source": [
        "import numpy as np\n",
        "import matplotlib.pyplot as plt\n",
        "\n",
        "#Crea una población\n",
        "np.random.seed(10) #fija la aleatoriedad por reproducibilidad, para que nos salgan a todos los mismos datos\n",
        "altura_poblacion = np.random.normal(170, 20, 150000)\n",
        "plt.hist(altura_poblacion)\n",
        "\n",
        "n=10\n",
        "diferencia=[]\n",
        "\n",
        "#crea una muestra aleatoria de n sujetos cogidos de la población\n",
        "altura_muestra = np.random.choice(a= altura_poblacion, size=n)\n"
      ],
      "execution_count": null,
      "outputs": [
        {
          "output_type": "display_data",
          "data": {
            "image/png": "[encoded data removed]",
            "text/plain": [
              "<Figure size 432x288 with 1 Axes>"
            ]
          },
          "metadata": {
            "tags": [],
            "needs_background": "light"
          }
        }
      ]
    },
    {
      "cell_type": "markdown",
      "metadata": {
        "id": "65yX3F94gxPy"
      },
      "source": [
        "## SOLUCIÓN"
      ]
    },
    {
      "cell_type": "code",
      "metadata": {
        "id": "lixPGqzEo6aT",
        "colab": {
          "base_uri": "https://localhost:8080/",
          "height": 1000
        },
        "outputId": "44726ec7-b124-4e7a-d4fb-a5cc011b215e"
      },
      "source": [
        "import numpy as np\n",
        "import matplotlib.pyplot as plt\n",
        "\n",
        "#Crea una población\n",
        "np.random.seed(10) #fija la aleatoriedad por reproducibilidad\n",
        "altura_poblacion = np.random.normal(170, 20, 150000)\n",
        "\n",
        "n=15 #nº de sujetos por muestra\n",
        "n_muestras = 5 #probaremos con este nº de muestras\n",
        "diferencia=[]\n",
        "\n",
        "#crea una muestra aleatoria de n suJetos\n",
        "altura_muestra = np.random.choice(a= altura_poblacion, size=n)\n",
        "\n",
        "for i in range(n_muestras):\n",
        "    altura_muestra = np.random.choice(a= altura_poblacion, size=n)\n",
        "    \n",
        "    #Presenta el histograma de la población\n",
        "    plt.hist(altura_poblacion, color='b')\n",
        "    plt.show()\n",
        "    \n",
        "    #Presenta el histograma de la muestra\n",
        "    plt.hist(altura_muestra, color='r')\n",
        "    plt.show()\n",
        "    \n",
        "    diferencia.append(altura_poblacion.mean()-altura_muestra.mean())\n",
        "    \n",
        "    print('Media población= ', altura_poblacion.mean())\n",
        "    print('Media muestra=', altura_muestra.mean())\n",
        "    print('Diferencia medias=', altura_poblacion.mean()-altura_muestra.mean())\n",
        "\n",
        "print('Todas las diferencias:',diferencia)"
      ],
      "execution_count": null,
      "outputs": [
        {
          "output_type": "display_data",
          "data": {
            "image/png": "[encoded data removed]",
            "text/plain": [
              "<Figure size 432x288 with 1 Axes>"
            ]
          },
          "metadata": {
            "tags": [],
            "needs_background": "light"
          }
        },
        {
          "output_type": "display_data",
          "data": {
            "image/png": "[encoded data removed]",
            "text/plain": [
              "<Figure size 432x288 with 1 Axes>"
            ]
          },
          "metadata": {
            "tags": [],
            "needs_background": "light"
          }
        },
        {
          "output_type": "stream",
          "text": [
            "Media población=  169.93345750024716\n",
            "Media muestra= 171.4347116163147\n",
            "Diferencia medias= -1.5012541160675426\n"
          ],
          "name": "stdout"
        },
        {
          "output_type": "display_data",
          "data": {
            "image/png": "[encoded data removed]",
            "text/plain": [
              "<Figure size 432x288 with 1 Axes>"
            ]
          },
          "metadata": {
            "tags": [],
            "needs_background": "light"
          }
        },
        {
          "output_type": "display_data",
          "data": {
            "image/png": "[encoded data removed]",
            "text/plain": [
              "<Figure size 432x288 with 1 Axes>"
            ]
          },
          "metadata": {
            "tags": [],
            "needs_background": "light"
          }
        },
        {
          "output_type": "stream",
          "text": [
            "Media población=  169.93345750024716\n",
            "Media muestra= 168.84558648938736\n",
            "Diferencia medias= 1.0878710108598\n"
          ],
          "name": "stdout"
        },
        {
          "output_type": "display_data",
          "data": {
            "image/png": "[encoded data removed]",
            "text/plain": [
              "<Figure size 432x288 with 1 Axes>"
            ]
          },
          "metadata": {
            "tags": [],
            "needs_background": "light"
          }
        },
        {
          "output_type": "display_data",
          "data": {
            "image/png": "[encoded data removed]",
            "text/plain": [
              "<Figure size 432x288 with 1 Axes>"
            ]
          },
          "metadata": {
            "tags": [],
            "needs_background": "light"
          }
        },
        {
          "output_type": "stream",
          "text": [
            "Media población=  169.93345750024716\n",
            "Media muestra= 165.7741408250608\n",
            "Diferencia medias= 4.159316675186346\n"
          ],
          "name": "stdout"
        },
        {
          "output_type": "display_data",
          "data": {
            "image/png": "[encoded data removed]",
            "text/plain": [
              "<Figure size 432x288 with 1 Axes>"
            ]
          },
          "metadata": {
            "tags": [],
            "needs_background": "light"
          }
        },
        {
          "output_type": "display_data",
          "data": {
            "image/png": "[encoded data removed]",
            "text/plain": [
              "<Figure size 432x288 with 1 Axes>"
            ]
          },
          "metadata": {
            "tags": [],
            "needs_background": "light"
          }
        },
        {
          "output_type": "stream",
          "text": [
            "Media población=  169.93345750024716\n",
            "Media muestra= 172.30817674165854\n",
            "Diferencia medias= -2.374719241411384\n"
          ],
          "name": "stdout"
        },
        {
          "output_type": "display_data",
          "data": {
            "image/png": "[encoded data removed]",
            "text/plain": [
              "<Figure size 432x288 with 1 Axes>"
            ]
          },
          "metadata": {
            "tags": [],
            "needs_background": "light"
          }
        },
        {
          "output_type": "display_data",
          "data": {
            "image/png": "[encoded data removed]",
            "text/plain": [
              "<Figure size 432x288 with 1 Axes>"
            ]
          },
          "metadata": {
            "tags": [],
            "needs_background": "light"
          }
        },
        {
          "output_type": "stream",
          "text": [
            "Media población=  169.93345750024716\n",
            "Media muestra= 171.11072401549137\n",
            "Diferencia medias= -1.177266515244213\n",
            "Todas las diferencias: [-1.5012541160675426, 1.0878710108598, 4.159316675186346, -2.374719241411384, -1.177266515244213]\n"
          ],
          "name": "stdout"
        }
      ]
    },
    {
      "cell_type": "code",
      "metadata": {
        "id": "FhiA2tUOpppQ"
      },
      "source": [
        ""
      ],
      "execution_count": null,
      "outputs": []
    }
  ]
}