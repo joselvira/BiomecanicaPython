{
  "cells": [
    {
      "cell_type": "markdown",
      "metadata": {
        "id": "view-in-github",
        "colab_type": "text"
      },
      "source": [
        "<a href=\"https://colab.research.google.com/github/joselvira/BiomecanicaPython/blob/master/Notebooks/TomaDeDecisiones_Condicionales.ipynb\" target=\"_parent\"><img src=\"https://colab.research.google.com/assets/colab-badge.svg\" alt=\"Open In Colab\"/></a>"
      ]
    },
    {
      "cell_type": "markdown",
      "metadata": {
        "id": "pvAhpAzezIud"
      },
      "source": [
        "# Toma de decisiones. Los condicionales\n",
        "\n",
        "Los programas deben ser flexibles y adaptarse a cómo se van desarrollando las tareas que realizan. Continuamente deben tomar decisiones sobre qué camino elegir en determinados momentos. Los condicionales nos permiten evaluar la situación y decidir qué partes de código se deben ejecutar según el resultado de la evaluación.\n",
        "\n",
        "Las instrucciones de evaluación condicional son *if*, *elif* y *else*. Revisa los siguientes ejemplos para entender su funcionamiento."
      ]
    },
    {
      "cell_type": "code",
      "execution_count": null,
      "metadata": {
        "id": "R_R3HUCqzIuk",
        "outputId": "b013262a-1a62-4820-b95c-97a4a9f02998"
      },
      "outputs": [
        {
          "name": "stdout",
          "output_type": "stream",
          "text": [
            "b es mayor que a\n"
          ]
        }
      ],
      "source": [
        "a=5\n",
        "b=7\n",
        "if a>b:\n",
        "    print('a es mayor que b')\n",
        "\n",
        "if b>a:\n",
        "    print('b es mayor que a')"
      ]
    },
    {
      "cell_type": "markdown",
      "metadata": {
        "id": "Wrpkm7PazIum"
      },
      "source": [
        "Lo anterior se puede simplificar. Si no se cumple la condición evaluada, se indica lo que hacer con la instrucción *else*:"
      ]
    },
    {
      "cell_type": "code",
      "execution_count": null,
      "metadata": {
        "id": "B6kqPDTAzIun",
        "outputId": "cac7b8f5-535c-41e4-87d0-20971c6efff5"
      },
      "outputs": [
        {
          "name": "stdout",
          "output_type": "stream",
          "text": [
            "b es mayor que a\n"
          ]
        }
      ],
      "source": [
        "a=5\n",
        "b=7\n",
        "if a>b:\n",
        "    print('a es mayor que b')\n",
        "else:\n",
        "    print('b es mayor que a')"
      ]
    },
    {
      "cell_type": "markdown",
      "source": [
        "En los anteriores casos sabíamos a priori los valores de cada variable, pero normalmente nos encontraremos casos en los que no se pueden predecir. En el siguiente ejemplo se generan números aleatorios que el programa evalúa sobre la marcha."
      ],
      "metadata": {
        "id": "XPV9v2cE06_x"
      }
    },
    {
      "cell_type": "code",
      "execution_count": null,
      "metadata": {
        "id": "FAkD7UhhzIup",
        "outputId": "82ee0d54-0dd3-4802-d0d6-32ff04a3ce18"
      },
      "outputs": [
        {
          "name": "stdout",
          "output_type": "stream",
          "text": [
            "Aleatorio=  0.4482747883938252 , redondeado=  0.0\n"
          ]
        }
      ],
      "source": [
        "import numpy as np\n",
        "x=np.random.rand() #genera un nº aleatorio entre 0 y 1\n",
        "if x>=0.5:\n",
        "    resultado=1.0\n",
        "else:\n",
        "    resultado=0.0\n",
        "    \n",
        "print('Aleatorio= ', x, ', redondeado= ', resultado)"
      ]
    },
    {
      "cell_type": "markdown",
      "metadata": {
        "id": "9PEeieDnzIuq"
      },
      "source": [
        "Si hay que evaluar más de una condición a la vez, se pueden anidar comprobaciones: *if, elif, else*."
      ]
    },
    {
      "cell_type": "code",
      "execution_count": null,
      "metadata": {
        "id": "HmosDiz0zIuq",
        "outputId": "fdfa9c4e-e337-436f-a700-382dc17c3c89"
      },
      "outputs": [
        {
          "name": "stdout",
          "output_type": "stream",
          "text": [
            "a y b son iguales b\n"
          ]
        }
      ],
      "source": [
        "a=5\n",
        "b=5\n",
        "if a>b:\n",
        "    print('a es mayor que b')\n",
        "elif a==b:\n",
        "    print('a y b son iguales b')\n",
        "else:\n",
        "    print('b es mayor que a')"
      ]
    },
    {
      "cell_type": "markdown",
      "metadata": {
        "id": "71pAALqSzIur"
      },
      "source": [
        "Para comprobaciones sencillas se puede realizar en la misma línea"
      ]
    },
    {
      "cell_type": "code",
      "execution_count": null,
      "metadata": {
        "id": "ZgBjM9GrzIur"
      },
      "outputs": [],
      "source": [
        "a=5\n",
        "b=5\n",
        "if a>b: print('a es mayor que b')"
      ]
    },
    {
      "cell_type": "markdown",
      "source": [
        "# EJERCICIO\n",
        "\n",
        "Crea un programa en el que se pida un número de nota y se de como respuesta la calificación cualitativa:\n",
        "\n",
        "0-5 SUSPENSO\n",
        "\n",
        "5-7 APROBADO\n",
        "\n",
        "7-9 NOTABLE\n",
        "\n",
        "9-10 SOBRESALIENTE\n",
        "\n",
        "Utiliza como inicio el código siguiente:"
      ],
      "metadata": {
        "id": "e2mPHrCq1_WT"
      }
    },
    {
      "cell_type": "code",
      "source": [
        "nota = input('Escribe tu nota:')\n",
        "#input devuelve una cadena de texto, así que la transformamos a un número decimal\n",
        "nota = float(nota)\n"
      ],
      "metadata": {
        "id": "Cz-FVP0A5J0i"
      },
      "execution_count": null,
      "outputs": []
    },
    {
      "cell_type": "markdown",
      "source": [
        "# SOLUCIÓN"
      ],
      "metadata": {
        "id": "3uzYu_QG3dnV"
      }
    },
    {
      "cell_type": "code",
      "execution_count": 10,
      "metadata": {
        "colab": {
          "base_uri": "https://localhost:8080/"
        },
        "id": "04rD0YnwzIus",
        "outputId": "0d71ac2b-d789-42fc-a8d6-3f91618dca0e"
      },
      "outputs": [
        {
          "output_type": "stream",
          "name": "stdout",
          "text": [
            "Escribe tu nota:8\n",
            "Tu calificación es NOTABLE\n"
          ]
        }
      ],
      "source": [
        "nota = input('Escribe tu nota:')\n",
        "#input devuelve una cadena de texto, así que la transformamos a un número decimal\n",
        "nota = float(nota)\n",
        "\n",
        "if nota<5:\n",
        "  nota_cualit = 'SUSPENSO'\n",
        "elif nota < 7:\n",
        "  nota_cualit = 'APROBADO'\n",
        "elif nota < 9:\n",
        "  nota_cualit = 'NOTABLE'\n",
        "else:\n",
        "  nota_cualit = 'SOBRESALIENTE'\n",
        "\n",
        "print(f'Tu calificación es {nota_cualit}')"
      ]
    }
  ],
  "metadata": {
    "kernelspec": {
      "display_name": "Python 3",
      "language": "python",
      "name": "python3"
    },
    "language_info": {
      "codemirror_mode": {
        "name": "ipython",
        "version": 3
      },
      "file_extension": ".py",
      "mimetype": "text/x-python",
      "name": "python",
      "nbconvert_exporter": "python",
      "pygments_lexer": "ipython3",
      "version": "3.6.5"
    },
    "colab": {
      "name": "TomaDeDecisiones-Condicionales.ipynb",
      "provenance": [],
      "collapsed_sections": [
        "3uzYu_QG3dnV"
      ],
      "include_colab_link": true
    }
  },
  "nbformat": 4,
  "nbformat_minor": 0
}