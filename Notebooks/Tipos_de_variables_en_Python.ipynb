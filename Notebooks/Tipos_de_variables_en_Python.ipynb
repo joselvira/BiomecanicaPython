{
  "nbformat": 4,
  "nbformat_minor": 0,
  "metadata": {
    "kernelspec": {
      "display_name": "Python 3",
      "language": "python",
      "name": "python3"
    },
    "language_info": {
      "codemirror_mode": {
        "name": "ipython",
        "version": 3
      },
      "file_extension": ".py",
      "mimetype": "text/x-python",
      "name": "python",
      "nbconvert_exporter": "python",
      "pygments_lexer": "ipython3",
      "version": "3.7.2"
    },
    "colab": {
      "name": "Tipos_de_variables_en_Python.ipynb",
      "provenance": [],
      "collapsed_sections": [],
      "toc_visible": true,
      "include_colab_link": true
    }
  },
  "cells": [
    {
      "cell_type": "markdown",
      "metadata": {
        "id": "view-in-github",
        "colab_type": "text"
      },
      "source": [
        "<a href=\"https://colab.research.google.com/github/joselvira/BiomecanicaPython/blob/master/Notebooks/Tipos_de_variables_en_Python.ipynb\" target=\"_parent\"><img src=\"https://colab.research.google.com/assets/colab-badge.svg\" alt=\"Open In Colab\"/></a>"
      ]
    },
    {
      "cell_type": "markdown",
      "metadata": {
        "id": "yqA62Rw7vZND"
      },
      "source": [
        "# Tipos de variables\n"
      ]
    },
    {
      "cell_type": "markdown",
      "metadata": {
        "id": "vZWjJh3PvZNL"
      },
      "source": [
        "Una variable es un espacio de memoria reservado para guardar información que puede cambiarmientras se ejecuta el programa.\n",
        "\n",
        "En casi todos los lenguajes de programación hay unos tipos de variables básicas comunes:\n",
        "Números enteros (int)\n",
        "Números reales (decimales) (float)\n",
        "cadenas de texto (str)\n",
        "booleanos (bol)"
      ]
    },
    {
      "cell_type": "markdown",
      "metadata": {
        "id": "mqFcBOLbvZNN"
      },
      "source": [
        "## Números enteros: int"
      ]
    },
    {
      "cell_type": "code",
      "metadata": {
        "id": "pKew7dYcvZNO",
        "colab": {
          "base_uri": "https://localhost:8080/"
        },
        "outputId": "2d553b68-1835-4062-a9de-413476e07ad9"
      },
      "source": [
        "num_repeticiones=5\n",
        "print(numRepeticiones)"
      ],
      "execution_count": null,
      "outputs": [
        {
          "output_type": "stream",
          "text": [
            "4\n"
          ],
          "name": "stdout"
        }
      ]
    },
    {
      "cell_type": "markdown",
      "metadata": {
        "id": "tC2rETjnvZNQ"
      },
      "source": [
        "## Números reales, que incluyen los decimales: float"
      ]
    },
    {
      "cell_type": "code",
      "metadata": {
        "id": "Uo2swZwHvZNQ",
        "colab": {
          "base_uri": "https://localhost:8080/"
        },
        "outputId": "f0afdf08-ef5a-421f-8de9-bc8647e367ef"
      },
      "source": [
        "talla=1.89\n",
        "print(talla)"
      ],
      "execution_count": null,
      "outputs": [
        {
          "output_type": "stream",
          "text": [
            "1.89\n"
          ],
          "name": "stdout"
        }
      ]
    },
    {
      "cell_type": "markdown",
      "metadata": {
        "id": "ymykFtfWvZNR"
      },
      "source": [
        "## Cadenas de texto: str"
      ]
    },
    {
      "cell_type": "code",
      "metadata": {
        "id": "OI56J0bjvZNR"
      },
      "source": [
        "saludo='hola'\n",
        "despedida=\"adios\"\n",
        "nombre='Jose'"
      ],
      "execution_count": null,
      "outputs": []
    },
    {
      "cell_type": "markdown",
      "metadata": {
        "id": "ZPvnOJtsvZNR"
      },
      "source": [
        "También se puede operar con las variables de texto"
      ]
    },
    {
      "cell_type": "code",
      "metadata": {
        "id": "JUxZK5ORvZNS",
        "colab": {
          "base_uri": "https://localhost:8080/"
        },
        "outputId": "18b41ee4-56f6-4c9d-9430-5109fabe6fcf"
      },
      "source": [
        "texto = saludo + ' y después ' + despedida\n",
        "print(texto)"
      ],
      "execution_count": null,
      "outputs": [
        {
          "output_type": "stream",
          "text": [
            "hola y después adios\n"
          ],
          "name": "stdout"
        }
      ]
    },
    {
      "cell_type": "markdown",
      "metadata": {
        "id": "9BCaaMcWvZNS"
      },
      "source": [
        "Se puede dar formato al texto cuando se integran números (decimales, etc.)"
      ]
    },
    {
      "cell_type": "code",
      "metadata": {
        "colab": {
          "base_uri": "https://localhost:8080/",
          "height": 35
        },
        "id": "IfHMH6b3BE2Z",
        "outputId": "f51509dc-3bd8-49cc-e2a9-95113363b09b"
      },
      "source": [
        "g=9.80665\n",
        "'la gravedad es = {:.2f}'.format(g)"
      ],
      "execution_count": 1,
      "outputs": [
        {
          "output_type": "execute_result",
          "data": {
            "application/vnd.google.colaboratory.intrinsic+json": {
              "type": "string"
            },
            "text/plain": [
              "'la gravedad es = 9.81'"
            ]
          },
          "metadata": {
            "tags": []
          },
          "execution_count": 1
        }
      ]
    },
    {
      "cell_type": "code",
      "metadata": {
        "id": "ms5ymlyWvZNT"
      },
      "source": [
        "decimal= 1.3948576647485\n",
        "entero=4\n",
        "texto='número'\n",
        "\n",
        "resultado = '{:s} decimal = {:.3f}, el entero = {:d}'.format(texto, decimal, entero)\n",
        "print(resultado)"
      ],
      "execution_count": null,
      "outputs": []
    },
    {
      "cell_type": "markdown",
      "metadata": {
        "id": "ict_otZ3vZNT"
      },
      "source": [
        "## Número booleanos (bool)"
      ]
    },
    {
      "cell_type": "markdown",
      "metadata": {
        "id": "FxfjnTnVvZNT"
      },
      "source": [
        "Solo admiten como valor *True* o *False*"
      ]
    },
    {
      "cell_type": "code",
      "metadata": {
        "id": "-lMWEdtbvZNU"
      },
      "source": [
        "a=True\n",
        "b=False\n",
        "c=True"
      ],
      "execution_count": null,
      "outputs": []
    },
    {
      "cell_type": "markdown",
      "metadata": {
        "id": "Ox9nkVBhvZNU"
      },
      "source": [
        "Se pueden transformar de unos tipos a otros:"
      ]
    },
    {
      "cell_type": "code",
      "metadata": {
        "id": "HmFQXRu8vZNU",
        "colab": {
          "base_uri": "https://localhost:8080/"
        },
        "outputId": "3725bb50-6389-4efb-8241-f6668aa1fbb2"
      },
      "source": [
        "a=5.6 #inicialmente es float\n",
        "b=int(a)\n",
        "print(a, b)"
      ],
      "execution_count": null,
      "outputs": [
        {
          "output_type": "stream",
          "text": [
            "5.6 5\n"
          ],
          "name": "stdout"
        }
      ]
    },
    {
      "cell_type": "code",
      "metadata": {
        "id": "L9TfqXtxvZNV"
      },
      "source": [
        "a=3 #inicialmente es int\n",
        "b=float(a)\n",
        "print(a, b)"
      ],
      "execution_count": null,
      "outputs": []
    },
    {
      "cell_type": "code",
      "metadata": {
        "id": "YuVsv0uuvZNV",
        "colab": {
          "base_uri": "https://localhost:8080/"
        },
        "outputId": "b18b00ac-faf7-4240-f7e3-35067b322807"
      },
      "source": [
        "a='5' #CUIDADO, inicialmente es string, no es un número\n",
        "b=int(a)\n",
        "print(a, b)\n",
        "print(5*a) #no multiplica sino que lo repite porque es una cadena de texto\n",
        "print(5*b) #realiza la operación matemática porque es un número\n",
        "print(5*'hola')"
      ],
      "execution_count": null,
      "outputs": [
        {
          "output_type": "stream",
          "text": [
            "5 5\n",
            "55555\n",
            "25\n",
            "holaholaholaholahola\n"
          ],
          "name": "stdout"
        }
      ]
    },
    {
      "cell_type": "code",
      "metadata": {
        "id": "kF4N83qxvZNW"
      },
      "source": [
        "a=5\n",
        "b=str(a)\n",
        "print(a, b)\n",
        "print(5*a) #al revés que el anterior\n",
        "print(5*b)"
      ],
      "execution_count": null,
      "outputs": []
    },
    {
      "cell_type": "markdown",
      "metadata": {
        "id": "wSsUVn0CvZNW"
      },
      "source": [
        ""
      ]
    },
    {
      "cell_type": "markdown",
      "metadata": {
        "id": "R2RUaE4KvZNW"
      },
      "source": [
        "## Listas"
      ]
    },
    {
      "cell_type": "markdown",
      "metadata": {
        "id": "RBGvTzTEvZNX"
      },
      "source": [
        "Hasta ahora, lo que hemos visto es que cada variable almacena un solo dato.\n",
        "Si necesitamos manejar muchos datos esto es inviable.\n",
        "\n",
        "Ej. registro de tiempos de vuelo en saltos:"
      ]
    },
    {
      "cell_type": "code",
      "metadata": {
        "id": "ugs-drFJvZNX"
      },
      "source": [
        "tv1=0.476\n",
        "tv2=0.381\n",
        "tv3=0.534"
      ],
      "execution_count": null,
      "outputs": []
    },
    {
      "cell_type": "markdown",
      "metadata": {
        "id": "ELDCbzrnvZNX"
      },
      "source": [
        "En python se pueden crear listas de datos poniéndolos entre corchetes y separándolos con comas:"
      ]
    },
    {
      "cell_type": "code",
      "metadata": {
        "id": "abv9IYcfvZNY",
        "colab": {
          "base_uri": "https://localhost:8080/"
        },
        "outputId": "5ea3d5e4-5456-4b15-ce84-f10fd6df498e"
      },
      "source": [
        "tv=[0.476, 0.381, 0.534]\n",
        "print(tv)"
      ],
      "execution_count": null,
      "outputs": [
        {
          "output_type": "stream",
          "text": [
            "[0.476, 0.381, 0.534]\n"
          ],
          "name": "stdout"
        }
      ]
    },
    {
      "cell_type": "markdown",
      "metadata": {
        "id": "hoPlWldUvZNY"
      },
      "source": [
        "Las listas pueden contener cualquier tipo de datos:"
      ]
    },
    {
      "cell_type": "code",
      "metadata": {
        "id": "DkftIxbPvZNY",
        "colab": {
          "base_uri": "https://localhost:8080/"
        },
        "outputId": "665107fd-45da-4ccd-b9a4-e24b594b23d5"
      },
      "source": [
        "AlturaSalto=['Sujeto1', 0.23, 'Sujeto2', 0.38, 'Sujeto3', 0.15]\n",
        "print(AlturaSalto)"
      ],
      "execution_count": null,
      "outputs": [
        {
          "output_type": "stream",
          "text": [
            "['Sujeto1', 0.23, 'Sujeto2', 0.38, 'Sujeto3', 0.15]\n"
          ],
          "name": "stdout"
        }
      ]
    },
    {
      "cell_type": "markdown",
      "metadata": {
        "id": "VgIju5JjvZNY"
      },
      "source": [
        " Se puede acceder a cada elemento de la lista. ATENCIÓN, el indexado empieza en 0, no en 1:"
      ]
    },
    {
      "cell_type": "code",
      "metadata": {
        "id": "CU6jZ-bZvZNZ",
        "colab": {
          "base_uri": "https://localhost:8080/"
        },
        "outputId": "18dadaa4-81c0-4947-9a3b-8df342ad2b62"
      },
      "source": [
        "print(AlturaSalto[0], AlturaSalto[2])"
      ],
      "execution_count": null,
      "outputs": [
        {
          "output_type": "stream",
          "text": [
            "Sujeto1 Sujeto2\n"
          ],
          "name": "stdout"
        }
      ]
    },
    {
      "cell_type": "code",
      "metadata": {
        "id": "9KyQcLvJvZNZ",
        "colab": {
          "base_uri": "https://localhost:8080/"
        },
        "outputId": "b368504e-e815-4978-f359-064fb0f07cd4"
      },
      "source": [
        "print(AlturaSalto[-1]) #el último elemento\n",
        "print(AlturaSalto[-2]) #el penúltimo elemento"
      ],
      "execution_count": null,
      "outputs": [
        {
          "output_type": "stream",
          "text": [
            "0.15\n",
            "Sujeto3\n"
          ],
          "name": "stdout"
        }
      ]
    },
    {
      "cell_type": "markdown",
      "metadata": {
        "id": "SmgRmKs2vZNa"
      },
      "source": [
        "Una característica interesante es que se puede acceder a varios elementos de una vez."
      ]
    },
    {
      "cell_type": "code",
      "metadata": {
        "id": "U-lGfjPZvZNa",
        "colab": {
          "base_uri": "https://localhost:8080/"
        },
        "outputId": "e265d501-f355-4713-a118-3138e670c0b0"
      },
      "source": [
        "print(AlturaSalto[2:4]) #no incluye el último elemento indicado"
      ],
      "execution_count": null,
      "outputs": [
        {
          "output_type": "stream",
          "text": [
            "['Sujeto2', 0.38]\n"
          ],
          "name": "stdout"
        }
      ]
    },
    {
      "cell_type": "code",
      "metadata": {
        "id": "mrzEZzl0vZNb",
        "colab": {
          "base_uri": "https://localhost:8080/"
        },
        "outputId": "652d533f-b0ae-4687-8255-78eec69e601c"
      },
      "source": [
        "print(AlturaSalto[0:3]) #si se deja en blanco antes de : indica desde el principio"
      ],
      "execution_count": null,
      "outputs": [
        {
          "output_type": "stream",
          "text": [
            "['Sujeto1', 0.23, 'Sujeto2']\n"
          ],
          "name": "stdout"
        }
      ]
    },
    {
      "cell_type": "code",
      "metadata": {
        "id": "-NvjocPjvZNc",
        "colab": {
          "base_uri": "https://localhost:8080/"
        },
        "outputId": "e2adae80-641d-4912-bbc2-e31912fab92f"
      },
      "source": [
        "print(AlturaSalto[3:]) #si se deja en blanco después de : indica hasta el final"
      ],
      "execution_count": null,
      "outputs": [
        {
          "output_type": "stream",
          "text": [
            "[0.38, 'Sujeto3', 0.15]\n"
          ],
          "name": "stdout"
        }
      ]
    },
    {
      "cell_type": "code",
      "metadata": {
        "id": "H-NL9i5NvZNc",
        "colab": {
          "base_uri": "https://localhost:8080/"
        },
        "outputId": "f07a6252-54b4-43a4-9a7e-3ff41b358efc"
      },
      "source": [
        "print(AlturaSalto[:-1]) #desde el primero hasta el último (no incluido)\n",
        "print(AlturaSalto[-3:]) #desde el antepenúltimo hasta el final"
      ],
      "execution_count": null,
      "outputs": [
        {
          "output_type": "stream",
          "text": [
            "['Sujeto1', 0.23, 'Sujeto2', 0.38, 'Sujeto3']\n",
            "[0.38, 'Sujeto3', 0.15]\n"
          ],
          "name": "stdout"
        }
      ]
    },
    {
      "cell_type": "markdown",
      "metadata": {
        "id": "lvVRQ1c-vZNd"
      },
      "source": [
        "También se puede seleccionar uno de cada tantos elementos. Se incluye un tercer número tras los dos puntos."
      ]
    },
    {
      "cell_type": "code",
      "metadata": {
        "id": "X1u2i1KsvZNe",
        "colab": {
          "base_uri": "https://localhost:8080/"
        },
        "outputId": "e793b200-b8c0-4e48-e9bc-c5df737ead91"
      },
      "source": [
        "print(AlturaSalto[0:6:2]) #del elemento 0 al 6 saltando de 2 en 2"
      ],
      "execution_count": null,
      "outputs": [
        {
          "output_type": "stream",
          "text": [
            "['Sujeto1', 'Sujeto2', 'Sujeto3']\n"
          ],
          "name": "stdout"
        }
      ]
    },
    {
      "cell_type": "code",
      "metadata": {
        "id": "DwzZ9X_avZNf",
        "colab": {
          "base_uri": "https://localhost:8080/"
        },
        "outputId": "04313720-9455-4a72-daad-db56268a1332"
      },
      "source": [
        "print(AlturaSalto[::2]) #lo mismo que el anterior, del primero al último saltando de 2 en 2 (todos los pares)"
      ],
      "execution_count": null,
      "outputs": [
        {
          "output_type": "stream",
          "text": [
            "['Sujeto1', 'Sujeto2', 'Sujeto3']\n"
          ],
          "name": "stdout"
        }
      ]
    },
    {
      "cell_type": "code",
      "metadata": {
        "id": "o2tXKMhrvZNf",
        "colab": {
          "base_uri": "https://localhost:8080/"
        },
        "outputId": "979d5a7d-c626-4e0a-b2e5-86e4042c2bd1"
      },
      "source": [
        "print(AlturaSalto[1:6:2]) #del primero al último saltando de 2 en 2 pero empezando en el 1 (todos los impares)"
      ],
      "execution_count": null,
      "outputs": [
        {
          "output_type": "stream",
          "text": [
            "[0.23, 0.38, 0.15]\n"
          ],
          "name": "stdout"
        }
      ]
    },
    {
      "cell_type": "code",
      "metadata": {
        "id": "EGXXqqt0vZNf",
        "colab": {
          "base_uri": "https://localhost:8080/"
        },
        "outputId": "43609b36-4052-495b-c790-d2a18e28ad63"
      },
      "source": [
        "print(AlturaSalto[2:6:3]) #del 2 al 6 saltando de 3 en 3..."
      ],
      "execution_count": null,
      "outputs": [
        {
          "output_type": "stream",
          "text": [
            "['Sujeto2', 0.15]\n"
          ],
          "name": "stdout"
        }
      ]
    },
    {
      "cell_type": "markdown",
      "metadata": {
        "id": "XZhnS7tnvZNf"
      },
      "source": [
        "Incluso se pueden mostrar hacia atrás:"
      ]
    },
    {
      "cell_type": "code",
      "metadata": {
        "id": "zBER086fvZNg",
        "colab": {
          "base_uri": "https://localhost:8080/"
        },
        "outputId": "583c28a2-573f-4d92-8616-be9e0cdd0e54"
      },
      "source": [
        "print(AlturaSalto[::-1]) #todos los elementos en orden inverso\n",
        "print(AlturaSalto[::-2]) #todos los elementos en orden inverso saltando de 2 en 2"
      ],
      "execution_count": null,
      "outputs": [
        {
          "output_type": "stream",
          "text": [
            "[0.15, 'Sujeto3', 0.38, 'Sujeto2', 0.23, 'Sujeto1']\n",
            "[0.15, 0.38, 0.23]\n"
          ],
          "name": "stdout"
        }
      ]
    },
    {
      "cell_type": "markdown",
      "metadata": {
        "id": "P2qOa3PnvZNg"
      },
      "source": [
        "También se pueden hacer listas de listas:"
      ]
    },
    {
      "cell_type": "code",
      "metadata": {
        "id": "_wh7gCEBvZNg",
        "colab": {
          "base_uri": "https://localhost:8080/"
        },
        "outputId": "ecdffabf-b9fb-4185-b2f9-132a79102d4b"
      },
      "source": [
        "AlturasSalto=[['Sujeto1', 0.23], ['Sujeto2', 0.38], ['Sujeto3', 0.15]]\n",
        "print(AlturasSalto)"
      ],
      "execution_count": null,
      "outputs": [
        {
          "output_type": "stream",
          "text": [
            "[['Sujeto1', 0.23], ['Sujeto2', 0.38], ['Sujeto3', 0.15]]\n"
          ],
          "name": "stdout"
        }
      ]
    },
    {
      "cell_type": "markdown",
      "metadata": {
        "id": "mVZbVQn50CS_"
      },
      "source": [
        "En este caso la lista tiene dos dimensiones (filas y columnas). Se puede escribir lo mismo en formato filas/columnas para verlo más claro, pero es lo mismo."
      ]
    },
    {
      "cell_type": "code",
      "metadata": {
        "id": "I-3hpqP_z7J6",
        "colab": {
          "base_uri": "https://localhost:8080/"
        },
        "outputId": "8f783d33-75ab-443b-ef53-7ea5be525205"
      },
      "source": [
        "AlturasSalto=[['Sujeto1', 0.23],\n",
        "              ['Sujeto2', 0.38],\n",
        "              ['Sujeto3', 0.15]]\n",
        "print(AlturasSalto)"
      ],
      "execution_count": null,
      "outputs": [
        {
          "output_type": "stream",
          "text": [
            "[['Sujeto1', 0.23], ['Sujeto2', 0.38], ['Sujeto3', 0.15]]\n"
          ],
          "name": "stdout"
        }
      ]
    },
    {
      "cell_type": "markdown",
      "metadata": {
        "id": "4bC5WFlAvZNg"
      },
      "source": [
        "Para acceder a los elementos hay que indicar primero el número de filas y después el de columnas."
      ]
    },
    {
      "cell_type": "code",
      "metadata": {
        "id": "c6vGFYysvZNh",
        "colab": {
          "base_uri": "https://localhost:8080/"
        },
        "outputId": "6cdf5c1a-b0a6-404a-ee82-10e0c4749a5f"
      },
      "source": [
        "print(AlturasSalto[1]) #esta es la primera fila completa"
      ],
      "execution_count": null,
      "outputs": [
        {
          "output_type": "stream",
          "text": [
            "['Sujeto2', 0.38]\n"
          ],
          "name": "stdout"
        }
      ]
    },
    {
      "cell_type": "code",
      "metadata": {
        "id": "fBAd-n4ZvZNh",
        "colab": {
          "base_uri": "https://localhost:8080/"
        },
        "outputId": "df5193ce-fb86-4baa-d0a8-7b3e26ee41c5"
      },
      "source": [
        "print(AlturasSalto[1][1]) #esto es la fila 1, columna 1"
      ],
      "execution_count": null,
      "outputs": [
        {
          "output_type": "stream",
          "text": [
            "0.38\n"
          ],
          "name": "stdout"
        }
      ]
    },
    {
      "cell_type": "markdown",
      "metadata": {
        "id": "jDBEp2t1vZNh"
      },
      "source": [
        "En ocasiones no sabemos cuántos elementos va a tener una lista, sino que vamos a ir añadiendo sobre la marcha.\n",
        "Por ejemplo al analizar datos, vamos calculando variables y almacenándolas en una lista"
      ]
    },
    {
      "cell_type": "code",
      "metadata": {
        "id": "cI4VTmIjvZNh",
        "colab": {
          "base_uri": "https://localhost:8080/"
        },
        "outputId": "4e2450fe-18ce-4182-e0c5-6fe4ad083002"
      },
      "source": [
        "resultados=[]\n",
        "resultados.append(0.23)\n",
        "resultados.append(0.46)\n",
        "resultados.append(0.32)\n",
        "print(resultados)"
      ],
      "execution_count": null,
      "outputs": [
        {
          "output_type": "stream",
          "text": [
            "[0.23, 0.46, 0.32]\n"
          ],
          "name": "stdout"
        }
      ]
    },
    {
      "cell_type": "markdown",
      "metadata": {
        "id": "1ZDbsw6zvZNi"
      },
      "source": [
        "## Tipo de variable básico para tratar datos en python: el módulo NUMPY"
      ]
    },
    {
      "cell_type": "markdown",
      "metadata": {
        "id": "mlJVhipBvZNi"
      },
      "source": [
        "Se parecen a las listas pero pueden hacer muchas más cosas."
      ]
    },
    {
      "cell_type": "code",
      "metadata": {
        "id": "CT_PDVIjvZNi",
        "colab": {
          "base_uri": "https://localhost:8080/"
        },
        "outputId": "9372d46c-ab6f-47b5-85d9-82d9742b7c09"
      },
      "source": [
        "import numpy as np #forma de importar la librería.\n",
        "x=np.array([1,4,5,7,3])\n",
        "x"
      ],
      "execution_count": null,
      "outputs": [
        {
          "output_type": "execute_result",
          "data": {
            "text/plain": [
              "array([1, 4, 5, 7, 3])"
            ]
          },
          "metadata": {
            "tags": []
          },
          "execution_count": 30
        }
      ]
    },
    {
      "cell_type": "markdown",
      "metadata": {
        "id": "nDpX1hyevZNi"
      },
      "source": [
        "También se puede iniciar a partir de una lista"
      ]
    },
    {
      "cell_type": "code",
      "metadata": {
        "id": "QPdimlBfvZNj",
        "colab": {
          "base_uri": "https://localhost:8080/"
        },
        "outputId": "af649d71-fa7f-447e-ebb4-850c2f34a2d6"
      },
      "source": [
        "alturas=[1.67, 1.76, 1.85, 1.79, 1.74]\n",
        "npAlturas=np.array(alturas)\n",
        "npAlturas"
      ],
      "execution_count": null,
      "outputs": [
        {
          "output_type": "execute_result",
          "data": {
            "text/plain": [
              "array([1.67, 1.76, 1.85, 1.79, 1.74])"
            ]
          },
          "metadata": {
            "tags": []
          },
          "execution_count": 31
        }
      ]
    },
    {
      "cell_type": "markdown",
      "metadata": {
        "id": "jSPu3u0PvZNj"
      },
      "source": [
        "Funcionan como las listas en la indexación:"
      ]
    },
    {
      "cell_type": "code",
      "metadata": {
        "id": "Vwzt7fg5vZNj",
        "colab": {
          "base_uri": "https://localhost:8080/"
        },
        "outputId": "3ce622e8-58ec-4790-8e5d-8bea041fccd9"
      },
      "source": [
        "print(alturas[0], npAlturas[0])\n",
        "print(alturas[-1], npAlturas[-1])\n",
        "print(alturas[1:3], npAlturas[1:3])\n",
        "print(alturas[2:], npAlturas[2:])\n",
        "print(alturas[2:-1], npAlturas[2:-1])\n",
        "print(alturas[-3:], npAlturas[-3:])\n",
        "print(alturas[:-3], npAlturas[:-3])\n",
        "print(alturas[::-1], npAlturas[::-1])"
      ],
      "execution_count": null,
      "outputs": [
        {
          "output_type": "stream",
          "text": [
            "1.67 1.67\n",
            "1.74 1.74\n",
            "[1.76, 1.85] [1.76 1.85]\n",
            "[1.85, 1.79, 1.74] [1.85 1.79 1.74]\n",
            "[1.85, 1.79] [1.85 1.79]\n",
            "[1.85, 1.79, 1.74] [1.85 1.79 1.74]\n",
            "[1.67, 1.76] [1.67 1.76]\n",
            "[1.74, 1.79, 1.85, 1.76, 1.67] [1.74 1.79 1.85 1.76 1.67]\n"
          ],
          "name": "stdout"
        }
      ]
    },
    {
      "cell_type": "markdown",
      "metadata": {
        "id": "q2ZPl7LrvZNj"
      },
      "source": [
        "Pero hay diferencias importantes entre las listas y los numpy:"
      ]
    },
    {
      "cell_type": "markdown",
      "metadata": {
        "id": "5b2eqfvfvZNk"
      },
      "source": [
        "La lista está hecha de objetos que no son considerados números, no se pueden operar matemáticamente"
      ]
    },
    {
      "cell_type": "code",
      "metadata": {
        "id": "HkHe_JyPvZNk",
        "colab": {
          "base_uri": "https://localhost:8080/",
          "height": 195
        },
        "outputId": "43e675f0-701c-4170-c34b-0a1806257efa"
      },
      "source": [
        "print(alturas*2) #concatena\n",
        "print(alturas+2) #error"
      ],
      "execution_count": null,
      "outputs": [
        {
          "output_type": "stream",
          "text": [
            "[1.67, 1.76, 1.85, 1.79, 1.74, 1.67, 1.76, 1.85, 1.79, 1.74]\n"
          ],
          "name": "stdout"
        },
        {
          "output_type": "error",
          "ename": "TypeError",
          "evalue": "ignored",
          "traceback": [
            "\u001b[0;31m---------------------------------------------------------------------------\u001b[0m",
            "\u001b[0;31mTypeError\u001b[0m                                 Traceback (most recent call last)",
            "\u001b[0;32m<ipython-input-33-3312f5e2519b>\u001b[0m in \u001b[0;36m<module>\u001b[0;34m()\u001b[0m\n\u001b[1;32m      1\u001b[0m \u001b[0mprint\u001b[0m\u001b[0;34m(\u001b[0m\u001b[0malturas\u001b[0m\u001b[0;34m*\u001b[0m\u001b[0;36m2\u001b[0m\u001b[0;34m)\u001b[0m \u001b[0;31m#concatena\u001b[0m\u001b[0;34m\u001b[0m\u001b[0;34m\u001b[0m\u001b[0m\n\u001b[0;32m----> 2\u001b[0;31m \u001b[0mprint\u001b[0m\u001b[0;34m(\u001b[0m\u001b[0malturas\u001b[0m\u001b[0;34m+\u001b[0m\u001b[0;36m2\u001b[0m\u001b[0;34m)\u001b[0m \u001b[0;31m#error\u001b[0m\u001b[0;34m\u001b[0m\u001b[0;34m\u001b[0m\u001b[0m\n\u001b[0m",
            "\u001b[0;31mTypeError\u001b[0m: can only concatenate list (not \"int\") to list"
          ]
        }
      ]
    },
    {
      "cell_type": "markdown",
      "metadata": {
        "id": "-pmxB-SBvZNk"
      },
      "source": [
        "En cambio los numpy son números y se pueden operar uno a uno"
      ]
    },
    {
      "cell_type": "code",
      "metadata": {
        "id": "t9MV0yNQvZNl",
        "colab": {
          "base_uri": "https://localhost:8080/"
        },
        "outputId": "a789d151-f1f6-414e-e9ac-a83dc84a3f26"
      },
      "source": [
        "print(npAlturas*2)\n",
        "print(npAlturas+2)\n",
        "print(npAlturas**2)"
      ],
      "execution_count": null,
      "outputs": [
        {
          "output_type": "stream",
          "text": [
            "[3.34 3.52 3.7  3.58 3.48]\n",
            "[3.67 3.76 3.85 3.79 3.74]\n",
            "[2.7889 3.0976 3.4225 3.2041 3.0276]\n"
          ],
          "name": "stdout"
        }
      ]
    },
    {
      "cell_type": "markdown",
      "metadata": {
        "id": "AT2LvhKQvZNl"
      },
      "source": [
        "Se puede operar entre numpys. Opera dato a dato en el mismo orden. Tienen que tener el mismo número de datos."
      ]
    },
    {
      "cell_type": "code",
      "metadata": {
        "id": "-gs7SJejvZNl"
      },
      "source": [
        "npPesos=np.array([92, 65, 73, 85, 58])"
      ],
      "execution_count": null,
      "outputs": []
    },
    {
      "cell_type": "code",
      "metadata": {
        "id": "LagSazRPvZNl",
        "colab": {
          "base_uri": "https://localhost:8080/"
        },
        "outputId": "98cb5016-d9a2-432f-86cd-8f96b9df7e4c"
      },
      "source": [
        "BMI=npPesos/npAlturas**2\n",
        "print(BMI)"
      ],
      "execution_count": null,
      "outputs": [
        {
          "output_type": "stream",
          "text": [
            "[32.98791638 20.9839876  21.32943755 26.52851035 19.15708812]\n"
          ],
          "name": "stdout"
        }
      ]
    },
    {
      "cell_type": "markdown",
      "metadata": {
        "id": "JFMjrJddvZNm"
      },
      "source": [
        "En numpy también se pueden hacer arrays de varias dimensiones:"
      ]
    },
    {
      "cell_type": "code",
      "metadata": {
        "id": "PwbLh-A1vZNm"
      },
      "source": [
        "#alturas y masas de 5 sujetos\n",
        "datos=np.array([[1.67, 1.76, 1.85, 1.79, 1.74],\n",
        "                  [92, 65, 73, 85, 58]])"
      ],
      "execution_count": null,
      "outputs": []
    },
    {
      "cell_type": "markdown",
      "metadata": {
        "id": "TKH4gvZpvZNm"
      },
      "source": [
        "Y se accede a cada elemento o grupo de elementos así:"
      ]
    },
    {
      "cell_type": "code",
      "metadata": {
        "id": "NqD2rVKIvZNm",
        "colab": {
          "base_uri": "https://localhost:8080/"
        },
        "outputId": "44beabd3-fd92-4da2-88da-79d643101e8e"
      },
      "source": [
        "print(datos[0, 2])#un solo elemento(fila, columna)\n",
        "print(datos[0, :])#toda la fila 0 (alturas)\n",
        "print(datos[:, 2])#toda la columna del sujeto 3º\n",
        "print(datos[:, 2:4])#toda la columna del sujeto 3º"
      ],
      "execution_count": null,
      "outputs": [
        {
          "output_type": "stream",
          "text": [
            "1.85\n",
            "[1.67 1.76 1.85 1.79 1.74]\n",
            "[ 1.85 73.  ]\n",
            "[[ 1.85  1.79]\n",
            " [73.   85.  ]]\n"
          ],
          "name": "stdout"
        }
      ]
    },
    {
      "cell_type": "markdown",
      "metadata": {
        "id": "LHQ2J872vZNm"
      },
      "source": [
        "Podemos hacer la misma operación que antes dentro del mismo numpy"
      ]
    },
    {
      "cell_type": "code",
      "metadata": {
        "id": "4n9RAoIqvZNm",
        "colab": {
          "base_uri": "https://localhost:8080/"
        },
        "outputId": "56233064-bbc3-4fde-8304-45ef1f750fd1"
      },
      "source": [
        "BMI2=datos[1, :] / datos[0, :]**2\n",
        "print(BMI2)"
      ],
      "execution_count": null,
      "outputs": [
        {
          "output_type": "stream",
          "text": [
            "[32.98791638 20.9839876  21.32943755 26.52851035 19.15708812]\n"
          ],
          "name": "stdout"
        }
      ]
    },
    {
      "cell_type": "markdown",
      "metadata": {
        "id": "W5G1IGkEvZNn"
      },
      "source": [
        "Y también podemos hacer operaciones estadísticas:"
      ]
    },
    {
      "cell_type": "code",
      "metadata": {
        "id": "y2jQgNklvZNn",
        "colab": {
          "base_uri": "https://localhost:8080/"
        },
        "outputId": "787d5475-3dea-4112-e26c-ad1b801a3626"
      },
      "source": [
        "print('promedio alturas: ', datos[0, :].mean())\n",
        "print('promedio masas: ', datos[1, :].mean())"
      ],
      "execution_count": null,
      "outputs": [
        {
          "output_type": "stream",
          "text": [
            "promedio alturas:  1.7619999999999998\n",
            "promedio masas:  74.6\n"
          ],
          "name": "stdout"
        }
      ]
    },
    {
      "cell_type": "markdown",
      "metadata": {
        "id": "n4LBVZgQvZNn"
      },
      "source": [
        "### Operaciones para seleccionar datos que cumplan una condición"
      ]
    },
    {
      "cell_type": "code",
      "metadata": {
        "id": "sGI9f8aivZNn",
        "colab": {
          "base_uri": "https://localhost:8080/"
        },
        "outputId": "5f5cd786-34c2-4692-c27d-bf2edd492c16"
      },
      "source": [
        "z=np.array([3,5,4,7,9,2,5,7,6,3,4,9,6])\n",
        "zz = z[z>=7]\n",
        "print(zz)\n",
        "zz = z[z==7]\n",
        "print(zz)\n",
        "zz = z[z<4]\n",
        "print(zz)\n",
        "zz = z[z==z.max()]\n",
        "print(zz)\n",
        "\n",
        "zz = z[(z>3) & (z<7)]#para poner varias condiciones, meterlas entre paréntesis\n",
        "print(zz)\n",
        "\n",
        "zz = z[(z<3) | (z>7)] # los que sean menor que 3 y mayor que 7 \n",
        "print(zz)"
      ],
      "execution_count": null,
      "outputs": [
        {
          "output_type": "stream",
          "text": [
            "[7 9 7 9]\n",
            "[7 7]\n",
            "[3 2 3]\n",
            "[9 9]\n",
            "[5 4 5 6 4 6]\n",
            "[9 2 9]\n"
          ],
          "name": "stdout"
        }
      ]
    },
    {
      "cell_type": "markdown",
      "metadata": {
        "id": "9bWn3m_NvZNo"
      },
      "source": [
        "#### También se puede obtener el índice de los datos de la condición (orden dentro de la lista)"
      ]
    },
    {
      "cell_type": "code",
      "metadata": {
        "id": "3ga5-HY9vZNo",
        "colab": {
          "base_uri": "https://localhost:8080/"
        },
        "outputId": "d997e0dd-266f-40c2-8328-9b90613e9241"
      },
      "source": [
        "z=np.array([3,5,4,7,9,2,5,7,6,3,4,9,6])\n",
        "iz = np.where(z>=7)\n",
        "print(iz)\n",
        "iz = np.where(z==7)\n",
        "print(iz)\n",
        "iz = np.where(z<4)\n",
        "print(iz)\n",
        "iz = np.where(z==z.max())\n",
        "print(iz)\n",
        "\n",
        "iz = np.where((z>3) & (z<7))#para poner varias condiciones, meterlas entre paréntesis\n",
        "print(iz)"
      ],
      "execution_count": null,
      "outputs": [
        {
          "output_type": "stream",
          "text": [
            "(array([ 3,  4,  7, 11]),)\n",
            "(array([3, 7]),)\n",
            "(array([0, 5, 9]),)\n",
            "(array([ 4, 11]),)\n",
            "(array([ 1,  2,  6,  8, 10, 12]),)\n"
          ],
          "name": "stdout"
        }
      ]
    },
    {
      "cell_type": "markdown",
      "metadata": {
        "id": "NVuVsV1fvZNo"
      },
      "source": [
        "### Con numpy se pueden crear series de números\n",
        "\n",
        "Esto es útil para crear una variable que contenga valores de tiempo a intervalos regulares.\n"
      ]
    },
    {
      "cell_type": "markdown",
      "metadata": {
        "id": "Zy8aMoRrTUAv"
      },
      "source": [
        "\n",
        "#### Si interesa controlar el intervalo entre datos\n",
        "\n",
        "np.arange(nºinicial, nº final, intervalo):"
      ]
    },
    {
      "cell_type": "code",
      "metadata": {
        "id": "MxwGPDsvvZNo",
        "colab": {
          "base_uri": "https://localhost:8080/"
        },
        "outputId": "3a8ee7ef-5e92-46ac-b471-f47c4b42b007"
      },
      "source": [
        "t=np.arange(0, 10)\n",
        "t"
      ],
      "execution_count": null,
      "outputs": [
        {
          "output_type": "execute_result",
          "data": {
            "text/plain": [
              "array([0, 1, 2, 3, 4, 5, 6, 7, 8, 9])"
            ]
          },
          "metadata": {
            "tags": []
          },
          "execution_count": 43
        }
      ]
    },
    {
      "cell_type": "code",
      "metadata": {
        "id": "ZuegFaFKvZNo",
        "colab": {
          "base_uri": "https://localhost:8080/"
        },
        "outputId": "5544db66-7d87-40a0-a8e5-5d03268d3bb1"
      },
      "source": [
        "t=np.arange(10, 0, -1) #cuenta atrás\n",
        "t"
      ],
      "execution_count": 6,
      "outputs": [
        {
          "output_type": "execute_result",
          "data": {
            "text/plain": [
              "array([10,  9,  8,  7,  6,  5,  4,  3,  2,  1])"
            ]
          },
          "metadata": {
            "tags": []
          },
          "execution_count": 6
        }
      ]
    },
    {
      "cell_type": "code",
      "metadata": {
        "id": "QLDH4118vZNp",
        "colab": {
          "base_uri": "https://localhost:8080/"
        },
        "outputId": "7cab955f-2944-4ccb-a399-7073931f665e"
      },
      "source": [
        "t=np.arange(0, 10, 0.05)\n",
        "t"
      ],
      "execution_count": null,
      "outputs": [
        {
          "output_type": "execute_result",
          "data": {
            "text/plain": [
              "array([0.  , 0.05, 0.1 , 0.15, 0.2 , 0.25, 0.3 , 0.35, 0.4 , 0.45, 0.5 ,\n",
              "       0.55, 0.6 , 0.65, 0.7 , 0.75, 0.8 , 0.85, 0.9 , 0.95, 1.  , 1.05,\n",
              "       1.1 , 1.15, 1.2 , 1.25, 1.3 , 1.35, 1.4 , 1.45, 1.5 , 1.55, 1.6 ,\n",
              "       1.65, 1.7 , 1.75, 1.8 , 1.85, 1.9 , 1.95, 2.  , 2.05, 2.1 , 2.15,\n",
              "       2.2 , 2.25, 2.3 , 2.35, 2.4 , 2.45, 2.5 , 2.55, 2.6 , 2.65, 2.7 ,\n",
              "       2.75, 2.8 , 2.85, 2.9 , 2.95, 3.  , 3.05, 3.1 , 3.15, 3.2 , 3.25,\n",
              "       3.3 , 3.35, 3.4 , 3.45, 3.5 , 3.55, 3.6 , 3.65, 3.7 , 3.75, 3.8 ,\n",
              "       3.85, 3.9 , 3.95, 4.  , 4.05, 4.1 , 4.15, 4.2 , 4.25, 4.3 , 4.35,\n",
              "       4.4 , 4.45, 4.5 , 4.55, 4.6 , 4.65, 4.7 , 4.75, 4.8 , 4.85, 4.9 ,\n",
              "       4.95, 5.  , 5.05, 5.1 , 5.15, 5.2 , 5.25, 5.3 , 5.35, 5.4 , 5.45,\n",
              "       5.5 , 5.55, 5.6 , 5.65, 5.7 , 5.75, 5.8 , 5.85, 5.9 , 5.95, 6.  ,\n",
              "       6.05, 6.1 , 6.15, 6.2 , 6.25, 6.3 , 6.35, 6.4 , 6.45, 6.5 , 6.55,\n",
              "       6.6 , 6.65, 6.7 , 6.75, 6.8 , 6.85, 6.9 , 6.95, 7.  , 7.05, 7.1 ,\n",
              "       7.15, 7.2 , 7.25, 7.3 , 7.35, 7.4 , 7.45, 7.5 , 7.55, 7.6 , 7.65,\n",
              "       7.7 , 7.75, 7.8 , 7.85, 7.9 , 7.95, 8.  , 8.05, 8.1 , 8.15, 8.2 ,\n",
              "       8.25, 8.3 , 8.35, 8.4 , 8.45, 8.5 , 8.55, 8.6 , 8.65, 8.7 , 8.75,\n",
              "       8.8 , 8.85, 8.9 , 8.95, 9.  , 9.05, 9.1 , 9.15, 9.2 , 9.25, 9.3 ,\n",
              "       9.35, 9.4 , 9.45, 9.5 , 9.55, 9.6 , 9.65, 9.7 , 9.75, 9.8 , 9.85,\n",
              "       9.9 , 9.95])"
            ]
          },
          "metadata": {
            "tags": []
          },
          "execution_count": 45
        }
      ]
    },
    {
      "cell_type": "markdown",
      "metadata": {
        "id": "A4QjvCTNSxnM"
      },
      "source": [
        "Esto es útil para crear una variable que contenga valores de tiempo a intervalos regulares."
      ]
    },
    {
      "cell_type": "markdown",
      "metadata": {
        "id": "DVPJYpVvvZNp"
      },
      "source": [
        "#### Si interesa controlar el número de datos en el intervalo:"
      ]
    },
    {
      "cell_type": "code",
      "metadata": {
        "id": "AY6dTNMAvZNp",
        "colab": {
          "base_uri": "https://localhost:8080/"
        },
        "outputId": "0d33824c-c624-4e8c-82f6-66922b166e87"
      },
      "source": [
        "t= np.linspace(0, 10, 5)\n",
        "t"
      ],
      "execution_count": null,
      "outputs": [
        {
          "output_type": "execute_result",
          "data": {
            "text/plain": [
              "array([ 0. ,  2.5,  5. ,  7.5, 10. ])"
            ]
          },
          "metadata": {
            "tags": []
          },
          "execution_count": 46
        }
      ]
    },
    {
      "cell_type": "code",
      "metadata": {
        "id": "zZowWE9AvZNp",
        "colab": {
          "base_uri": "https://localhost:8080/"
        },
        "outputId": "d8f18d18-69dc-439e-8355-b51283f17911"
      },
      "source": [
        "t= np.linspace(0, -10, 10)\n",
        "t"
      ],
      "execution_count": null,
      "outputs": [
        {
          "output_type": "execute_result",
          "data": {
            "text/plain": [
              "array([  0.        ,  -1.11111111,  -2.22222222,  -3.33333333,\n",
              "        -4.44444444,  -5.55555556,  -6.66666667,  -7.77777778,\n",
              "        -8.88888889, -10.        ])"
            ]
          },
          "metadata": {
            "tags": []
          },
          "execution_count": 47
        }
      ]
    },
    {
      "cell_type": "markdown",
      "metadata": {
        "id": "U1XvL8vhvZNq"
      },
      "source": [
        "### Se pueden iniciar numpys con un nº de dimensiones conocidas de distintas formas:"
      ]
    },
    {
      "cell_type": "markdown",
      "metadata": {
        "id": "XYdjvdB6vZNq"
      },
      "source": [
        "#### Vacío"
      ]
    },
    {
      "cell_type": "code",
      "metadata": {
        "id": "ihtmOnOAvZNq",
        "colab": {
          "base_uri": "https://localhost:8080/"
        },
        "outputId": "bc10bf16-4acd-4da9-9d5e-9cd4926062ec"
      },
      "source": [
        "x=np.empty([2,3]) #2 filas y 3 columnas vacías\n",
        "print(x)"
      ],
      "execution_count": null,
      "outputs": [
        {
          "output_type": "stream",
          "text": [
            "[[4.65212552e-310 0.00000000e+000 0.00000000e+000]\n",
            " [0.00000000e+000 0.00000000e+000 0.00000000e+000]]\n"
          ],
          "name": "stdout"
        }
      ]
    },
    {
      "cell_type": "markdown",
      "metadata": {
        "id": "iRMX_WaNvZNq"
      },
      "source": [
        "#### con algún valor concreto"
      ]
    },
    {
      "cell_type": "code",
      "metadata": {
        "id": "HxLD9DQTvZNq",
        "colab": {
          "base_uri": "https://localhost:8080/"
        },
        "outputId": "7e658606-0081-4062-9569-97bc64831b71"
      },
      "source": [
        "x=np.zeros([2,3]) #2 filas y 3 columnas vacías\n",
        "print(x)\n",
        "x=np.ones([2,3]) #2 filas y 3 columnas vacías\n",
        "print(x)\n",
        "x=np.full([2,3], np.pi)#2 filas y 3 columnas vacías\n",
        "print(x)\n"
      ],
      "execution_count": null,
      "outputs": [
        {
          "output_type": "stream",
          "text": [
            "[[0. 0. 0.]\n",
            " [0. 0. 0.]]\n",
            "[[1. 1. 1.]\n",
            " [1. 1. 1.]]\n",
            "[[3.14159265 3.14159265 3.14159265]\n",
            " [3.14159265 3.14159265 3.14159265]]\n"
          ],
          "name": "stdout"
        }
      ]
    },
    {
      "cell_type": "markdown",
      "metadata": {
        "id": "AaeuyBAMvZNq"
      },
      "source": [
        "#### con números aleatorios"
      ]
    },
    {
      "cell_type": "code",
      "metadata": {
        "id": "OZT1zem4vZNr",
        "colab": {
          "base_uri": "https://localhost:8080/"
        },
        "outputId": "83cc5b15-b324-47a8-c9ab-5fad6fedd932"
      },
      "source": [
        "yi=np.random.randint(0,10, size=(2, 3)) #enteros entre el 0 y el 10, con 2 filas y 3 columnas\n",
        "print(yi)"
      ],
      "execution_count": null,
      "outputs": [
        {
          "output_type": "stream",
          "text": [
            "[[3 6 9]\n",
            " [0 0 3]]\n"
          ],
          "name": "stdout"
        }
      ]
    },
    {
      "cell_type": "code",
      "metadata": {
        "id": "Xj7ImmezvZNr",
        "colab": {
          "base_uri": "https://localhost:8080/"
        },
        "outputId": "f6794e21-2afa-40eb-87fb-ff10dd0a392e"
      },
      "source": [
        "y= np.random.rand(2, 3) #float entre 0 y 1. 2 filas y 3 columnas\n",
        "print(y)"
      ],
      "execution_count": null,
      "outputs": [
        {
          "output_type": "stream",
          "text": [
            "[[0.57621961 0.5273417  0.00285863]\n",
            " [0.82631009 0.94315485 0.2067753 ]]\n"
          ],
          "name": "stdout"
        }
      ]
    },
    {
      "cell_type": "code",
      "metadata": {
        "id": "OccwGLbCvZNr",
        "colab": {
          "base_uri": "https://localhost:8080/"
        },
        "outputId": "02abdec2-ebbc-4c08-a943-62604129df27"
      },
      "source": [
        "yn= np.random.randn(2, 3) #con distribución normal con media 0 y sd 1\n",
        "print(yn)"
      ],
      "execution_count": null,
      "outputs": [
        {
          "output_type": "stream",
          "text": [
            "[[ 0.87798152  0.71696373  0.30961795]\n",
            " [ 1.0448978   0.07446876 -0.09972287]]\n"
          ],
          "name": "stdout"
        }
      ]
    },
    {
      "cell_type": "code",
      "metadata": {
        "id": "kLJzwbxXvZNr",
        "colab": {
          "base_uri": "https://localhost:8080/"
        },
        "outputId": "a55e23f6-e8f3-4d70-c85a-e6f843de569a"
      },
      "source": [
        "media=3.4\n",
        "sd=0.5\n",
        "ynn = np.random.normal(media, sd, [2, 3]) #con distribución normal con media y sd definidas\n",
        "print(ynn)"
      ],
      "execution_count": null,
      "outputs": [
        {
          "output_type": "stream",
          "text": [
            "[[3.0478582  3.13746127 4.09176341]\n",
            " [3.63763905 2.73628839 3.81094911]]\n"
          ],
          "name": "stdout"
        }
      ]
    },
    {
      "cell_type": "code",
      "metadata": {
        "id": "SibWBYirvZNs",
        "colab": {
          "base_uri": "https://localhost:8080/"
        },
        "outputId": "3e6d0f29-e84b-45f5-f219-a6b52b8b0cef"
      },
      "source": [
        "opciones=['A','B','C','D','E']\n",
        "seleccion=np.random.choice(opciones, size=4)\n",
        "print('Selección con reemplazo ', seleccion)\n",
        "\n",
        "seleccion=np.random.choice(opciones, size=4, replace=False)\n",
        "print('Selección sin reemplazo ', seleccion)\n",
        "\n",
        "seleccion=np.random.choice(opciones, size=(4,3), p=[0.6, 0.05, 0.15, 0.1, 0.1])\n",
        "print('Selección con reemplazo y ajuste de probabilidades\\n', seleccion)"
      ],
      "execution_count": null,
      "outputs": [
        {
          "output_type": "stream",
          "text": [
            "Selección con reemplazo  ['C' 'E' 'A' 'D']\n",
            "Selección sin reemplazo  ['B' 'A' 'D' 'C']\n",
            "Selección con reemplazo y ajuste de probabilidades\n",
            " [['A' 'D' 'C']\n",
            " ['A' 'A' 'A']\n",
            " ['A' 'C' 'A']\n",
            " ['A' 'D' 'D']]\n"
          ],
          "name": "stdout"
        }
      ]
    },
    {
      "cell_type": "markdown",
      "metadata": {
        "id": "8SEl0DgvvZNs"
      },
      "source": [
        "Se pueden visualizar rápidamente los datos."
      ]
    },
    {
      "cell_type": "code",
      "metadata": {
        "id": "gy-KlMk6vZNs",
        "colab": {
          "base_uri": "https://localhost:8080/"
        },
        "outputId": "d2cca6ab-0e79-479e-fb0d-7157efab411a"
      },
      "source": [
        "import matplotlib.pyplot as plt\n",
        "%matplotlib inline  \n",
        "\n",
        "means=[1.9, 0.7,-1.5]\n",
        "sigmas=[0.5, 1.3, 2.1]\n",
        "sx = np.random.normal(means, sigmas, [30, len(means)])\n",
        "plt.plot(sx,'o')\n",
        "#plt.plot(sx[:, 0], 'bo')\n",
        "#plt.plot(sx[:, 1], 'ro')"
      ],
      "execution_count": null,
      "outputs": [
        {
          "output_type": "execute_result",
          "data": {
            "text/plain": [
              "[<matplotlib.lines.Line2D at 0x7f30026e7450>,\n",
              " <matplotlib.lines.Line2D at 0x7f30026e7710>,\n",
              " <matplotlib.lines.Line2D at 0x7f30026e78d0>]"
            ]
          },
          "metadata": {
            "tags": []
          },
          "execution_count": 55
        },
        {
          "output_type": "display_data",
          "data": {
            "image/png": "[encoded data removed]",
            "text/plain": [
              "<Figure size 432x288 with 1 Axes>"
            ]
          },
          "metadata": {
            "tags": [],
            "needs_background": "light"
          }
        }
      ]
    },
    {
      "cell_type": "markdown",
      "metadata": {
        "id": "OWHdmczsvZNs"
      },
      "source": [
        "### Algunas operaciones para gestionar numpys"
      ]
    },
    {
      "cell_type": "code",
      "metadata": {
        "id": "Mmh-bsYvvZNt",
        "colab": {
          "base_uri": "https://localhost:8080/"
        },
        "outputId": "b575adc5-1274-4e81-ee2d-053bcb8a7d7f"
      },
      "source": [
        "np.random.seed(1) #fija la aleatoriedad para que sea reproducible\n",
        "a=np.random.randint(0,10, size=(2, 3))\n",
        "b=np.random.randint(0,10, size=(2, 3))\n",
        "c=np.vstack((a,b))#los une por debajo\n",
        "print('a=', a, '\\nb=', b, '\\nc=', c, '\\nDimensiones=', c.shape)"
      ],
      "execution_count": null,
      "outputs": [
        {
          "output_type": "stream",
          "text": [
            "a= [[5 8 9]\n",
            " [5 0 0]] \n",
            "b= [[1 7 6]\n",
            " [9 2 4]] \n",
            "c= [[5 8 9]\n",
            " [5 0 0]\n",
            " [1 7 6]\n",
            " [9 2 4]] \n",
            "Dimensiones= (4, 3)\n"
          ],
          "name": "stdout"
        }
      ]
    },
    {
      "cell_type": "code",
      "metadata": {
        "id": "ZGUobdDmvZNt",
        "colab": {
          "base_uri": "https://localhost:8080/"
        },
        "outputId": "290763ec-0c68-4c0f-cae1-d8bb9602dedb"
      },
      "source": [
        "c=np.hstack((a,b))#los une poniendo uno al lado del otro\n",
        "print('a=', a, '\\nb=', b, '\\nc=', c, '\\nDimensiones=', c.shape)"
      ],
      "execution_count": null,
      "outputs": [
        {
          "output_type": "stream",
          "text": [
            "a= [[5 8 9]\n",
            " [5 0 0]] \n",
            "b= [[1 7 6]\n",
            " [9 2 4]] \n",
            "c= [[5 8 9 1 7 6]\n",
            " [5 0 0 9 2 4]] \n",
            "Dimensiones= (2, 6)\n"
          ],
          "name": "stdout"
        }
      ]
    },
    {
      "cell_type": "code",
      "metadata": {
        "id": "4airVsqJvZNt",
        "colab": {
          "base_uri": "https://localhost:8080/"
        },
        "outputId": "c7c3fe5e-5d8d-44bb-ac90-2d3f71faa6dc"
      },
      "source": [
        "d=c.T#transpone los datos, filas en columnas y al revés\n",
        "print(d)"
      ],
      "execution_count": null,
      "outputs": [
        {
          "output_type": "stream",
          "text": [
            "[[5 5]\n",
            " [8 0]\n",
            " [9 0]\n",
            " [1 9]\n",
            " [7 2]\n",
            " [6 4]]\n"
          ],
          "name": "stdout"
        }
      ]
    },
    {
      "cell_type": "markdown",
      "metadata": {
        "id": "UptERsfgvZNt"
      },
      "source": [
        ""
      ]
    },
    {
      "cell_type": "markdown",
      "metadata": {
        "id": "AwUceC4evZNt"
      },
      "source": [
        "## Otro tipo de variable complementario del numpy: PANDAS"
      ]
    },
    {
      "cell_type": "markdown",
      "metadata": {
        "id": "veRWE_aBvZNu"
      },
      "source": [
        "Muy útil para gestionar bases de datos. Genera un tipo de datos llamado *dataframe* que utiliza etiquetas de filas y columnas como si fuera una hoja de cálculo.\n",
        "\n",
        "En series temporales normalmente las columnas representan variables y las filas los instantes temporales."
      ]
    },
    {
      "cell_type": "code",
      "metadata": {
        "id": "j6BEZ9gSvZNu",
        "colab": {
          "base_uri": "https://localhost:8080/",
          "height": 173
        },
        "outputId": "9c8003b0-585a-40c2-a727-b0226c8aeea5"
      },
      "source": [
        "import numpy as np\n",
        "import pandas as pd\n",
        "\n",
        "df=pd.DataFrame([3,5,6,2], columns=['var1'])\n",
        "df"
      ],
      "execution_count": null,
      "outputs": [
        {
          "output_type": "execute_result",
          "data": {
            "text/html": [
              "<div>\n",
              "<style scoped>\n",
              "    .dataframe tbody tr th:only-of-type {\n",
              "        vertical-align: middle;\n",
              "    }\n",
              "\n",
              "    .dataframe tbody tr th {\n",
              "        vertical-align: top;\n",
              "    }\n",
              "\n",
              "    .dataframe thead th {\n",
              "        text-align: right;\n",
              "    }\n",
              "</style>\n",
              "<table border=\"1\" class=\"dataframe\">\n",
              "  <thead>\n",
              "    <tr style=\"text-align: right;\">\n",
              "      <th></th>\n",
              "      <th>var1</th>\n",
              "    </tr>\n",
              "  </thead>\n",
              "  <tbody>\n",
              "    <tr>\n",
              "      <th>0</th>\n",
              "      <td>3</td>\n",
              "    </tr>\n",
              "    <tr>\n",
              "      <th>1</th>\n",
              "      <td>5</td>\n",
              "    </tr>\n",
              "    <tr>\n",
              "      <th>2</th>\n",
              "      <td>6</td>\n",
              "    </tr>\n",
              "    <tr>\n",
              "      <th>3</th>\n",
              "      <td>2</td>\n",
              "    </tr>\n",
              "  </tbody>\n",
              "</table>\n",
              "</div>"
            ],
            "text/plain": [
              "   var1\n",
              "0     3\n",
              "1     5\n",
              "2     6\n",
              "3     2"
            ]
          },
          "metadata": {
            "tags": []
          },
          "execution_count": 40
        }
      ]
    },
    {
      "cell_type": "markdown",
      "metadata": {
        "id": "_JALfatg1Ubq"
      },
      "source": [
        "En este otro ejemplo, creamos una matriz de datos aleatorios de 4 filas y 3 columnas."
      ]
    },
    {
      "cell_type": "code",
      "metadata": {
        "colab": {
          "base_uri": "https://localhost:8080/"
        },
        "id": "ezgwcUrQGTG5",
        "outputId": "60c66ec5-3f3d-4d40-cb6d-418a7266f6cf"
      },
      "source": [
        "np.random.randint(0, 10, size=(4, 3))"
      ],
      "execution_count": null,
      "outputs": [
        {
          "output_type": "execute_result",
          "data": {
            "text/plain": [
              "array([[9, 4, 6],\n",
              "       [2, 6, 2],\n",
              "       [7, 7, 9],\n",
              "       [8, 0, 0]])"
            ]
          },
          "metadata": {
            "tags": []
          },
          "execution_count": 46
        }
      ]
    },
    {
      "cell_type": "code",
      "metadata": {
        "id": "wufR30tK1Fum",
        "colab": {
          "base_uri": "https://localhost:8080/"
        },
        "outputId": "60521849-9d5a-418d-93f8-fe5a87dca3f4"
      },
      "source": [
        "df2=pd.DataFrame(np.random.randint(0, 10, size=(4, 3)), columns=['a', 'b', 'c']) #se pueden nombrar las columnas directamente\n",
        "print('df2= \\n', df2)\n",
        "#o cambiar las columnas por separado\n",
        "df2.columns=['A', 'B', 'C']\n",
        "print('df2= \\n', df2)"
      ],
      "execution_count": null,
      "outputs": [
        {
          "output_type": "stream",
          "text": [
            "df2= \n",
            "    a  b  c\n",
            "0  5  2  5\n",
            "1  0  2  4\n",
            "2  6  1  3\n",
            "3  8  1  1\n",
            "df2= \n",
            "    A  B  C\n",
            "0  5  2  5\n",
            "1  0  2  4\n",
            "2  6  1  3\n",
            "3  8  1  1\n"
          ],
          "name": "stdout"
        }
      ]
    },
    {
      "cell_type": "markdown",
      "metadata": {
        "id": "v2Bw2N-qvZNu"
      },
      "source": [
        "Para describir rápidamente el dataframe"
      ]
    },
    {
      "cell_type": "code",
      "metadata": {
        "id": "D2aO0x7cvZNv",
        "colab": {
          "base_uri": "https://localhost:8080/",
          "height": 80
        },
        "outputId": "82fb8406-6965-45c7-c812-83ceec1b1ff5"
      },
      "source": [
        "df=pd.DataFrame(np.random.rand(20, 3))\n",
        "df.head(1) #presenta las 5 primeras filas"
      ],
      "execution_count": null,
      "outputs": [
        {
          "output_type": "execute_result",
          "data": {
            "text/html": [
              "<div>\n",
              "<style scoped>\n",
              "    .dataframe tbody tr th:only-of-type {\n",
              "        vertical-align: middle;\n",
              "    }\n",
              "\n",
              "    .dataframe tbody tr th {\n",
              "        vertical-align: top;\n",
              "    }\n",
              "\n",
              "    .dataframe thead th {\n",
              "        text-align: right;\n",
              "    }\n",
              "</style>\n",
              "<table border=\"1\" class=\"dataframe\">\n",
              "  <thead>\n",
              "    <tr style=\"text-align: right;\">\n",
              "      <th></th>\n",
              "      <th>0</th>\n",
              "      <th>1</th>\n",
              "      <th>2</th>\n",
              "    </tr>\n",
              "  </thead>\n",
              "  <tbody>\n",
              "    <tr>\n",
              "      <th>0</th>\n",
              "      <td>0.152338</td>\n",
              "      <td>0.959085</td>\n",
              "      <td>0.501269</td>\n",
              "    </tr>\n",
              "  </tbody>\n",
              "</table>\n",
              "</div>"
            ],
            "text/plain": [
              "          0         1         2\n",
              "0  0.152338  0.959085  0.501269"
            ]
          },
          "metadata": {
            "tags": []
          },
          "execution_count": 50
        }
      ]
    },
    {
      "cell_type": "code",
      "metadata": {
        "id": "liX4s8g1vZN0",
        "colab": {
          "base_uri": "https://localhost:8080/",
          "height": 204
        },
        "outputId": "c288caf9-1441-4a77-b642-b8228b292fdb"
      },
      "source": [
        "df.tail() #presenta las 5 últimas filas"
      ],
      "execution_count": null,
      "outputs": [
        {
          "output_type": "execute_result",
          "data": {
            "text/html": [
              "<div>\n",
              "<style scoped>\n",
              "    .dataframe tbody tr th:only-of-type {\n",
              "        vertical-align: middle;\n",
              "    }\n",
              "\n",
              "    .dataframe tbody tr th {\n",
              "        vertical-align: top;\n",
              "    }\n",
              "\n",
              "    .dataframe thead th {\n",
              "        text-align: right;\n",
              "    }\n",
              "</style>\n",
              "<table border=\"1\" class=\"dataframe\">\n",
              "  <thead>\n",
              "    <tr style=\"text-align: right;\">\n",
              "      <th></th>\n",
              "      <th>0</th>\n",
              "      <th>1</th>\n",
              "      <th>2</th>\n",
              "    </tr>\n",
              "  </thead>\n",
              "  <tbody>\n",
              "    <tr>\n",
              "      <th>15</th>\n",
              "      <td>0.637154</td>\n",
              "      <td>0.718591</td>\n",
              "      <td>0.647129</td>\n",
              "    </tr>\n",
              "    <tr>\n",
              "      <th>16</th>\n",
              "      <td>0.814502</td>\n",
              "      <td>0.538271</td>\n",
              "      <td>0.841754</td>\n",
              "    </tr>\n",
              "    <tr>\n",
              "      <th>17</th>\n",
              "      <td>0.037109</td>\n",
              "      <td>0.772144</td>\n",
              "      <td>0.650585</td>\n",
              "    </tr>\n",
              "    <tr>\n",
              "      <th>18</th>\n",
              "      <td>0.727977</td>\n",
              "      <td>0.854348</td>\n",
              "      <td>0.928416</td>\n",
              "    </tr>\n",
              "    <tr>\n",
              "      <th>19</th>\n",
              "      <td>0.601163</td>\n",
              "      <td>0.665067</td>\n",
              "      <td>0.100881</td>\n",
              "    </tr>\n",
              "  </tbody>\n",
              "</table>\n",
              "</div>"
            ],
            "text/plain": [
              "           0         1         2\n",
              "15  0.637154  0.718591  0.647129\n",
              "16  0.814502  0.538271  0.841754\n",
              "17  0.037109  0.772144  0.650585\n",
              "18  0.727977  0.854348  0.928416\n",
              "19  0.601163  0.665067  0.100881"
            ]
          },
          "metadata": {
            "tags": []
          },
          "execution_count": 51
        }
      ]
    },
    {
      "cell_type": "code",
      "metadata": {
        "id": "Yv7ra5MZvZN1",
        "colab": {
          "base_uri": "https://localhost:8080/",
          "height": 297
        },
        "outputId": "f9efa4da-5fd1-439a-f527-2dbe94103c3c"
      },
      "source": [
        "df.describe() #estadísticas descriptivas"
      ],
      "execution_count": null,
      "outputs": [
        {
          "output_type": "execute_result",
          "data": {
            "text/html": [
              "<div>\n",
              "<style scoped>\n",
              "    .dataframe tbody tr th:only-of-type {\n",
              "        vertical-align: middle;\n",
              "    }\n",
              "\n",
              "    .dataframe tbody tr th {\n",
              "        vertical-align: top;\n",
              "    }\n",
              "\n",
              "    .dataframe thead th {\n",
              "        text-align: right;\n",
              "    }\n",
              "</style>\n",
              "<table border=\"1\" class=\"dataframe\">\n",
              "  <thead>\n",
              "    <tr style=\"text-align: right;\">\n",
              "      <th></th>\n",
              "      <th>0</th>\n",
              "      <th>1</th>\n",
              "      <th>2</th>\n",
              "    </tr>\n",
              "  </thead>\n",
              "  <tbody>\n",
              "    <tr>\n",
              "      <th>count</th>\n",
              "      <td>20.000000</td>\n",
              "      <td>20.000000</td>\n",
              "      <td>20.000000</td>\n",
              "    </tr>\n",
              "    <tr>\n",
              "      <th>mean</th>\n",
              "      <td>0.574109</td>\n",
              "      <td>0.564429</td>\n",
              "      <td>0.571134</td>\n",
              "    </tr>\n",
              "    <tr>\n",
              "      <th>std</th>\n",
              "      <td>0.318133</td>\n",
              "      <td>0.264980</td>\n",
              "      <td>0.264631</td>\n",
              "    </tr>\n",
              "    <tr>\n",
              "      <th>min</th>\n",
              "      <td>0.037109</td>\n",
              "      <td>0.111893</td>\n",
              "      <td>0.009903</td>\n",
              "    </tr>\n",
              "    <tr>\n",
              "      <th>25%</th>\n",
              "      <td>0.287175</td>\n",
              "      <td>0.327628</td>\n",
              "      <td>0.455589</td>\n",
              "    </tr>\n",
              "    <tr>\n",
              "      <th>50%</th>\n",
              "      <td>0.621489</td>\n",
              "      <td>0.659302</td>\n",
              "      <td>0.644971</td>\n",
              "    </tr>\n",
              "    <tr>\n",
              "      <th>75%</th>\n",
              "      <td>0.817687</td>\n",
              "      <td>0.758904</td>\n",
              "      <td>0.701336</td>\n",
              "    </tr>\n",
              "    <tr>\n",
              "      <th>max</th>\n",
              "      <td>0.991407</td>\n",
              "      <td>0.959085</td>\n",
              "      <td>0.961847</td>\n",
              "    </tr>\n",
              "  </tbody>\n",
              "</table>\n",
              "</div>"
            ],
            "text/plain": [
              "               0          1          2\n",
              "count  20.000000  20.000000  20.000000\n",
              "mean    0.574109   0.564429   0.571134\n",
              "std     0.318133   0.264980   0.264631\n",
              "min     0.037109   0.111893   0.009903\n",
              "25%     0.287175   0.327628   0.455589\n",
              "50%     0.621489   0.659302   0.644971\n",
              "75%     0.817687   0.758904   0.701336\n",
              "max     0.991407   0.959085   0.961847"
            ]
          },
          "metadata": {
            "tags": []
          },
          "execution_count": 52
        }
      ]
    },
    {
      "cell_type": "markdown",
      "metadata": {
        "id": "S8WJGCRqvZN1"
      },
      "source": [
        "### Al copiar dataframes hay que tener cuidado, por defecto no hace una copia, sino que con otro nombre apunta a los mismos datos:"
      ]
    },
    {
      "cell_type": "code",
      "metadata": {
        "colab": {
          "base_uri": "https://localhost:8080/",
          "height": 173
        },
        "id": "SbosDf-LHUcX",
        "outputId": "d17b17ca-b87d-4e7f-c70f-b9e31f6f57da"
      },
      "source": [
        "df2"
      ],
      "execution_count": null,
      "outputs": [
        {
          "output_type": "execute_result",
          "data": {
            "text/html": [
              "<div>\n",
              "<style scoped>\n",
              "    .dataframe tbody tr th:only-of-type {\n",
              "        vertical-align: middle;\n",
              "    }\n",
              "\n",
              "    .dataframe tbody tr th {\n",
              "        vertical-align: top;\n",
              "    }\n",
              "\n",
              "    .dataframe thead th {\n",
              "        text-align: right;\n",
              "    }\n",
              "</style>\n",
              "<table border=\"1\" class=\"dataframe\">\n",
              "  <thead>\n",
              "    <tr style=\"text-align: right;\">\n",
              "      <th></th>\n",
              "      <th>A</th>\n",
              "      <th>B</th>\n",
              "      <th>C</th>\n",
              "    </tr>\n",
              "  </thead>\n",
              "  <tbody>\n",
              "    <tr>\n",
              "      <th>0</th>\n",
              "      <td>5</td>\n",
              "      <td>2</td>\n",
              "      <td>5</td>\n",
              "    </tr>\n",
              "    <tr>\n",
              "      <th>1</th>\n",
              "      <td>0</td>\n",
              "      <td>2</td>\n",
              "      <td>4</td>\n",
              "    </tr>\n",
              "    <tr>\n",
              "      <th>2</th>\n",
              "      <td>6</td>\n",
              "      <td>1</td>\n",
              "      <td>3</td>\n",
              "    </tr>\n",
              "    <tr>\n",
              "      <th>3</th>\n",
              "      <td>8</td>\n",
              "      <td>1</td>\n",
              "      <td>1</td>\n",
              "    </tr>\n",
              "  </tbody>\n",
              "</table>\n",
              "</div>"
            ],
            "text/plain": [
              "   A  B  C\n",
              "0  5  2  5\n",
              "1  0  2  4\n",
              "2  6  1  3\n",
              "3  8  1  1"
            ]
          },
          "metadata": {
            "tags": []
          },
          "execution_count": 53
        }
      ]
    },
    {
      "cell_type": "code",
      "metadata": {
        "id": "H1coF4JRvZN1",
        "colab": {
          "base_uri": "https://localhost:8080/",
          "height": 173
        },
        "outputId": "c8462df3-1423-4876-830b-e96ff00100b2"
      },
      "source": [
        "df2copia=df2 #no crea una nueva copia de df2, solo podemos usar df2copia para nombrar el mismo df2\n",
        "df2copia.columns=['a', 'b', 'c'] #realmente ha cambiado df2\n",
        "df2"
      ],
      "execution_count": null,
      "outputs": [
        {
          "output_type": "execute_result",
          "data": {
            "text/html": [
              "<div>\n",
              "<style scoped>\n",
              "    .dataframe tbody tr th:only-of-type {\n",
              "        vertical-align: middle;\n",
              "    }\n",
              "\n",
              "    .dataframe tbody tr th {\n",
              "        vertical-align: top;\n",
              "    }\n",
              "\n",
              "    .dataframe thead th {\n",
              "        text-align: right;\n",
              "    }\n",
              "</style>\n",
              "<table border=\"1\" class=\"dataframe\">\n",
              "  <thead>\n",
              "    <tr style=\"text-align: right;\">\n",
              "      <th></th>\n",
              "      <th>a</th>\n",
              "      <th>b</th>\n",
              "      <th>c</th>\n",
              "    </tr>\n",
              "  </thead>\n",
              "  <tbody>\n",
              "    <tr>\n",
              "      <th>0</th>\n",
              "      <td>5</td>\n",
              "      <td>2</td>\n",
              "      <td>5</td>\n",
              "    </tr>\n",
              "    <tr>\n",
              "      <th>1</th>\n",
              "      <td>0</td>\n",
              "      <td>2</td>\n",
              "      <td>4</td>\n",
              "    </tr>\n",
              "    <tr>\n",
              "      <th>2</th>\n",
              "      <td>6</td>\n",
              "      <td>1</td>\n",
              "      <td>3</td>\n",
              "    </tr>\n",
              "    <tr>\n",
              "      <th>3</th>\n",
              "      <td>8</td>\n",
              "      <td>1</td>\n",
              "      <td>1</td>\n",
              "    </tr>\n",
              "  </tbody>\n",
              "</table>\n",
              "</div>"
            ],
            "text/plain": [
              "   a  b  c\n",
              "0  5  2  5\n",
              "1  0  2  4\n",
              "2  6  1  3\n",
              "3  8  1  1"
            ]
          },
          "metadata": {
            "tags": []
          },
          "execution_count": 54
        }
      ]
    },
    {
      "cell_type": "markdown",
      "metadata": {
        "id": "BImfcjcxvZN1"
      },
      "source": [
        "Para hacer una copia independiente hay que especificarlo."
      ]
    },
    {
      "cell_type": "code",
      "metadata": {
        "id": "Pw68iTR2vZN2",
        "colab": {
          "base_uri": "https://localhost:8080/"
        },
        "outputId": "20055f10-85d7-4b41-c7e3-93c54e36a9d2"
      },
      "source": [
        "df3=df2.copy() #df3 es una copia independiente\n",
        "df3.columns=['A', 'B', 'C'] #si le cambiamos algo, no afecta a df2\n",
        "print('\\ndf3 ha cambiado = \\n', df3)\n",
        "print('\\ndf2 no cambia= \\n', df2)"
      ],
      "execution_count": null,
      "outputs": [
        {
          "output_type": "stream",
          "text": [
            "\n",
            "df3 ha cambiado = \n",
            "    A  B  C\n",
            "0  5  2  5\n",
            "1  0  2  4\n",
            "2  6  1  3\n",
            "3  8  1  1\n",
            "\n",
            "df2 no cambia= \n",
            "    a  b  c\n",
            "0  5  2  5\n",
            "1  0  2  4\n",
            "2  6  1  3\n",
            "3  8  1  1\n"
          ],
          "name": "stdout"
        }
      ]
    },
    {
      "cell_type": "markdown",
      "metadata": {
        "id": "-mvYXBy05nxd"
      },
      "source": [
        "También se pueden modificar las etiquetas de las filas, llamadas índices."
      ]
    },
    {
      "cell_type": "code",
      "metadata": {
        "id": "5q40RgOXvZN2",
        "colab": {
          "base_uri": "https://localhost:8080/"
        },
        "outputId": "f84e4b89-94f4-4e08-9f09-5bdd23934e6b"
      },
      "source": [
        "df3.index=['suj1', 'suj2', 'suj3', 'suj4'] #los nombres de las filas también se pueden modificar\n",
        "print('\\ndf3= \\n', df3)"
      ],
      "execution_count": null,
      "outputs": [
        {
          "output_type": "stream",
          "text": [
            "\n",
            "df3= \n",
            "       A  B  C\n",
            "suj1  5  2  5\n",
            "suj2  0  2  4\n",
            "suj3  6  1  3\n",
            "suj4  8  1  1\n"
          ],
          "name": "stdout"
        }
      ]
    },
    {
      "cell_type": "markdown",
      "metadata": {
        "id": "3HBEUGGvvZN2"
      },
      "source": [
        "### Se pueden seleccionar bloques de datos\n",
        "\n",
        "Nos puede interesar seleccionar una columna completa, una fila completa, un bloque determinado, los datos que cumplan una condición, etc."
      ]
    },
    {
      "cell_type": "code",
      "metadata": {
        "id": "Vq3gjJZWvZN2",
        "colab": {
          "base_uri": "https://localhost:8080/",
          "height": 111
        },
        "outputId": "8da42dca-9f3d-4dfd-a2f1-d82c1ae0796a"
      },
      "source": [
        "df2[2:4] #todas las columnas, filas de 2 a 4 (no inclusive)"
      ],
      "execution_count": null,
      "outputs": [
        {
          "output_type": "execute_result",
          "data": {
            "text/html": [
              "<div>\n",
              "<style scoped>\n",
              "    .dataframe tbody tr th:only-of-type {\n",
              "        vertical-align: middle;\n",
              "    }\n",
              "\n",
              "    .dataframe tbody tr th {\n",
              "        vertical-align: top;\n",
              "    }\n",
              "\n",
              "    .dataframe thead th {\n",
              "        text-align: right;\n",
              "    }\n",
              "</style>\n",
              "<table border=\"1\" class=\"dataframe\">\n",
              "  <thead>\n",
              "    <tr style=\"text-align: right;\">\n",
              "      <th></th>\n",
              "      <th>a</th>\n",
              "      <th>b</th>\n",
              "      <th>c</th>\n",
              "    </tr>\n",
              "  </thead>\n",
              "  <tbody>\n",
              "    <tr>\n",
              "      <th>2</th>\n",
              "      <td>6</td>\n",
              "      <td>1</td>\n",
              "      <td>3</td>\n",
              "    </tr>\n",
              "    <tr>\n",
              "      <th>3</th>\n",
              "      <td>8</td>\n",
              "      <td>1</td>\n",
              "      <td>1</td>\n",
              "    </tr>\n",
              "  </tbody>\n",
              "</table>\n",
              "</div>"
            ],
            "text/plain": [
              "   a  b  c\n",
              "2  6  1  3\n",
              "3  8  1  1"
            ]
          },
          "metadata": {
            "tags": []
          },
          "execution_count": 57
        }
      ]
    },
    {
      "cell_type": "code",
      "metadata": {
        "id": "YQwYuauvvZN2",
        "colab": {
          "base_uri": "https://localhost:8080/"
        },
        "outputId": "eaf8a4d3-7662-4881-8f9f-be168f1b2e4e"
      },
      "source": [
        "df2['b'] #la columna 'a'"
      ],
      "execution_count": null,
      "outputs": [
        {
          "output_type": "execute_result",
          "data": {
            "text/plain": [
              "0    2\n",
              "1    2\n",
              "2    1\n",
              "3    1\n",
              "Name: b, dtype: int64"
            ]
          },
          "metadata": {
            "tags": []
          },
          "execution_count": 59
        }
      ]
    },
    {
      "cell_type": "code",
      "metadata": {
        "id": "zirsH9yRvZN3",
        "colab": {
          "base_uri": "https://localhost:8080/"
        },
        "outputId": "2a6f7f81-8594-4d59-ecd7-b5ccf989b2fe"
      },
      "source": [
        "df2['a'][2:4]"
      ],
      "execution_count": null,
      "outputs": [
        {
          "output_type": "execute_result",
          "data": {
            "text/plain": [
              "2    6\n",
              "3    8\n",
              "Name: a, dtype: int64"
            ]
          },
          "metadata": {
            "tags": []
          },
          "execution_count": 60
        }
      ]
    },
    {
      "cell_type": "code",
      "metadata": {
        "id": "anwhQLGIvZN3",
        "colab": {
          "base_uri": "https://localhost:8080/",
          "height": 173
        },
        "outputId": "518106a0-bc0b-4ad3-abaf-42fee6eefc8e"
      },
      "source": [
        "df2[['a','c']] #para seleccionar varias columnas no consecutivas, incluirlas en otro corchete"
      ],
      "execution_count": null,
      "outputs": [
        {
          "output_type": "execute_result",
          "data": {
            "text/html": [
              "<div>\n",
              "<style scoped>\n",
              "    .dataframe tbody tr th:only-of-type {\n",
              "        vertical-align: middle;\n",
              "    }\n",
              "\n",
              "    .dataframe tbody tr th {\n",
              "        vertical-align: top;\n",
              "    }\n",
              "\n",
              "    .dataframe thead th {\n",
              "        text-align: right;\n",
              "    }\n",
              "</style>\n",
              "<table border=\"1\" class=\"dataframe\">\n",
              "  <thead>\n",
              "    <tr style=\"text-align: right;\">\n",
              "      <th></th>\n",
              "      <th>a</th>\n",
              "      <th>c</th>\n",
              "    </tr>\n",
              "  </thead>\n",
              "  <tbody>\n",
              "    <tr>\n",
              "      <th>0</th>\n",
              "      <td>5</td>\n",
              "      <td>5</td>\n",
              "    </tr>\n",
              "    <tr>\n",
              "      <th>1</th>\n",
              "      <td>0</td>\n",
              "      <td>4</td>\n",
              "    </tr>\n",
              "    <tr>\n",
              "      <th>2</th>\n",
              "      <td>6</td>\n",
              "      <td>3</td>\n",
              "    </tr>\n",
              "    <tr>\n",
              "      <th>3</th>\n",
              "      <td>8</td>\n",
              "      <td>1</td>\n",
              "    </tr>\n",
              "  </tbody>\n",
              "</table>\n",
              "</div>"
            ],
            "text/plain": [
              "   a  c\n",
              "0  5  5\n",
              "1  0  4\n",
              "2  6  3\n",
              "3  8  1"
            ]
          },
          "metadata": {
            "tags": []
          },
          "execution_count": 63
        }
      ]
    },
    {
      "cell_type": "code",
      "metadata": {
        "id": "DIXgE9SWvZN3",
        "colab": {
          "base_uri": "https://localhost:8080/",
          "height": 111
        },
        "outputId": "badb2054-7644-4d20-a6f8-ce18d7274637"
      },
      "source": [
        "df2.iloc[2:4, 1:3] #para seleccionar filas y columnas por bloques"
      ],
      "execution_count": null,
      "outputs": [
        {
          "output_type": "execute_result",
          "data": {
            "text/html": [
              "<div>\n",
              "<style scoped>\n",
              "    .dataframe tbody tr th:only-of-type {\n",
              "        vertical-align: middle;\n",
              "    }\n",
              "\n",
              "    .dataframe tbody tr th {\n",
              "        vertical-align: top;\n",
              "    }\n",
              "\n",
              "    .dataframe thead th {\n",
              "        text-align: right;\n",
              "    }\n",
              "</style>\n",
              "<table border=\"1\" class=\"dataframe\">\n",
              "  <thead>\n",
              "    <tr style=\"text-align: right;\">\n",
              "      <th></th>\n",
              "      <th>b</th>\n",
              "      <th>c</th>\n",
              "    </tr>\n",
              "  </thead>\n",
              "  <tbody>\n",
              "    <tr>\n",
              "      <th>2</th>\n",
              "      <td>1</td>\n",
              "      <td>3</td>\n",
              "    </tr>\n",
              "    <tr>\n",
              "      <th>3</th>\n",
              "      <td>1</td>\n",
              "      <td>1</td>\n",
              "    </tr>\n",
              "  </tbody>\n",
              "</table>\n",
              "</div>"
            ],
            "text/plain": [
              "   b  c\n",
              "2  1  3\n",
              "3  1  1"
            ]
          },
          "metadata": {
            "tags": []
          },
          "execution_count": 64
        }
      ]
    },
    {
      "cell_type": "markdown",
      "metadata": {
        "id": "mMWuKhZs25DT"
      },
      "source": [
        "Crear nuevas variables (columnas) es muy sencillo."
      ]
    },
    {
      "cell_type": "code",
      "metadata": {
        "id": "rUADqZXPvZN3",
        "colab": {
          "base_uri": "https://localhost:8080/",
          "height": 173
        },
        "outputId": "1927285f-0091-4c76-bb2a-23dce6a26a67"
      },
      "source": [
        "df2['d']=df2['c']*2 #crea una nueva columna\n",
        "df2"
      ],
      "execution_count": null,
      "outputs": [
        {
          "output_type": "execute_result",
          "data": {
            "text/html": [
              "<div>\n",
              "<style scoped>\n",
              "    .dataframe tbody tr th:only-of-type {\n",
              "        vertical-align: middle;\n",
              "    }\n",
              "\n",
              "    .dataframe tbody tr th {\n",
              "        vertical-align: top;\n",
              "    }\n",
              "\n",
              "    .dataframe thead th {\n",
              "        text-align: right;\n",
              "    }\n",
              "</style>\n",
              "<table border=\"1\" class=\"dataframe\">\n",
              "  <thead>\n",
              "    <tr style=\"text-align: right;\">\n",
              "      <th></th>\n",
              "      <th>a</th>\n",
              "      <th>b</th>\n",
              "      <th>c</th>\n",
              "      <th>d</th>\n",
              "    </tr>\n",
              "  </thead>\n",
              "  <tbody>\n",
              "    <tr>\n",
              "      <th>0</th>\n",
              "      <td>5</td>\n",
              "      <td>2</td>\n",
              "      <td>5</td>\n",
              "      <td>10</td>\n",
              "    </tr>\n",
              "    <tr>\n",
              "      <th>1</th>\n",
              "      <td>0</td>\n",
              "      <td>2</td>\n",
              "      <td>4</td>\n",
              "      <td>8</td>\n",
              "    </tr>\n",
              "    <tr>\n",
              "      <th>2</th>\n",
              "      <td>6</td>\n",
              "      <td>1</td>\n",
              "      <td>3</td>\n",
              "      <td>6</td>\n",
              "    </tr>\n",
              "    <tr>\n",
              "      <th>3</th>\n",
              "      <td>8</td>\n",
              "      <td>1</td>\n",
              "      <td>1</td>\n",
              "      <td>2</td>\n",
              "    </tr>\n",
              "  </tbody>\n",
              "</table>\n",
              "</div>"
            ],
            "text/plain": [
              "   a  b  c   d\n",
              "0  5  2  5  10\n",
              "1  0  2  4   8\n",
              "2  6  1  3   6\n",
              "3  8  1  1   2"
            ]
          },
          "metadata": {
            "tags": []
          },
          "execution_count": 65
        }
      ]
    },
    {
      "cell_type": "code",
      "metadata": {
        "id": "0X5wKPPevZN3",
        "colab": {
          "base_uri": "https://localhost:8080/",
          "height": 173
        },
        "outputId": "8d93a193-d8e7-4ded-ced4-08fc469983c9"
      },
      "source": [
        "df2['Sexo']=[0,1,1,0] #añade otra columna\n",
        "df2"
      ],
      "execution_count": null,
      "outputs": [
        {
          "output_type": "execute_result",
          "data": {
            "text/html": [
              "<div>\n",
              "<style scoped>\n",
              "    .dataframe tbody tr th:only-of-type {\n",
              "        vertical-align: middle;\n",
              "    }\n",
              "\n",
              "    .dataframe tbody tr th {\n",
              "        vertical-align: top;\n",
              "    }\n",
              "\n",
              "    .dataframe thead th {\n",
              "        text-align: right;\n",
              "    }\n",
              "</style>\n",
              "<table border=\"1\" class=\"dataframe\">\n",
              "  <thead>\n",
              "    <tr style=\"text-align: right;\">\n",
              "      <th></th>\n",
              "      <th>a</th>\n",
              "      <th>b</th>\n",
              "      <th>c</th>\n",
              "      <th>d</th>\n",
              "      <th>Sexo</th>\n",
              "    </tr>\n",
              "  </thead>\n",
              "  <tbody>\n",
              "    <tr>\n",
              "      <th>0</th>\n",
              "      <td>5</td>\n",
              "      <td>2</td>\n",
              "      <td>5</td>\n",
              "      <td>10</td>\n",
              "      <td>0</td>\n",
              "    </tr>\n",
              "    <tr>\n",
              "      <th>1</th>\n",
              "      <td>0</td>\n",
              "      <td>2</td>\n",
              "      <td>4</td>\n",
              "      <td>8</td>\n",
              "      <td>1</td>\n",
              "    </tr>\n",
              "    <tr>\n",
              "      <th>2</th>\n",
              "      <td>6</td>\n",
              "      <td>1</td>\n",
              "      <td>3</td>\n",
              "      <td>6</td>\n",
              "      <td>1</td>\n",
              "    </tr>\n",
              "    <tr>\n",
              "      <th>3</th>\n",
              "      <td>8</td>\n",
              "      <td>1</td>\n",
              "      <td>1</td>\n",
              "      <td>2</td>\n",
              "      <td>0</td>\n",
              "    </tr>\n",
              "  </tbody>\n",
              "</table>\n",
              "</div>"
            ],
            "text/plain": [
              "   a  b  c   d  Sexo\n",
              "0  5  2  5  10     0\n",
              "1  0  2  4   8     1\n",
              "2  6  1  3   6     1\n",
              "3  8  1  1   2     0"
            ]
          },
          "metadata": {
            "tags": []
          },
          "execution_count": 66
        }
      ]
    },
    {
      "cell_type": "markdown",
      "metadata": {
        "id": "dZBgHnex3H_a"
      },
      "source": [
        "Operaciones con los nombres de las columnas."
      ]
    },
    {
      "cell_type": "code",
      "metadata": {
        "id": "X3lcY4g9vZN4",
        "colab": {
          "base_uri": "https://localhost:8080/"
        },
        "outputId": "1ffc0497-45a5-49f0-b516-cb8ed4421d67"
      },
      "source": [
        "print(df2.columns) #nombre de todas las columnas\n",
        "print(df2.columns[-1]) #nombre de la última columna\n",
        "print('El índice de la columna sexo es', df2.columns.get_loc('Sexo'))"
      ],
      "execution_count": null,
      "outputs": [
        {
          "output_type": "stream",
          "text": [
            "Index(['a', 'b', 'c', 'd', 'Sexo'], dtype='object')\n",
            "Sexo\n",
            "El índice de la columna sexo es 4\n"
          ],
          "name": "stdout"
        }
      ]
    },
    {
      "cell_type": "markdown",
      "metadata": {
        "id": "97p7GBDkvZN4"
      },
      "source": [
        "### Se puede hacer referencia a un valor de distintas formas.\n",
        "Depende de si es más práctico usar el índice de las filas y columnas o su etiqueta. Aquí varios ejemplos para acceder al mismo valor del *dataframe*."
      ]
    },
    {
      "cell_type": "code",
      "metadata": {
        "id": "Vjrwmgl7vZN4",
        "colab": {
          "base_uri": "https://localhost:8080/"
        },
        "outputId": "9b87f1f4-dab2-4dfb-f6d1-eadfa85ac01e"
      },
      "source": [
        "print(df2['a'][1]) #nombre de etiqueta de la columa y la fila\n",
        "print(df2[df2.columns[0]][1]) #número del nombre de la columna de la columa y fila\n",
        "print(df2.loc[1,'a']) #con etiquetas, primero se indica la fila y después la columna\n",
        "print(df2.iloc[1,0]) #con índices, primero se indica la fila y después la columna\n",
        "print(df2.iloc[1,df2.columns.get_loc('a')]) #lo mismo que la anterior pero para cuando sabemos el nombre de la columna y no el índice\n",
        "print(df2.iat[1,0]) #primero se indica la fila y después la columna\n",
        "print(df2.at[1,'a']) #primero se indica la fila y después la columna"
      ],
      "execution_count": null,
      "outputs": [
        {
          "output_type": "stream",
          "text": [
            "0\n",
            "0\n",
            "0\n",
            "0\n",
            "0\n",
            "0\n",
            "0\n"
          ],
          "name": "stdout"
        }
      ]
    },
    {
      "cell_type": "markdown",
      "metadata": {
        "id": "bkuOpkfl6B80"
      },
      "source": [
        "Cuando los índices de la filas no son números sino texto, funciona igual."
      ]
    },
    {
      "cell_type": "code",
      "metadata": {
        "id": "vFLhB6asvZN4",
        "colab": {
          "base_uri": "https://localhost:8080/"
        },
        "outputId": "861cef6c-ed21-421b-af65-3c0dd4faed8b"
      },
      "source": [
        "print('df3= \\n', df3)\n",
        "print(df3['B']['suj3']) #nombre de etiqueta de la columa y la fila\n",
        "print(df3[df3.columns[1]]['suj3']) #número del nombre de la columna de la columa y fila\n",
        "print(df3.loc['suj3','B']) #con etiquetas, primero se indica la fila y después la columna\n",
        "print(df3.iloc[2,1]) #con índices, primero se indica la fila y después la columna\n",
        "print(df3.iloc[2,df3.columns.get_loc('B')]) #lo mismo que la anterior pero para cuando sabemos el nombre de la columna y no el índice\n",
        "print(df3.at['suj3','B']) #con etiquetas, primero se indica la fila y después la columna\n",
        "print(df3.iat[2,1]) #con índices, primero se indica la fila y después la columna"
      ],
      "execution_count": null,
      "outputs": [
        {
          "output_type": "stream",
          "text": [
            "df3= \n",
            "       A  B  C\n",
            "suj1  5  2  5\n",
            "suj2  0  2  4\n",
            "suj3  6  1  3\n",
            "suj4  8  1  1\n",
            "1\n",
            "1\n",
            "1\n",
            "1\n",
            "1\n",
            "1\n",
            "1\n"
          ],
          "name": "stdout"
        }
      ]
    },
    {
      "cell_type": "markdown",
      "metadata": {
        "id": "gQnXi5FtvZN5"
      },
      "source": [
        "Para modificar valores en una celda concreta. *iat* y *at* son más rápidos, pero solo permiten modificar una celda, mientras que *iloc* y *loc* pueden hacerlo con más de una."
      ]
    },
    {
      "cell_type": "code",
      "metadata": {
        "id": "eQg0hnu6vZN5"
      },
      "source": [
        "df2.at[1, 'd']=11 #con etiquetas, modifica un valor por nombre fila, col\n",
        "df2.iat[0, 2]=11 #con índices, modifica un valor por nº fila, col\n",
        "\n",
        "df2.loc[1, 'd']=11 \n",
        "df2.iloc[0, 2]=11 #con índices, modifica un valor por nº fila, col\n",
        "df2.iloc[0:2, 2]=11 #se puede usar con selección de varias celdas a la vez.\n",
        "df2.loc[1:2, 'nuevaCol']='nuevo' #loc e iloc también se pueden usar para crear nuevas filas o columnas\n",
        "df2.loc[5, 'nuevaCol2']='nuevo'\n",
        "print(df2)"
      ],
      "execution_count": null,
      "outputs": []
    },
    {
      "cell_type": "markdown",
      "metadata": {
        "id": "EPNhK0Yn6efn"
      },
      "source": [
        "Se puede cambiar el tipo de dato que contiene el *dataframe*."
      ]
    },
    {
      "cell_type": "code",
      "metadata": {
        "id": "5A1OKpwNvZN5"
      },
      "source": [
        "df2[['a','b']]=df2[['a','b']].astype(np.float)#cambiar el tipo de datos de las columnas\n",
        "df2"
      ],
      "execution_count": null,
      "outputs": []
    },
    {
      "cell_type": "markdown",
      "metadata": {
        "id": "SZYJ0uAjvZN5"
      },
      "source": [
        "### Se pueden selecionar filas según los datos cumplan una o varias condiciones. "
      ]
    },
    {
      "cell_type": "code",
      "metadata": {
        "id": "uMsrNOfgvZN5"
      },
      "source": [
        "chicos=df2[df2['Sexo']==0] #selecciona las filas según los valores de una variable\n",
        "chicos"
      ],
      "execution_count": null,
      "outputs": []
    },
    {
      "cell_type": "code",
      "metadata": {
        "id": "0g1J7_xVvZN6"
      },
      "source": [
        "chicos=df2[(df2['Sexo']==0) & (df2['c']>=5) | (df2['a']< 2)] #selecciona las filas según más de una condición\n",
        "chicos"
      ],
      "execution_count": null,
      "outputs": []
    },
    {
      "cell_type": "code",
      "metadata": {
        "id": "yt6CcIwQvZN6"
      },
      "source": [
        "df2.columns #nombres de las columnas"
      ],
      "execution_count": null,
      "outputs": []
    },
    {
      "cell_type": "code",
      "metadata": {
        "id": "twLzKchfvZN6"
      },
      "source": [
        "df3=df2.drop('c', axis=1) #elimina columnas enteras. Para que lo haga en la misma variable df2.drop('c', axis=1, implace=True)\n",
        "df3"
      ],
      "execution_count": null,
      "outputs": []
    },
    {
      "cell_type": "markdown",
      "metadata": {
        "id": "IY3obPrCvZN6"
      },
      "source": [
        "### Se pueden reordenar las columnas"
      ]
    },
    {
      "cell_type": "code",
      "metadata": {
        "id": "MQwxj-cdvZN7"
      },
      "source": [
        "#Orden alfabético\n",
        "variables=['G', 'A', 'b', 'C', 'E', 'a', 'H']\n",
        "dfOrden=pd.DataFrame(np.random.rand(10, len(variables)), columns=variables)\n",
        "dfOrden.sort_index(axis=1, inplace=True) #axis=1 es para que ordene las columnas. Con axis=0 ordena las filas\n",
        "print(dfOrden.head())"
      ],
      "execution_count": null,
      "outputs": []
    },
    {
      "cell_type": "markdown",
      "metadata": {
        "id": "IQwSk49MvZN7"
      },
      "source": [
        "### Reordenar columnas especificando el orden"
      ]
    },
    {
      "cell_type": "code",
      "metadata": {
        "id": "JsP-t6e0vZN7"
      },
      "source": [
        "dfOrden=dfOrden.reindex(columns=['H', 'E', 'a', 'A', 'C', 'G', 'b'])\n",
        "print(dfOrden.head())"
      ],
      "execution_count": null,
      "outputs": []
    },
    {
      "cell_type": "markdown",
      "metadata": {
        "id": "ad2j8_n9vZN7"
      },
      "source": [
        "### Para cambiar el nombre de alguna columna"
      ]
    },
    {
      "cell_type": "code",
      "metadata": {
        "id": "BH3uf6O4vZN7"
      },
      "source": [
        "variables=['G', 'A', 'b', 'C', 'E', 'a', 'H']\n",
        "dfOrden=pd.DataFrame(np.random.rand(10, len(variables)), columns=variables)\n",
        "#dfOrden.replace(['b', 'a'], ['BB', 'AA'])\n",
        "dfOrden.rename(columns={'b':'BB', 'a':'AA'}, inplace=True)\n",
        "\n",
        "print(dfOrden.head())"
      ],
      "execution_count": null,
      "outputs": []
    },
    {
      "cell_type": "markdown",
      "metadata": {
        "id": "mwQ3HiuTvZN8"
      },
      "source": [
        "### Para seleccionar columnas por grupos con alguna coincidencia en el nombre"
      ]
    },
    {
      "cell_type": "code",
      "metadata": {
        "id": "tgk2kxr4vZN8"
      },
      "source": [
        "variables=['A_marcha_CA', 'B_marcha_CA', 'VI_marcha_CA', 'A_marcha_BR', 'B_marcha_BR', 'VI_marcha_BR', 'A_marcha_MA', 'B_marcha_MA', 'VI_marcha_MA', 'A_carrera_CA', 'B_carrera_CA', 'VI_carrera_CA', 'A_carrera_BR', 'B_carrera_BR', 'VI_carrera_BR', 'A_carrera_MA', 'B_carrera_MA', 'VI_carrera_MA']\n",
        "dfLargo=pd.DataFrame(np.random.rand(10, len(variables)), columns=variables)\n",
        "dfA=dfLargo.filter(regex='A_marcha') #mete en un mismo df todas las variables que contienen 'A_marcha'\n",
        "print(dfA.head())\n",
        "\n",
        "dfCarrera=dfLargo.filter(regex='_carrera_') #mete en un mismo df todas las variables sobre carrera\n",
        "print(dfCarrera.head())"
      ],
      "execution_count": null,
      "outputs": []
    },
    {
      "cell_type": "markdown",
      "metadata": {
        "id": "EsesxQSbvZN8"
      },
      "source": [
        "### Para sustituir valores en columnas. Por ejemplo, si tenemos la columna Sexo con 1 y 0 y queremos cambiarlo a 'Hombres' 'Mujeres'"
      ]
    },
    {
      "cell_type": "code",
      "metadata": {
        "id": "J0GNboimvZN8"
      },
      "source": [
        "dfCambioValores=pd.DataFrame({'Sexo':[1,1,0,0,1,0,1,1,0,0,1]})\n",
        "print(dfCambioValores)\n",
        "dfCambioValores.replace([0, 1], ['Hombre', 'Mujer'], inplace=True)\n",
        "print(dfCambioValores)"
      ],
      "execution_count": null,
      "outputs": []
    },
    {
      "cell_type": "markdown",
      "metadata": {
        "id": "0N4lkTU38zN2"
      },
      "source": [
        "### Devuelve los valores únicos en una variable categórica\n",
        "\n",
        "Útil con variables categóricas en una columna."
      ]
    },
    {
      "cell_type": "code",
      "metadata": {
        "id": "7lPDc-XhvZN9",
        "colab": {
          "base_uri": "https://localhost:8080/"
        },
        "outputId": "f37bc152-eb1b-4dde-92cb-c41f6260e1c7"
      },
      "source": [
        "dfBase_datos=pd.DataFrame({'Grupo':['control', 'experimental1', 'control', 'control', 'control', 'experimental1', 'experimental2', 'experimental1', 'experimental2']})\n",
        "dfBase_datos['Grupo'].unique()"
      ],
      "execution_count": null,
      "outputs": [
        {
          "output_type": "execute_result",
          "data": {
            "text/plain": [
              "array(['control', 'experimental1', 'experimental2'], dtype=object)"
            ]
          },
          "metadata": {
            "tags": []
          },
          "execution_count": 88
        }
      ]
    },
    {
      "cell_type": "markdown",
      "metadata": {
        "id": "N-ZvkoKrvZN8"
      },
      "source": [
        "### Cuenta el nº de veces que se repite cada valor en una columna.\n",
        "útil para variables categóricas"
      ]
    },
    {
      "cell_type": "code",
      "metadata": {
        "id": "FkMFbZhOvZN9"
      },
      "source": [
        "#Cuenta el nº de veces que se repite cada valor en una columna.\n",
        "#útil para variables categóricas\n",
        "numSexo=dfCambioValores['Sexo'].value_counts()\n",
        "print(numSexo)"
      ],
      "execution_count": null,
      "outputs": []
    },
    {
      "cell_type": "markdown",
      "metadata": {
        "id": "UbGqIUJjtnrJ"
      },
      "source": [
        "### Serialización de cálculos\n",
        "\n",
        "Una característica muy interesante es que con Pandas se pueden realizar cálculos masivos, no es necesario ir dato a dato."
      ]
    },
    {
      "cell_type": "code",
      "metadata": {
        "id": "uRGrTqVUt27t"
      },
      "source": [
        "dfCalculos=pd.DataFrame(np.arange(10), columns=['var1'])\n",
        "dfCalculos\n"
      ],
      "execution_count": null,
      "outputs": []
    },
    {
      "cell_type": "markdown",
      "metadata": {
        "id": "qCAkzJF_uvYO"
      },
      "source": [
        "Podemos fácilmente crear variables que resultan de aplicar alguna operación a la primera."
      ]
    },
    {
      "cell_type": "code",
      "metadata": {
        "id": "jq65I6zsu2m6",
        "colab": {
          "base_uri": "https://localhost:8080/",
          "height": 343
        },
        "outputId": "fa8bfa1a-40d6-4efc-cc8e-70fcee79dcf0"
      },
      "source": [
        "dfCalculos['doble'] =dfCalculos['var1']*2\n",
        "dfCalculos['cuadrado'] =dfCalculos['var1']**2\n",
        "dfCalculos['coseno'] =np.cos(dfCalculos['var1'])\n",
        "dfCalculos"
      ],
      "execution_count": null,
      "outputs": [
        {
          "output_type": "execute_result",
          "data": {
            "text/html": [
              "<div>\n",
              "<style scoped>\n",
              "    .dataframe tbody tr th:only-of-type {\n",
              "        vertical-align: middle;\n",
              "    }\n",
              "\n",
              "    .dataframe tbody tr th {\n",
              "        vertical-align: top;\n",
              "    }\n",
              "\n",
              "    .dataframe thead th {\n",
              "        text-align: right;\n",
              "    }\n",
              "</style>\n",
              "<table border=\"1\" class=\"dataframe\">\n",
              "  <thead>\n",
              "    <tr style=\"text-align: right;\">\n",
              "      <th></th>\n",
              "      <th>var1</th>\n",
              "      <th>doble</th>\n",
              "      <th>cuadrado</th>\n",
              "      <th>coseno</th>\n",
              "    </tr>\n",
              "  </thead>\n",
              "  <tbody>\n",
              "    <tr>\n",
              "      <th>0</th>\n",
              "      <td>0</td>\n",
              "      <td>0</td>\n",
              "      <td>0</td>\n",
              "      <td>1.000000</td>\n",
              "    </tr>\n",
              "    <tr>\n",
              "      <th>1</th>\n",
              "      <td>1</td>\n",
              "      <td>2</td>\n",
              "      <td>1</td>\n",
              "      <td>0.540302</td>\n",
              "    </tr>\n",
              "    <tr>\n",
              "      <th>2</th>\n",
              "      <td>2</td>\n",
              "      <td>4</td>\n",
              "      <td>4</td>\n",
              "      <td>-0.416147</td>\n",
              "    </tr>\n",
              "    <tr>\n",
              "      <th>3</th>\n",
              "      <td>3</td>\n",
              "      <td>6</td>\n",
              "      <td>9</td>\n",
              "      <td>-0.989992</td>\n",
              "    </tr>\n",
              "    <tr>\n",
              "      <th>4</th>\n",
              "      <td>4</td>\n",
              "      <td>8</td>\n",
              "      <td>16</td>\n",
              "      <td>-0.653644</td>\n",
              "    </tr>\n",
              "    <tr>\n",
              "      <th>5</th>\n",
              "      <td>5</td>\n",
              "      <td>10</td>\n",
              "      <td>25</td>\n",
              "      <td>0.283662</td>\n",
              "    </tr>\n",
              "    <tr>\n",
              "      <th>6</th>\n",
              "      <td>6</td>\n",
              "      <td>12</td>\n",
              "      <td>36</td>\n",
              "      <td>0.960170</td>\n",
              "    </tr>\n",
              "    <tr>\n",
              "      <th>7</th>\n",
              "      <td>7</td>\n",
              "      <td>14</td>\n",
              "      <td>49</td>\n",
              "      <td>0.753902</td>\n",
              "    </tr>\n",
              "    <tr>\n",
              "      <th>8</th>\n",
              "      <td>8</td>\n",
              "      <td>16</td>\n",
              "      <td>64</td>\n",
              "      <td>-0.145500</td>\n",
              "    </tr>\n",
              "    <tr>\n",
              "      <th>9</th>\n",
              "      <td>9</td>\n",
              "      <td>18</td>\n",
              "      <td>81</td>\n",
              "      <td>-0.911130</td>\n",
              "    </tr>\n",
              "  </tbody>\n",
              "</table>\n",
              "</div>"
            ],
            "text/plain": [
              "   var1  doble  cuadrado    coseno\n",
              "0     0      0         0  1.000000\n",
              "1     1      2         1  0.540302\n",
              "2     2      4         4 -0.416147\n",
              "3     3      6         9 -0.989992\n",
              "4     4      8        16 -0.653644\n",
              "5     5     10        25  0.283662\n",
              "6     6     12        36  0.960170\n",
              "7     7     14        49  0.753902\n",
              "8     8     16        64 -0.145500\n",
              "9     9     18        81 -0.911130"
            ]
          },
          "metadata": {
            "tags": []
          },
          "execution_count": 91
        }
      ]
    }
  ]
}