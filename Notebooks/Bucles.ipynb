{
  "nbformat": 4,
  "nbformat_minor": 0,
  "metadata": {
    "colab": {
      "name": "3.5-Bucles.ipynb",
      "version": "0.3.2",
      "provenance": [],
      "include_colab_link": true
    },
    "kernelspec": {
      "name": "python3",
      "display_name": "Python 3"
    }
  },
  "cells": [
    {
      "cell_type": "markdown",
      "metadata": {
        "id": "view-in-github",
        "colab_type": "text"
      },
      "source": [
        "<a href=\"https://colab.research.google.com/github/joselvira/BiomecanicaPython/blob/master/Notebooks/Bucles.ipynb\" target=\"_parent\"><img src=\"https://colab.research.google.com/assets/colab-badge.svg\" alt=\"Open In Colab\"/></a>"
      ]
    },
    {
      "cell_type": "markdown",
      "metadata": {
        "id": "jnX0Nvo2cSru",
        "colab_type": "text"
      },
      "source": [
        "# Operaciones con bucles\n",
        "Con frecuencia es necesario repetir operaciones un número determinado de veces. Para eso se usan los bucles. En python se utilizan básicamente dos tipos de bucles: for y while.\n"
      ]
    },
    {
      "cell_type": "markdown",
      "metadata": {
        "id": "0FvO66Wsc0-n",
        "colab_type": "text"
      },
      "source": [
        "## Bucles for\n",
        "Se utiliza el bucle for cuando sabemos de antemano cuántas veces hay que repetir un trozo de código."
      ]
    },
    {
      "cell_type": "code",
      "metadata": {
        "id": "qPob_ZrxcHsl",
        "colab_type": "code",
        "colab": {
          "base_uri": "https://localhost:8080/",
          "height": 185
        },
        "outputId": "77e3ff18-2e14-45b4-dcbb-0af60b3b6503"
      },
      "source": [
        "for i in range(10):\n",
        "    print('Esta es ls repetición nº', i+1)"
      ],
      "execution_count": 31,
      "outputs": [
        {
          "output_type": "stream",
          "text": [
            "Esta es ls repetición nº 1\n",
            "Esta es ls repetición nº 2\n",
            "Esta es ls repetición nº 3\n",
            "Esta es ls repetición nº 4\n",
            "Esta es ls repetición nº 5\n",
            "Esta es ls repetición nº 6\n",
            "Esta es ls repetición nº 7\n",
            "Esta es ls repetición nº 8\n",
            "Esta es ls repetición nº 9\n",
            "Esta es ls repetición nº 10\n"
          ],
          "name": "stdout"
        }
      ]
    },
    {
      "cell_type": "code",
      "metadata": {
        "id": "FVxO0wbOdM_P",
        "colab_type": "code",
        "colab": {
          "base_uri": "https://localhost:8080/",
          "height": 101
        },
        "outputId": "1a64054b-82dd-4e04-b1f7-bb5e94664fa5"
      },
      "source": [
        "nombres=['sujeto1', 'sujeto2', 'sujeto3', 'sujeto4', 'sujeto5']\n",
        "for i in range(len(nombres)):\n",
        "    print(nombres[i])"
      ],
      "execution_count": 32,
      "outputs": [
        {
          "output_type": "stream",
          "text": [
            "sujeto1\n",
            "sujeto2\n",
            "sujeto3\n",
            "sujeto4\n",
            "sujeto5\n"
          ],
          "name": "stdout"
        }
      ]
    },
    {
      "cell_type": "code",
      "metadata": {
        "id": "NS1mPWTBdXH7",
        "colab_type": "code",
        "colab": {
          "base_uri": "https://localhost:8080/",
          "height": 101
        },
        "outputId": "d3ff1524-0882-405e-d841-8daf04b2b947"
      },
      "source": [
        "#O directamente\n",
        "nombres=['sujeto1', 'sujeto2', 'sujeto3', 'sujeto4', 'sujeto5']\n",
        "for nom in nombres:\n",
        "    print(nom)"
      ],
      "execution_count": 33,
      "outputs": [
        {
          "output_type": "stream",
          "text": [
            "sujeto1\n",
            "sujeto2\n",
            "sujeto3\n",
            "sujeto4\n",
            "sujeto5\n"
          ],
          "name": "stdout"
        }
      ]
    },
    {
      "cell_type": "markdown",
      "metadata": {
        "id": "qygzV-HKdeXT",
        "colab_type": "text"
      },
      "source": [
        "Por ejemplo, tenemos unos datos que corresponden a tiempos de vuelo y queremos calcular la altura en cada salto. Tenemos que repetir la misma ecuación en cada dato. Un bucle for nos simplifica la tarea."
      ]
    },
    {
      "cell_type": "code",
      "metadata": {
        "id": "cB5OqFAxdgn_",
        "colab_type": "code",
        "colab": {
          "base_uri": "https://localhost:8080/",
          "height": 34
        },
        "outputId": "93e63636-6776-41b4-adbc-365d62128eb2"
      },
      "source": [
        "tv=[0.476, 0.381, 0.534, 0.486, 0.397]\n",
        "h=[]\n",
        "g=9.8\n",
        "for t in tv:\n",
        "    h.append(g*t**2/8)\n",
        "    \n",
        "print(h)"
      ],
      "execution_count": 34,
      "outputs": [
        {
          "output_type": "stream",
          "text": [
            "[0.2775556, 0.17782222500000003, 0.3493161000000001, 0.2893401, 0.19307102500000003]\n"
          ],
          "name": "stdout"
        }
      ]
    },
    {
      "cell_type": "markdown",
      "metadata": {
        "id": "o8hTZbnydu8T",
        "colab_type": "text"
      },
      "source": [
        "También se pueden anidar bucles for:"
      ]
    },
    {
      "cell_type": "code",
      "metadata": {
        "id": "ETC1xc_3dvaK",
        "colab_type": "code",
        "colab": {
          "base_uri": "https://localhost:8080/",
          "height": 269
        },
        "outputId": "5f7be1a6-1bc1-4a0b-9b1c-64806f9d6cea"
      },
      "source": [
        "cols=3\n",
        "filas=5\n",
        "for h in range(cols):\n",
        "    for i in range(filas):\n",
        "        print('Columna ', h, ', fila ', i)\n"
      ],
      "execution_count": 35,
      "outputs": [
        {
          "output_type": "stream",
          "text": [
            "Columna  0 , fila  0\n",
            "Columna  0 , fila  1\n",
            "Columna  0 , fila  2\n",
            "Columna  0 , fila  3\n",
            "Columna  0 , fila  4\n",
            "Columna  1 , fila  0\n",
            "Columna  1 , fila  1\n",
            "Columna  1 , fila  2\n",
            "Columna  1 , fila  3\n",
            "Columna  1 , fila  4\n",
            "Columna  2 , fila  0\n",
            "Columna  2 , fila  1\n",
            "Columna  2 , fila  2\n",
            "Columna  2 , fila  3\n",
            "Columna  2 , fila  4\n"
          ],
          "name": "stdout"
        }
      ]
    },
    {
      "cell_type": "markdown",
      "metadata": {
        "id": "Mda64Xfxd485",
        "colab_type": "text"
      },
      "source": [
        "Se pueden juntar bucles con condicionales. En este ejemplo se crean números aleatorios entre 0 y 1. Se comprueba si cada número es mayor o menor que 0.5, y en función de eso se redondea a 0 o a 1."
      ]
    },
    {
      "cell_type": "code",
      "metadata": {
        "id": "BHGyzVfgd5ib",
        "colab_type": "code",
        "colab": {
          "base_uri": "https://localhost:8080/",
          "height": 185
        },
        "outputId": "d5284e89-f254-4354-8481-4d0320515d40"
      },
      "source": [
        "import numpy as np\n",
        "\n",
        "numTiradas=10\n",
        "for i in range(numTiradas):\n",
        "    x=np.random.rand()\n",
        "    if x>=0.5:\n",
        "        resultado=1.0\n",
        "    else:\n",
        "        resultado=0.0\n",
        "    \n",
        "    print('Aleatorio= {:.3f},  redondeado= {:.0f}'.format(x, resultado)) #de esta forma podemos controlar el nº de decimales de la cadena de texto"
      ],
      "execution_count": 36,
      "outputs": [
        {
          "output_type": "stream",
          "text": [
            "Aleatorio= 0.004,  redondeado= 0\n",
            "Aleatorio= 0.222,  redondeado= 0\n",
            "Aleatorio= 0.889,  redondeado= 1\n",
            "Aleatorio= 0.862,  redondeado= 1\n",
            "Aleatorio= 0.131,  redondeado= 0\n",
            "Aleatorio= 0.208,  redondeado= 0\n",
            "Aleatorio= 0.563,  redondeado= 1\n",
            "Aleatorio= 0.621,  redondeado= 1\n",
            "Aleatorio= 0.184,  redondeado= 0\n",
            "Aleatorio= 0.303,  redondeado= 0\n"
          ],
          "name": "stdout"
        }
      ]
    },
    {
      "cell_type": "markdown",
      "metadata": {
        "id": "Ca87hW9_eaRr",
        "colab_type": "text"
      },
      "source": [
        "## Bucle While\n",
        "El bucle while puede funcionar parecido al for, pero es más adecuado cuando no sabemos a priori cuántas veces hay que repetir un proceso."
      ]
    },
    {
      "cell_type": "code",
      "metadata": {
        "id": "a3ZHuwIsea5o",
        "colab_type": "code",
        "colab": {
          "base_uri": "https://localhost:8080/",
          "height": 118
        },
        "outputId": "fc3bedeb-ea86-4b3a-a360-428db950fcd5"
      },
      "source": [
        "maximo=input('Introduce un número del 1 al 10:')\n",
        "maximo =int(maximo)\n",
        "x=0\n",
        "while x<maximo:\n",
        "    print(x)\n",
        "    x+=1"
      ],
      "execution_count": 37,
      "outputs": [
        {
          "output_type": "stream",
          "text": [
            "Introduce un número del 1 al 10:5\n",
            "0\n",
            "1\n",
            "2\n",
            "3\n",
            "4\n"
          ],
          "name": "stdout"
        }
      ]
    },
    {
      "cell_type": "markdown",
      "metadata": {
        "id": "fWA4asZpfQRr",
        "colab_type": "text"
      },
      "source": [
        "Ejemplo conociendo de antemano un listado.\n",
        "Queremos que se pare cuando encuentre un nº 7 dentro del listado."
      ]
    },
    {
      "cell_type": "code",
      "metadata": {
        "id": "UGvlK9QufQyA",
        "colab_type": "code",
        "colab": {
          "base_uri": "https://localhost:8080/",
          "height": 118
        },
        "outputId": "c63c0f48-a0d6-45c3-fd61-66b4a5a0507e"
      },
      "source": [
        "aleatorio=[3,5,6,5,4,7,6,8,7,6,5,6,7,9,2,3,2,6]\n",
        "contador=0\n",
        "\n",
        "while aleatorio[contador]!=7:\n",
        "    print(aleatorio[contador])\n",
        "    contador+=1\n",
        "\n",
        "print('He encontrado un 7 en la posición ', contador)"
      ],
      "execution_count": 38,
      "outputs": [
        {
          "output_type": "stream",
          "text": [
            "3\n",
            "5\n",
            "6\n",
            "5\n",
            "4\n",
            "He encontrado un 7 en la posición  5\n"
          ],
          "name": "stdout"
        }
      ]
    },
    {
      "cell_type": "markdown",
      "metadata": {
        "id": "ES6xQFClfkrW",
        "colab_type": "text"
      },
      "source": [
        "# Ejercicio:\n",
        "Intenter hacer lo mismo pero creando número aleatorios entre 0 y 100 y que pare cuando el número sea **>50**"
      ]
    },
    {
      "cell_type": "code",
      "metadata": {
        "id": "pHBY6BujflRy",
        "colab_type": "code",
        "colab": {
          "base_uri": "https://localhost:8080/",
          "height": 34
        },
        "outputId": "37cc60e6-a492-4da3-b344-36a0d4774faf"
      },
      "source": [
        "import numpy as np\n",
        "\n",
        "np.random.randint(0,100) #ejemplo para crear un nº aleatorio entro 0 y 100"
      ],
      "execution_count": 39,
      "outputs": [
        {
          "output_type": "execute_result",
          "data": {
            "text/plain": [
              "62"
            ]
          },
          "metadata": {
            "tags": []
          },
          "execution_count": 39
        }
      ]
    },
    {
      "cell_type": "markdown",
      "metadata": {
        "id": "awth3nrMf6fD",
        "colab_type": "text"
      },
      "source": [
        "# Ejercicio:\n",
        "Intenta recrear los primeros números de la secuencia de Fibonacci. La secuencia empieza con los número 0 y 1, y después va creando números sumando los dos anteriores: 0, 1, 1, 2, 3, 5, 8,...\n",
        "Primero hazlo con los 10 primeros números, después deja que sea el usuario el que introduza cuántos primeros números.\n"
      ]
    },
    {
      "cell_type": "code",
      "metadata": {
        "id": "0g0fRqYCgoqb",
        "colab_type": "code",
        "colab": {}
      },
      "source": [
        "secuencia=[0,1]"
      ],
      "execution_count": 0,
      "outputs": []
    },
    {
      "cell_type": "markdown",
      "metadata": {
        "id": "oGm08cpfhb7b",
        "colab_type": "text"
      },
      "source": [
        "Dentro de los bucles, en cualquier momento se puede terminar el bucle (break) o pasar a la siguiente iteración (continue).\n"
      ]
    },
    {
      "cell_type": "code",
      "metadata": {
        "id": "lo4XMlOohcaH",
        "colab_type": "code",
        "colab": {
          "base_uri": "https://localhost:8080/",
          "height": 50
        },
        "outputId": "927c825d-d686-41a7-92fe-d7075e03c864"
      },
      "source": [
        "import numpy as np\n",
        "for i in range(30):\n",
        "    x=np.random.rand() #crea un nº aleatorio de 0 a 1\n",
        "    if x>0.9:\n",
        "        print('Encontrado un >0.9 ',x,'al intento nº', i+1)\n",
        "        break #probar quitar el break\n",
        "print('Nº de iteraciones totales hechas: ', i+1)"
      ],
      "execution_count": 41,
      "outputs": [
        {
          "output_type": "stream",
          "text": [
            "Encontrado un >0.9  0.922025187638333 al intento nº 1\n",
            "Nº de iteraciones totales hechas:  1\n"
          ],
          "name": "stdout"
        }
      ]
    },
    {
      "cell_type": "markdown",
      "metadata": {
        "id": "EeqDoMZbiOM0",
        "colab_type": "text"
      },
      "source": [
        "# Ejercicio:\n",
        "Buscar una letra concreta en la palabras de un texto, con que esté una vez en una palabra ya la cuenta:\n",
        "Que guarde en una variable las palabras que tienen la 'a' y otra que las cuente"
      ]
    },
    {
      "cell_type": "code",
      "metadata": {
        "id": "XnF0f7BLiVN8",
        "colab_type": "code",
        "colab": {
          "base_uri": "https://localhost:8080/",
          "height": 34
        },
        "outputId": "f2c38c4a-d681-4d9a-f904-1452ff0c67cf"
      },
      "source": [
        "texto='En un lugar de la Mancha de cuyo nombre no quiero acordarme ...'\n",
        "texto=texto.split() #esto descompone el texto en palabras\n",
        "print(texto)\n",
        "\n",
        "aciertos=0\n",
        "palabras_con_a=[]"
      ],
      "execution_count": 42,
      "outputs": [
        {
          "output_type": "stream",
          "text": [
            "['En', 'un', 'lugar', 'de', 'la', 'Mancha', 'de', 'cuyo', 'nombre', 'no', 'quiero', 'acordarme', '...']\n"
          ],
          "name": "stdout"
        }
      ]
    },
    {
      "cell_type": "markdown",
      "metadata": {
        "id": "KJe8oGDVjR4-",
        "colab_type": "text"
      },
      "source": [
        "# Ejercicio:\n",
        "Tenemos unos datos de índice de masa corporal (BMI) y queremos que automáticamente decida la categoría en la que se encuentra. Hay que unir bucles y condicionales.\n",
        "Asumimos que bajo peso es un BMI < 18.5, y obeso es un BMI > 30"
      ]
    },
    {
      "cell_type": "code",
      "metadata": {
        "id": "LvhfI1rOjZLX",
        "colab_type": "code",
        "colab": {}
      },
      "source": [
        "resultsBMI=[16.4, 25.3, 54.8, 29.5, 19.7, 23.6, 31.6, 18.1]\n",
        "nBajoPeso=0 #guardan cuántos ha encontrado de cada categoría\n",
        "nNormal=0\n",
        "nObeso=0"
      ],
      "execution_count": 0,
      "outputs": []
    },
    {
      "cell_type": "markdown",
      "metadata": {
        "id": "5oImIapTltmF",
        "colab_type": "text"
      },
      "source": [
        "# Ejercicio\n",
        "Vamos a crear unos datos de altura en una población. Queremos sacar muestras aleatorias de esa población y comprobar cuánto se aleja la media de las muestras de la media de la población."
      ]
    },
    {
      "cell_type": "code",
      "metadata": {
        "id": "YBo6I1bvluG8",
        "colab_type": "code",
        "colab": {
          "base_uri": "https://localhost:8080/",
          "height": 269
        },
        "outputId": "4236f1f4-9fdd-4f08-bfb6-348431430e2d"
      },
      "source": [
        "import numpy as np\n",
        "import matplotlib.pyplot as plt\n",
        "\n",
        "#Crea una población\n",
        "np.random.seed(10) #fija la aleatoriedad por reproducibilidad\n",
        "alturaPoblacion = np.random.normal(170, 20, 150000)\n",
        "plt.hist(alturaPoblacion)\n",
        "\n",
        "n=10\n",
        "diferencia=[]\n",
        "\n",
        "#crea una muestra aleatoria de n suejtos\n",
        "alturaMuestra = np.random.choice(a= alturaPoblacion, size=n)\n"
      ],
      "execution_count": 45,
      "outputs": [
        {
          "output_type": "display_data",
          "data": {
            "image/png": "[encoded data removed]",
            "text/plain": [
              "<Figure size 432x288 with 1 Axes>"
            ]
          },
          "metadata": {
            "tags": []
          }
        }
      ]
    }
  ]
}