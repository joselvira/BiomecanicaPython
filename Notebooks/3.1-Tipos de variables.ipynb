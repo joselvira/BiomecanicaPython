{
 "cells": [
  {
   "cell_type": "markdown",
   "metadata": {},
   "source": [
    "# Tipos de variables"
   ]
  },
  {
   "cell_type": "markdown",
   "metadata": {},
   "source": [
    "Una variable es un espacio de memoria reservado para guardar información que puede cambiar.\n",
    "Tipos básicos de variables:\n",
    "Números enteros (int)\n",
    "Números reales (decimales) (float)\n",
    "cadenas de texto (str)\n",
    "booleanos (bol)"
   ]
  },
  {
   "cell_type": "markdown",
   "metadata": {},
   "source": [
    "## Números enteros: int"
   ]
  },
  {
   "cell_type": "code",
   "execution_count": 133,
   "metadata": {},
   "outputs": [
    {
     "name": "stdout",
     "output_type": "stream",
     "text": [
      "4\n"
     ]
    }
   ],
   "source": [
    "numRepeticiones=4\n",
    "print(numRepeticiones)"
   ]
  },
  {
   "cell_type": "markdown",
   "metadata": {},
   "source": [
    "## Números reales, que incluyen los decimales: float"
   ]
  },
  {
   "cell_type": "code",
   "execution_count": 134,
   "metadata": {},
   "outputs": [
    {
     "name": "stdout",
     "output_type": "stream",
     "text": [
      "1.89\n"
     ]
    }
   ],
   "source": [
    "talla=1.89\n",
    "print(talla)"
   ]
  },
  {
   "cell_type": "markdown",
   "metadata": {},
   "source": [
    "## Cadenas de texto: str"
   ]
  },
  {
   "cell_type": "code",
   "execution_count": 135,
   "metadata": {},
   "outputs": [],
   "source": [
    "saludo='hola'\n",
    "despedida=\"adios\""
   ]
  },
  {
   "cell_type": "markdown",
   "metadata": {},
   "source": [
    "También se puede operar con las variables de texto"
   ]
  },
  {
   "cell_type": "code",
   "execution_count": 136,
   "metadata": {},
   "outputs": [
    {
     "name": "stdout",
     "output_type": "stream",
     "text": [
      "hola y después adios\n"
     ]
    }
   ],
   "source": [
    "texto= saludo+ ' y después '+ despedida\n",
    "print(texto)"
   ]
  },
  {
   "cell_type": "markdown",
   "metadata": {},
   "source": [
    "Se puede dar formato al texto cuando se integran números (decimales, etc.)"
   ]
  },
  {
   "cell_type": "code",
   "execution_count": 137,
   "metadata": {},
   "outputs": [
    {
     "name": "stdout",
     "output_type": "stream",
     "text": [
      "número decimal = 1.395, el entero = 4\n"
     ]
    }
   ],
   "source": [
    "decimal= 1.3948576647485\n",
    "entero=4\n",
    "texto='número'\n",
    "\n",
    "resultado = '{:s} decimal = {:.3f}, el entero = {:00d}'.format(texto, decimal, entero)\n",
    "print(resultado)"
   ]
  },
  {
   "cell_type": "markdown",
   "metadata": {},
   "source": [
    "## Número booleanos (bool)"
   ]
  },
  {
   "cell_type": "markdown",
   "metadata": {},
   "source": [
    "Solo admiten como valor True o False"
   ]
  },
  {
   "cell_type": "code",
   "execution_count": 138,
   "metadata": {},
   "outputs": [],
   "source": [
    "a=True\n",
    "b=False\n",
    "c=True"
   ]
  },
  {
   "cell_type": "markdown",
   "metadata": {},
   "source": [
    "Se pueden transformar de unos tipos a otros:"
   ]
  },
  {
   "cell_type": "code",
   "execution_count": 139,
   "metadata": {},
   "outputs": [
    {
     "name": "stdout",
     "output_type": "stream",
     "text": [
      "5.6 5\n"
     ]
    }
   ],
   "source": [
    "a=5.6#float\n",
    "b=int(a)\n",
    "print(a, b)"
   ]
  },
  {
   "cell_type": "code",
   "execution_count": 140,
   "metadata": {},
   "outputs": [
    {
     "name": "stdout",
     "output_type": "stream",
     "text": [
      "3 3.0\n"
     ]
    }
   ],
   "source": [
    "a=3#int\n",
    "b=float(a)\n",
    "print(a, b)"
   ]
  },
  {
   "cell_type": "code",
   "execution_count": 141,
   "metadata": {},
   "outputs": [
    {
     "name": "stdout",
     "output_type": "stream",
     "text": [
      "5 5\n",
      "55555\n",
      "25\n"
     ]
    }
   ],
   "source": [
    "a='5'\n",
    "b=int(a)\n",
    "print(a, b)\n",
    "print(5*a)#no multiplica sino que lo repite porque es una cadena de texto\n",
    "print(5*b)#realiza la operación matemática porque es un número"
   ]
  },
  {
   "cell_type": "code",
   "execution_count": 142,
   "metadata": {},
   "outputs": [
    {
     "name": "stdout",
     "output_type": "stream",
     "text": [
      "5 5\n",
      "25\n",
      "55555\n"
     ]
    }
   ],
   "source": [
    "a=5\n",
    "b=str(a)\n",
    "print(a, b)\n",
    "print(5*a)#al revés que el anterior\n",
    "print(5*b)"
   ]
  },
  {
   "cell_type": "markdown",
   "metadata": {},
   "source": []
  },
  {
   "cell_type": "markdown",
   "metadata": {},
   "source": [
    "## Listas"
   ]
  },
  {
   "cell_type": "markdown",
   "metadata": {},
   "source": [
    "Hasta ahora cada variable almacena un solo dato.\n",
    "Si necesitamos manejar muchos datos es inviable. Ej. registro de tiempos de vuelo en saltos:"
   ]
  },
  {
   "cell_type": "code",
   "execution_count": 143,
   "metadata": {},
   "outputs": [],
   "source": [
    "tv1=0.476\n",
    "tv2=0.381\n",
    "tv3=0.534"
   ]
  },
  {
   "cell_type": "markdown",
   "metadata": {},
   "source": [
    "En python se pueden crear listas de datos separándolos con comas:"
   ]
  },
  {
   "cell_type": "code",
   "execution_count": 144,
   "metadata": {},
   "outputs": [],
   "source": [
    "tv=[0.476, 0.381, 0.534]"
   ]
  },
  {
   "cell_type": "markdown",
   "metadata": {},
   "source": [
    "Las listas pueden contener cualquier tipo de datos:"
   ]
  },
  {
   "cell_type": "code",
   "execution_count": 145,
   "metadata": {},
   "outputs": [
    {
     "name": "stdout",
     "output_type": "stream",
     "text": [
      "['Sujeto1', 0.23, 'Sujeto2', 0.38, 'Sujeto3', 0.15]\n"
     ]
    }
   ],
   "source": [
    "AlturaSalto=['Sujeto1', 0.23, 'Sujeto2', 0.38, 'Sujeto3', 0.15]\n",
    "print(AlturaSalto)"
   ]
  },
  {
   "cell_type": "markdown",
   "metadata": {},
   "source": [
    " Se puede acceder a cada elemento de la lista. ATENCIÓN, el indexado empieza en 0:"
   ]
  },
  {
   "cell_type": "code",
   "execution_count": 146,
   "metadata": {},
   "outputs": [
    {
     "name": "stdout",
     "output_type": "stream",
     "text": [
      "Sujeto1 Sujeto2\n"
     ]
    }
   ],
   "source": [
    "print(AlturaSalto[0], AlturaSalto[2])"
   ]
  },
  {
   "cell_type": "code",
   "execution_count": 147,
   "metadata": {},
   "outputs": [
    {
     "name": "stdout",
     "output_type": "stream",
     "text": [
      "0.15\n",
      "Sujeto3\n"
     ]
    }
   ],
   "source": [
    "print(AlturaSalto[-1])#el último elemento\n",
    "print(AlturaSalto[-2])#el penúltimo elemento"
   ]
  },
  {
   "cell_type": "markdown",
   "metadata": {},
   "source": [
    "Una característica interesante es que se puede acceder a varios elementos de una vez."
   ]
  },
  {
   "cell_type": "code",
   "execution_count": 148,
   "metadata": {},
   "outputs": [
    {
     "name": "stdout",
     "output_type": "stream",
     "text": [
      "['Sujeto2', 0.38]\n"
     ]
    }
   ],
   "source": [
    "print(AlturaSalto[2:4])#no incluye el último elemento indicado"
   ]
  },
  {
   "cell_type": "code",
   "execution_count": 149,
   "metadata": {},
   "outputs": [
    {
     "name": "stdout",
     "output_type": "stream",
     "text": [
      "['Sujeto1', 0.23, 'Sujeto2']\n"
     ]
    }
   ],
   "source": [
    "print(AlturaSalto[:3])#si se deja en blanco antes de : indica desde el principio"
   ]
  },
  {
   "cell_type": "code",
   "execution_count": 150,
   "metadata": {},
   "outputs": [
    {
     "name": "stdout",
     "output_type": "stream",
     "text": [
      "[0.38, 'Sujeto3', 0.15]\n"
     ]
    }
   ],
   "source": [
    "print(AlturaSalto[3:])#si se deja en blanco después de : indica hasta el final"
   ]
  },
  {
   "cell_type": "code",
   "execution_count": 151,
   "metadata": {},
   "outputs": [
    {
     "name": "stdout",
     "output_type": "stream",
     "text": [
      "['Sujeto1', 0.23, 'Sujeto2', 0.38, 'Sujeto3']\n",
      "[0.38, 'Sujeto3', 0.15]\n"
     ]
    }
   ],
   "source": [
    "print(AlturaSalto[:-1]) #desde el primero hasta el último (no incluido)\n",
    "print(AlturaSalto[-3:]) #desde el antepenúltimo hasta el final"
   ]
  },
  {
   "cell_type": "markdown",
   "metadata": {},
   "source": [
    "También se puede seleccionar uno de cada tantos elementos. Se incluye un tercer número tras los dos puntos."
   ]
  },
  {
   "cell_type": "code",
   "execution_count": 152,
   "metadata": {},
   "outputs": [
    {
     "name": "stdout",
     "output_type": "stream",
     "text": [
      "['Sujeto1', 'Sujeto2', 'Sujeto3']\n"
     ]
    }
   ],
   "source": [
    "print(AlturaSalto[0:6:2])#del elemento 0 al 6 saltando de 2 en 2"
   ]
  },
  {
   "cell_type": "code",
   "execution_count": 153,
   "metadata": {},
   "outputs": [
    {
     "name": "stdout",
     "output_type": "stream",
     "text": [
      "['Sujeto1', 'Sujeto2', 'Sujeto3']\n"
     ]
    }
   ],
   "source": [
    "print(AlturaSalto[::2])#lo mismo que el anterior, del primero al último saltando de 2 en 2 (todos los pares)"
   ]
  },
  {
   "cell_type": "code",
   "execution_count": 154,
   "metadata": {},
   "outputs": [
    {
     "name": "stdout",
     "output_type": "stream",
     "text": [
      "[0.23, 0.38, 0.15]\n"
     ]
    }
   ],
   "source": [
    "print(AlturaSalto[1:6:2])#del primero al último saltando de 2 en 2 pero empezando en el 1 (impares)"
   ]
  },
  {
   "cell_type": "code",
   "execution_count": 155,
   "metadata": {},
   "outputs": [
    {
     "name": "stdout",
     "output_type": "stream",
     "text": [
      "['Sujeto2', 0.15]\n"
     ]
    }
   ],
   "source": [
    "print(AlturaSalto[2:6:3])#del 2 al 6 saltando de 3 en 3..."
   ]
  },
  {
   "cell_type": "markdown",
   "metadata": {},
   "source": [
    "Incluso se pueden mostrar hacia atrás:"
   ]
  },
  {
   "cell_type": "code",
   "execution_count": 156,
   "metadata": {},
   "outputs": [
    {
     "name": "stdout",
     "output_type": "stream",
     "text": [
      "[0.15, 'Sujeto3', 0.38, 'Sujeto2', 0.23, 'Sujeto1']\n",
      "[0.15, 0.38, 0.23]\n"
     ]
    }
   ],
   "source": [
    "print(AlturaSalto[::-1])#todos los elementos en orden inverso\n",
    "print(AlturaSalto[::-2])#todos los elementos en orden inverso saltando de 2 en 2"
   ]
  },
  {
   "cell_type": "markdown",
   "metadata": {},
   "source": [
    "También se pueden hacer listas de listas:"
   ]
  },
  {
   "cell_type": "code",
   "execution_count": 157,
   "metadata": {},
   "outputs": [
    {
     "name": "stdout",
     "output_type": "stream",
     "text": [
      "[['Sujeto1', 0.23], ['Sujeto2', 0.38], ['Sujeto3', 0.15]]\n"
     ]
    }
   ],
   "source": [
    "AlturasSalto=[['Sujeto1', 0.23], ['Sujeto2', 0.38], ['Sujeto3', 0.15]]\n",
    "print(AlturasSalto)"
   ]
  },
  {
   "cell_type": "markdown",
   "metadata": {},
   "source": [
    "En este caso la lista tiene dos dimensiones (filas y columnas).\n",
    "Para acceder a los elementos hay que indicar primero el número de filas y después el de columnas."
   ]
  },
  {
   "cell_type": "code",
   "execution_count": 158,
   "metadata": {},
   "outputs": [
    {
     "name": "stdout",
     "output_type": "stream",
     "text": [
      "['Sujeto1', 0.23]\n"
     ]
    }
   ],
   "source": [
    "print(AlturasSalto[0])#esta es la primera fila completa"
   ]
  },
  {
   "cell_type": "code",
   "execution_count": 159,
   "metadata": {},
   "outputs": [
    {
     "name": "stdout",
     "output_type": "stream",
     "text": [
      "0.38\n"
     ]
    }
   ],
   "source": [
    "print(AlturasSalto[1][1])#esto es la fila cero, columna 1"
   ]
  },
  {
   "cell_type": "markdown",
   "metadata": {},
   "source": [
    "En ocasiones no sabemos cuántos elementos va a tener una lista, sino que vamos a ir añadiendo sobre la marcha.\n",
    "Por ejemplo al analizar datos, vamos calculando variables y almacenándolas en una lista"
   ]
  },
  {
   "cell_type": "code",
   "execution_count": 160,
   "metadata": {},
   "outputs": [
    {
     "name": "stdout",
     "output_type": "stream",
     "text": [
      "[0.23, 0.46, 0.32]\n"
     ]
    }
   ],
   "source": [
    "resultados=[]\n",
    "resultados.append(0.23)\n",
    "resultados.append(0.46)\n",
    "resultados.append(0.32)\n",
    "print(resultados)"
   ]
  },
  {
   "cell_type": "markdown",
   "metadata": {},
   "source": []
  },
  {
   "cell_type": "markdown",
   "metadata": {},
   "source": [
    "## Tipo de variable básico para tratar datos en python: el módulo NUMPY"
   ]
  },
  {
   "cell_type": "markdown",
   "metadata": {},
   "source": [
    "Se parecen a las listas pero pueden hacer muchas más cosas."
   ]
  },
  {
   "cell_type": "code",
   "execution_count": 161,
   "metadata": {},
   "outputs": [
    {
     "data": {
      "text/plain": [
       "array([1, 4, 5, 7, 3])"
      ]
     },
     "execution_count": 161,
     "metadata": {},
     "output_type": "execute_result"
    }
   ],
   "source": [
    "import numpy as np #forma de importar la librería.\n",
    "x=np.array([1,4,5,7,3])\n",
    "x"
   ]
  },
  {
   "cell_type": "markdown",
   "metadata": {},
   "source": [
    "También se puede iniciar a partir de una lista"
   ]
  },
  {
   "cell_type": "code",
   "execution_count": 162,
   "metadata": {},
   "outputs": [
    {
     "data": {
      "text/plain": [
       "array([ 1.67,  1.76,  1.85,  1.79,  1.74])"
      ]
     },
     "execution_count": 162,
     "metadata": {},
     "output_type": "execute_result"
    }
   ],
   "source": [
    "alturas=[1.67, 1.76, 1.85, 1.79, 1.74]\n",
    "npAlturas=np.array(alturas)\n",
    "npAlturas"
   ]
  },
  {
   "cell_type": "markdown",
   "metadata": {},
   "source": [
    "Funcionan como las listas en la indexación:"
   ]
  },
  {
   "cell_type": "code",
   "execution_count": 163,
   "metadata": {},
   "outputs": [
    {
     "name": "stdout",
     "output_type": "stream",
     "text": [
      "1.67 1.67\n",
      "1.74 1.74\n",
      "[1.76, 1.85] [ 1.76  1.85]\n",
      "[1.85, 1.79, 1.74] [ 1.85  1.79  1.74]\n",
      "[1.85, 1.79] [ 1.85  1.79]\n",
      "[1.85, 1.79, 1.74] [ 1.85  1.79  1.74]\n",
      "[1.67, 1.76] [ 1.67  1.76]\n",
      "[1.74, 1.79, 1.85, 1.76, 1.67] [ 1.74  1.79  1.85  1.76  1.67]\n"
     ]
    }
   ],
   "source": [
    "print(alturas[0], npAlturas[0])\n",
    "print(alturas[-1], npAlturas[-1])\n",
    "print(alturas[1:3], npAlturas[1:3])\n",
    "print(alturas[2:], npAlturas[2:])\n",
    "print(alturas[2:-1], npAlturas[2:-1])\n",
    "print(alturas[-3:], npAlturas[-3:])\n",
    "print(alturas[:-3], npAlturas[:-3])\n",
    "print(alturas[::-1], npAlturas[::-1])"
   ]
  },
  {
   "cell_type": "markdown",
   "metadata": {},
   "source": [
    "Pero hay diferencias importantes entre las listas y los numpy:"
   ]
  },
  {
   "cell_type": "markdown",
   "metadata": {},
   "source": [
    "La lista está hecha de objetos que no son considerados números, no se pueden operar matemáticamente"
   ]
  },
  {
   "cell_type": "code",
   "execution_count": 164,
   "metadata": {},
   "outputs": [
    {
     "name": "stdout",
     "output_type": "stream",
     "text": [
      "[1.67, 1.76, 1.85, 1.79, 1.74, 1.67, 1.76, 1.85, 1.79, 1.74]\n"
     ]
    },
    {
     "ename": "TypeError",
     "evalue": "can only concatenate list (not \"int\") to list",
     "output_type": "error",
     "traceback": [
      "\u001b[1;31m---------------------------------------------------------------------------\u001b[0m",
      "\u001b[1;31mTypeError\u001b[0m                                 Traceback (most recent call last)",
      "\u001b[1;32m<ipython-input-164-3312f5e2519b>\u001b[0m in \u001b[0;36m<module>\u001b[1;34m()\u001b[0m\n\u001b[0;32m      1\u001b[0m \u001b[0mprint\u001b[0m\u001b[1;33m(\u001b[0m\u001b[0malturas\u001b[0m\u001b[1;33m*\u001b[0m\u001b[1;36m2\u001b[0m\u001b[1;33m)\u001b[0m \u001b[1;31m#concatena\u001b[0m\u001b[1;33m\u001b[0m\u001b[0m\n\u001b[1;32m----> 2\u001b[1;33m \u001b[0mprint\u001b[0m\u001b[1;33m(\u001b[0m\u001b[0malturas\u001b[0m\u001b[1;33m+\u001b[0m\u001b[1;36m2\u001b[0m\u001b[1;33m)\u001b[0m \u001b[1;31m#error\u001b[0m\u001b[1;33m\u001b[0m\u001b[0m\n\u001b[0m",
      "\u001b[1;31mTypeError\u001b[0m: can only concatenate list (not \"int\") to list"
     ]
    }
   ],
   "source": [
    "print(alturas*2) #concatena\n",
    "print(alturas+2) #error"
   ]
  },
  {
   "cell_type": "markdown",
   "metadata": {},
   "source": [
    "En cambio los numpy son números y se pueden operar uno a uno"
   ]
  },
  {
   "cell_type": "code",
   "execution_count": 165,
   "metadata": {},
   "outputs": [
    {
     "name": "stdout",
     "output_type": "stream",
     "text": [
      "[ 3.34  3.52  3.7   3.58  3.48]\n",
      "[ 3.67  3.76  3.85  3.79  3.74]\n",
      "[ 2.7889  3.0976  3.4225  3.2041  3.0276]\n"
     ]
    }
   ],
   "source": [
    "print(npAlturas*2)\n",
    "print(npAlturas+2)\n",
    "print(npAlturas**2)"
   ]
  },
  {
   "cell_type": "markdown",
   "metadata": {},
   "source": [
    "Se puede operar entre numpys. Opera dato a dato en el mismo orden. Tienen que tener el mismo número de datos."
   ]
  },
  {
   "cell_type": "code",
   "execution_count": 166,
   "metadata": {},
   "outputs": [],
   "source": [
    "npPesos=np.array([92, 65, 73, 85, 58])"
   ]
  },
  {
   "cell_type": "code",
   "execution_count": 167,
   "metadata": {},
   "outputs": [
    {
     "name": "stdout",
     "output_type": "stream",
     "text": [
      "[ 32.98791638  20.9839876   21.32943755  26.52851035  19.15708812]\n"
     ]
    }
   ],
   "source": [
    "BMI=npPesos/npAlturas**2\n",
    "print(BMI)"
   ]
  },
  {
   "cell_type": "markdown",
   "metadata": {},
   "source": [
    "En numpy también se pueden hacer arrays de varias dimensiones:"
   ]
  },
  {
   "cell_type": "code",
   "execution_count": 168,
   "metadata": {},
   "outputs": [],
   "source": [
    "#alturas y masas de 5 sujetos\n",
    "datos=np.array([[1.67, 1.76, 1.85, 1.79, 1.74],\n",
    "                  [92, 65, 73, 85, 58]])"
   ]
  },
  {
   "cell_type": "markdown",
   "metadata": {},
   "source": [
    "Y se accede a cada elemento o grupo de elementos así:"
   ]
  },
  {
   "cell_type": "code",
   "execution_count": 169,
   "metadata": {},
   "outputs": [
    {
     "name": "stdout",
     "output_type": "stream",
     "text": [
      "1.85\n",
      "[ 1.67  1.76  1.85  1.79  1.74]\n",
      "[  1.85  73.  ]\n",
      "[[  1.85   1.79]\n",
      " [ 73.    85.  ]]\n"
     ]
    }
   ],
   "source": [
    "print(datos[0, 2])#un solo elemento(fila, columna)\n",
    "print(datos[0, :])#toda la fila 0 (alturas)\n",
    "print(datos[:, 2])#toda la columna del sujeto 3º\n",
    "print(datos[:, 2:4])#toda la columna del sujeto 3º"
   ]
  },
  {
   "cell_type": "markdown",
   "metadata": {},
   "source": [
    "Podemos hacer la misma operación que antes dentro del mismo numpy"
   ]
  },
  {
   "cell_type": "code",
   "execution_count": 170,
   "metadata": {},
   "outputs": [
    {
     "name": "stdout",
     "output_type": "stream",
     "text": [
      "[ 32.98791638  20.9839876   21.32943755  26.52851035  19.15708812]\n"
     ]
    }
   ],
   "source": [
    "BMI2=datos[1, :] / datos[0, :]**2\n",
    "print(BMI2)"
   ]
  },
  {
   "cell_type": "markdown",
   "metadata": {},
   "source": [
    "Y también podemos hacer operaciones estadísticas:"
   ]
  },
  {
   "cell_type": "code",
   "execution_count": 171,
   "metadata": {},
   "outputs": [
    {
     "name": "stdout",
     "output_type": "stream",
     "text": [
      "promedio alturas:  1.762\n",
      "promedio masas:  74.6\n"
     ]
    }
   ],
   "source": [
    "print('promedio alturas: ', datos[0, :].mean())\n",
    "print('promedio masas: ', datos[1, :].mean())"
   ]
  },
  {
   "cell_type": "markdown",
   "metadata": {},
   "source": [
    "### Operaciones para seleccionar datos que cumplan una condición"
   ]
  },
  {
   "cell_type": "code",
   "execution_count": 172,
   "metadata": {},
   "outputs": [
    {
     "name": "stdout",
     "output_type": "stream",
     "text": [
      "[7 9 7 9]\n",
      "[7 7]\n",
      "[3 2 3]\n",
      "[9 9]\n",
      "[5 4 5 6 4 6]\n"
     ]
    }
   ],
   "source": [
    "z=np.array([3,5,4,7,9,2,5,7,6,3,4,9,6])\n",
    "zz = z[z>=7]\n",
    "print(zz)\n",
    "zz = z[z==7]\n",
    "print(zz)\n",
    "zz = z[z<4]\n",
    "print(zz)\n",
    "zz = z[z==z.max()]\n",
    "print(zz)\n",
    "\n",
    "zz = z[(z>3) & (z<7)]#para poner varias condiciones, meterlas entre paréntesis\n",
    "print(zz)\n",
    "\n",
    "zz = z[(z<3) | (z>7)] # los que sean menor que 3 y mayor que 7 \n",
    "print(zz)"
   ]
  },
  {
   "cell_type": "markdown",
   "metadata": {},
   "source": [
    "#### También se puede obtener el índice de los datos de la condición (orden dentro de la lista)"
   ]
  },
  {
   "cell_type": "code",
   "execution_count": 173,
   "metadata": {},
   "outputs": [
    {
     "name": "stdout",
     "output_type": "stream",
     "text": [
      "(array([ 3,  4,  7, 11], dtype=int64),)\n",
      "(array([3, 7], dtype=int64),)\n",
      "(array([0, 5, 9], dtype=int64),)\n",
      "(array([ 4, 11], dtype=int64),)\n",
      "(array([ 1,  2,  6,  8, 10, 12], dtype=int64),)\n"
     ]
    }
   ],
   "source": [
    "z=np.array([3,5,4,7,9,2,5,7,6,3,4,9,6])\n",
    "iz = np.where(z>=7)\n",
    "print(iz)\n",
    "iz = np.where(z==7)\n",
    "print(iz)\n",
    "iz = np.where(z<4)\n",
    "print(iz)\n",
    "iz = np.where(z==z.max())\n",
    "print(iz)\n",
    "\n",
    "iz = np.where((z>3) & (z<7))#para poner varias condiciones, meterlas entre paréntesis\n",
    "print(iz)"
   ]
  },
  {
   "cell_type": "markdown",
   "metadata": {},
   "source": [
    "### Con numpy se pueden crear series de números, por ejemplo para variables de tiempo.\n",
    "#### Si interesa controlar el intervalo entre datos\n",
    "np.arange(nºinicial, nº final, intervalo):"
   ]
  },
  {
   "cell_type": "code",
   "execution_count": 174,
   "metadata": {},
   "outputs": [
    {
     "data": {
      "text/plain": [
       "array([0, 1, 2, 3, 4, 5, 6, 7, 8, 9])"
      ]
     },
     "execution_count": 174,
     "metadata": {},
     "output_type": "execute_result"
    }
   ],
   "source": [
    "t=np.arange(0, 10)\n",
    "t"
   ]
  },
  {
   "cell_type": "code",
   "execution_count": 175,
   "metadata": {},
   "outputs": [
    {
     "data": {
      "text/plain": [
       "array([ 0, -1, -2, -3, -4, -5, -6, -7, -8, -9])"
      ]
     },
     "execution_count": 175,
     "metadata": {},
     "output_type": "execute_result"
    }
   ],
   "source": [
    "t=np.arange(0, -10, -1)#cuenta atrás\n",
    "t"
   ]
  },
  {
   "cell_type": "code",
   "execution_count": 176,
   "metadata": {},
   "outputs": [
    {
     "data": {
      "text/plain": [
       "array([ 0.  ,  0.05,  0.1 ,  0.15,  0.2 ,  0.25,  0.3 ,  0.35,  0.4 ,\n",
       "        0.45,  0.5 ,  0.55,  0.6 ,  0.65,  0.7 ,  0.75,  0.8 ,  0.85,\n",
       "        0.9 ,  0.95,  1.  ,  1.05,  1.1 ,  1.15,  1.2 ,  1.25,  1.3 ,\n",
       "        1.35,  1.4 ,  1.45,  1.5 ,  1.55,  1.6 ,  1.65,  1.7 ,  1.75,\n",
       "        1.8 ,  1.85,  1.9 ,  1.95,  2.  ,  2.05,  2.1 ,  2.15,  2.2 ,\n",
       "        2.25,  2.3 ,  2.35,  2.4 ,  2.45,  2.5 ,  2.55,  2.6 ,  2.65,\n",
       "        2.7 ,  2.75,  2.8 ,  2.85,  2.9 ,  2.95,  3.  ,  3.05,  3.1 ,\n",
       "        3.15,  3.2 ,  3.25,  3.3 ,  3.35,  3.4 ,  3.45,  3.5 ,  3.55,\n",
       "        3.6 ,  3.65,  3.7 ,  3.75,  3.8 ,  3.85,  3.9 ,  3.95,  4.  ,\n",
       "        4.05,  4.1 ,  4.15,  4.2 ,  4.25,  4.3 ,  4.35,  4.4 ,  4.45,\n",
       "        4.5 ,  4.55,  4.6 ,  4.65,  4.7 ,  4.75,  4.8 ,  4.85,  4.9 ,\n",
       "        4.95,  5.  ,  5.05,  5.1 ,  5.15,  5.2 ,  5.25,  5.3 ,  5.35,\n",
       "        5.4 ,  5.45,  5.5 ,  5.55,  5.6 ,  5.65,  5.7 ,  5.75,  5.8 ,\n",
       "        5.85,  5.9 ,  5.95,  6.  ,  6.05,  6.1 ,  6.15,  6.2 ,  6.25,\n",
       "        6.3 ,  6.35,  6.4 ,  6.45,  6.5 ,  6.55,  6.6 ,  6.65,  6.7 ,\n",
       "        6.75,  6.8 ,  6.85,  6.9 ,  6.95,  7.  ,  7.05,  7.1 ,  7.15,\n",
       "        7.2 ,  7.25,  7.3 ,  7.35,  7.4 ,  7.45,  7.5 ,  7.55,  7.6 ,\n",
       "        7.65,  7.7 ,  7.75,  7.8 ,  7.85,  7.9 ,  7.95,  8.  ,  8.05,\n",
       "        8.1 ,  8.15,  8.2 ,  8.25,  8.3 ,  8.35,  8.4 ,  8.45,  8.5 ,\n",
       "        8.55,  8.6 ,  8.65,  8.7 ,  8.75,  8.8 ,  8.85,  8.9 ,  8.95,\n",
       "        9.  ,  9.05,  9.1 ,  9.15,  9.2 ,  9.25,  9.3 ,  9.35,  9.4 ,\n",
       "        9.45,  9.5 ,  9.55,  9.6 ,  9.65,  9.7 ,  9.75,  9.8 ,  9.85,\n",
       "        9.9 ,  9.95])"
      ]
     },
     "execution_count": 176,
     "metadata": {},
     "output_type": "execute_result"
    }
   ],
   "source": [
    "t=np.arange(0, 10, 0.05)\n",
    "t"
   ]
  },
  {
   "cell_type": "markdown",
   "metadata": {},
   "source": [
    "#### Si interesa controlar el número de datos en el intervalo:"
   ]
  },
  {
   "cell_type": "code",
   "execution_count": 177,
   "metadata": {},
   "outputs": [
    {
     "data": {
      "text/plain": [
       "array([  0. ,   2.5,   5. ,   7.5,  10. ])"
      ]
     },
     "execution_count": 177,
     "metadata": {},
     "output_type": "execute_result"
    }
   ],
   "source": [
    "t= np.linspace(0, 10, 5)\n",
    "t"
   ]
  },
  {
   "cell_type": "code",
   "execution_count": 178,
   "metadata": {},
   "outputs": [
    {
     "data": {
      "text/plain": [
       "array([  0.        ,  -1.11111111,  -2.22222222,  -3.33333333,\n",
       "        -4.44444444,  -5.55555556,  -6.66666667,  -7.77777778,\n",
       "        -8.88888889, -10.        ])"
      ]
     },
     "execution_count": 178,
     "metadata": {},
     "output_type": "execute_result"
    }
   ],
   "source": [
    "t= np.linspace(0, -10, 10)\n",
    "t"
   ]
  },
  {
   "cell_type": "markdown",
   "metadata": {},
   "source": [
    "### Se pueden iniciar numpys con un nº de dimensiones conocidas de distintas formas:"
   ]
  },
  {
   "cell_type": "markdown",
   "metadata": {},
   "source": [
    "#### Vacío"
   ]
  },
  {
   "cell_type": "code",
   "execution_count": 179,
   "metadata": {},
   "outputs": [
    {
     "name": "stdout",
     "output_type": "stream",
     "text": [
      "[[  1.18515073e-311   1.18515002e-311   1.18515173e-311]\n",
      " [  1.18515073e-311   1.18515174e-311   1.18514983e-311]]\n"
     ]
    }
   ],
   "source": [
    "x=np.empty([2,3])#2 filas y 3 columnas vacías\n",
    "print(x)"
   ]
  },
  {
   "cell_type": "markdown",
   "metadata": {},
   "source": [
    "#### con algún valor concreto"
   ]
  },
  {
   "cell_type": "code",
   "execution_count": 180,
   "metadata": {},
   "outputs": [
    {
     "name": "stdout",
     "output_type": "stream",
     "text": [
      "[[ 0.  0.  0.]\n",
      " [ 0.  0.  0.]]\n",
      "[[ 1.  1.  1.]\n",
      " [ 1.  1.  1.]]\n",
      "[[ 3.14159265  3.14159265  3.14159265]\n",
      " [ 3.14159265  3.14159265  3.14159265]]\n"
     ]
    }
   ],
   "source": [
    "x=np.zeros([2,3])#2 filas y 3 columnas vacías\n",
    "print(x)\n",
    "x=np.ones([2,3])#2 filas y 3 columnas vacías\n",
    "print(x)\n",
    "x=np.full([2,3], np.pi)#2 filas y 3 columnas vacías\n",
    "print(x)\n"
   ]
  },
  {
   "cell_type": "markdown",
   "metadata": {},
   "source": [
    "#### con números aleatorios"
   ]
  },
  {
   "cell_type": "code",
   "execution_count": 181,
   "metadata": {},
   "outputs": [
    {
     "name": "stdout",
     "output_type": "stream",
     "text": [
      "[[7 6 5]\n",
      " [7 2 7]]\n"
     ]
    }
   ],
   "source": [
    "yi=np.random.randint(0,10, size=(2, 3))#enteros entre el 0 y el 10, con 2 filas y 3 columnas\n",
    "print(yi)"
   ]
  },
  {
   "cell_type": "code",
   "execution_count": 182,
   "metadata": {},
   "outputs": [
    {
     "name": "stdout",
     "output_type": "stream",
     "text": [
      "[[ 0.77709823  0.143607    0.08320264]\n",
      " [ 0.39921861  0.79696225  0.19167574]]\n"
     ]
    }
   ],
   "source": [
    "y= np.random.rand(2, 3) #float entre 0 y 1. 2 filas y 3 columnas\n",
    "print(y)"
   ]
  },
  {
   "cell_type": "code",
   "execution_count": 183,
   "metadata": {},
   "outputs": [
    {
     "name": "stdout",
     "output_type": "stream",
     "text": [
      "[[-0.76544537  0.97742897 -1.64175665]\n",
      " [-1.39908551 -0.55733231  0.20697248]]\n"
     ]
    }
   ],
   "source": [
    "yn= np.random.randn(2, 3) #con distribución normal con media 0 y sd 1\n",
    "print(yn)"
   ]
  },
  {
   "cell_type": "code",
   "execution_count": 184,
   "metadata": {},
   "outputs": [
    {
     "name": "stdout",
     "output_type": "stream",
     "text": [
      "[[ 3.55793609  2.99815676  2.56763084]\n",
      " [ 2.94727739  3.47899272  3.4092705 ]]\n"
     ]
    }
   ],
   "source": [
    "media=3.4\n",
    "sd=0.5\n",
    "ynn = np.random.normal(media, sd, [2, 3])#con distribución normal con media y sd definidas\n",
    "print(ynn)"
   ]
  },
  {
   "cell_type": "code",
   "execution_count": 185,
   "metadata": {},
   "outputs": [
    {
     "name": "stdout",
     "output_type": "stream",
     "text": [
      "Selección con reemplazo  ['D' 'D' 'B' 'C']\n",
      "Selección sin reemplazo  ['D' 'E' 'C' 'B']\n",
      "Selección con reemplazo y ajuste de probabilidades\n",
      " [['C' 'A' 'D']\n",
      " ['A' 'C' 'A']\n",
      " ['A' 'A' 'A']\n",
      " ['A' 'A' 'C']]\n"
     ]
    }
   ],
   "source": [
    "opciones=['A','B','C','D','E']\n",
    "seleccion=np.random.choice(opciones, size=4)\n",
    "print('Selección con reemplazo ', seleccion)\n",
    "\n",
    "seleccion=np.random.choice(opciones, size=4, replace=False)\n",
    "print('Selección sin reemplazo ', seleccion)\n",
    "\n",
    "seleccion=np.random.choice(opciones, size=(4,3), p=[0.6, 0.05, 0.15, 0.1, 0.1])\n",
    "print('Selección con reemplazo y ajuste de probabilidades\\n', seleccion)"
   ]
  },
  {
   "cell_type": "markdown",
   "metadata": {},
   "source": [
    "Se pueden visualizar rápidamente los datos."
   ]
  },
  {
   "cell_type": "code",
   "execution_count": 186,
   "metadata": {},
   "outputs": [
    {
     "data": {
      "text/plain": [
       "[<matplotlib.lines.Line2D at 0x22e882f23c8>,\n",
       " <matplotlib.lines.Line2D at 0x22e882f24e0>,\n",
       " <matplotlib.lines.Line2D at 0x22e882f2630>]"
      ]
     },
     "execution_count": 186,
     "metadata": {},
     "output_type": "execute_result"
    },
    {
     "data": {
      "image/png": "[encoded data removed]",
      "text/plain": [
       "<Figure size 432x288 with 1 Axes>"
      ]
     },
     "metadata": {},
     "output_type": "display_data"
    }
   ],
   "source": [
    "import matplotlib.pyplot as plt\n",
    "%matplotlib inline  \n",
    "\n",
    "means=[1.9, 0.7,-1.5]\n",
    "sigmas=[0.5, 1.3, 2.1]\n",
    "sx = np.random.normal(means, sigmas, [30, len(means)])\n",
    "plt.plot(sx,'o')\n",
    "#plt.plot(sx[:, 0], 'bo')\n",
    "#plt.plot(sx[:, 1], 'ro')"
   ]
  },
  {
   "cell_type": "markdown",
   "metadata": {},
   "source": [
    "### Algunas operaciones para gestionar numpys"
   ]
  },
  {
   "cell_type": "code",
   "execution_count": 187,
   "metadata": {},
   "outputs": [
    {
     "name": "stdout",
     "output_type": "stream",
     "text": [
      "a= [[5 8 9]\n",
      " [5 0 0]] \n",
      "b= [[1 7 6]\n",
      " [9 2 4]] \n",
      "c= [[5 8 9]\n",
      " [5 0 0]\n",
      " [1 7 6]\n",
      " [9 2 4]] \n",
      "Dimensiones= (4, 3)\n"
     ]
    }
   ],
   "source": [
    "np.random.seed(1) #fija la aleatoriedad para que sea reproducible\n",
    "a=np.random.randint(0,10, size=(2, 3))\n",
    "b=np.random.randint(0,10, size=(2, 3))\n",
    "c=np.vstack((a,b))#los une por debajo\n",
    "print('a=', a, '\\nb=', b, '\\nc=', c, '\\nDimensiones=', c.shape)"
   ]
  },
  {
   "cell_type": "code",
   "execution_count": 188,
   "metadata": {},
   "outputs": [
    {
     "name": "stdout",
     "output_type": "stream",
     "text": [
      "a= [[5 8 9]\n",
      " [5 0 0]] \n",
      "b= [[1 7 6]\n",
      " [9 2 4]] \n",
      "c= [[5 8 9 1 7 6]\n",
      " [5 0 0 9 2 4]] \n",
      "Dimensiones= (2, 6)\n"
     ]
    }
   ],
   "source": [
    "c=np.hstack((a,b))#los une poniendo uno al lado del otro\n",
    "print('a=', a, '\\nb=', b, '\\nc=', c, '\\nDimensiones=', c.shape)"
   ]
  },
  {
   "cell_type": "code",
   "execution_count": 189,
   "metadata": {},
   "outputs": [
    {
     "name": "stdout",
     "output_type": "stream",
     "text": [
      "[[5 5]\n",
      " [8 0]\n",
      " [9 0]\n",
      " [1 9]\n",
      " [7 2]\n",
      " [6 4]]\n"
     ]
    }
   ],
   "source": [
    "d=c.T#transpone los datos, filas en columnas y al revés\n",
    "print(d)"
   ]
  },
  {
   "cell_type": "markdown",
   "metadata": {},
   "source": []
  },
  {
   "cell_type": "markdown",
   "metadata": {},
   "source": [
    "## Otro tipo de variable complementario del numpy: PANDAS"
   ]
  },
  {
   "cell_type": "markdown",
   "metadata": {},
   "source": [
    "Muy útil para gestionar bases de datos. Utilizan etiquetas de filas y columnas.\n",
    "En series temporales normalmente las columnas representan variables y las filas los instantes temporales."
   ]
  },
  {
   "cell_type": "code",
   "execution_count": 190,
   "metadata": {},
   "outputs": [
    {
     "name": "stdout",
     "output_type": "stream",
     "text": [
      "df2= \n",
      "    a  b  c\n",
      "0  5  2  4\n",
      "1  2  4  7\n",
      "2  7  9  1\n",
      "3  7  0  6\n",
      "df2= \n",
      "    A  B  C\n",
      "0  5  2  4\n",
      "1  2  4  7\n",
      "2  7  9  1\n",
      "3  7  0  6\n"
     ]
    }
   ],
   "source": [
    "import pandas as pd\n",
    "\n",
    "df=pd.DataFrame([3,5,6,2], columns=['var1'])\n",
    "df2=pd.DataFrame(np.random.randint(0, 10, size=(4, 3)), columns=['a', 'b', 'c'])#se pueden nombrar las columnas directamente\n",
    "print('df2= \\n', df2)\n",
    "#o cambiar la columnas por separado\n",
    "df2.columns=['A', 'B', 'C']\n",
    "print('df2= \\n', df2)"
   ]
  },
  {
   "cell_type": "markdown",
   "metadata": {},
   "source": [
    "Para describir rápidamente el dataframe"
   ]
  },
  {
   "cell_type": "code",
   "execution_count": 191,
   "metadata": {},
   "outputs": [
    {
     "data": {
      "text/html": [
       "<div>\n",
       "<style scoped>\n",
       "    .dataframe tbody tr th:only-of-type {\n",
       "        vertical-align: middle;\n",
       "    }\n",
       "\n",
       "    .dataframe tbody tr th {\n",
       "        vertical-align: top;\n",
       "    }\n",
       "\n",
       "    .dataframe thead th {\n",
       "        text-align: right;\n",
       "    }\n",
       "</style>\n",
       "<table border=\"1\" class=\"dataframe\">\n",
       "  <thead>\n",
       "    <tr style=\"text-align: right;\">\n",
       "      <th></th>\n",
       "      <th>0</th>\n",
       "      <th>1</th>\n",
       "      <th>2</th>\n",
       "    </tr>\n",
       "  </thead>\n",
       "  <tbody>\n",
       "    <tr>\n",
       "      <th>0</th>\n",
       "      <td>0.800745</td>\n",
       "      <td>0.968262</td>\n",
       "      <td>0.313424</td>\n",
       "    </tr>\n",
       "    <tr>\n",
       "      <th>1</th>\n",
       "      <td>0.692323</td>\n",
       "      <td>0.876389</td>\n",
       "      <td>0.894607</td>\n",
       "    </tr>\n",
       "    <tr>\n",
       "      <th>2</th>\n",
       "      <td>0.085044</td>\n",
       "      <td>0.039055</td>\n",
       "      <td>0.169830</td>\n",
       "    </tr>\n",
       "    <tr>\n",
       "      <th>3</th>\n",
       "      <td>0.878143</td>\n",
       "      <td>0.098347</td>\n",
       "      <td>0.421108</td>\n",
       "    </tr>\n",
       "    <tr>\n",
       "      <th>4</th>\n",
       "      <td>0.957890</td>\n",
       "      <td>0.533165</td>\n",
       "      <td>0.691877</td>\n",
       "    </tr>\n",
       "  </tbody>\n",
       "</table>\n",
       "</div>"
      ],
      "text/plain": [
       "          0         1         2\n",
       "0  0.800745  0.968262  0.313424\n",
       "1  0.692323  0.876389  0.894607\n",
       "2  0.085044  0.039055  0.169830\n",
       "3  0.878143  0.098347  0.421108\n",
       "4  0.957890  0.533165  0.691877"
      ]
     },
     "execution_count": 191,
     "metadata": {},
     "output_type": "execute_result"
    }
   ],
   "source": [
    "df=pd.DataFrame(np.random.rand(20, 3))\n",
    "df.head()#presenta las 5 primeras filas"
   ]
  },
  {
   "cell_type": "code",
   "execution_count": 192,
   "metadata": {},
   "outputs": [
    {
     "data": {
      "text/html": [
       "<div>\n",
       "<style scoped>\n",
       "    .dataframe tbody tr th:only-of-type {\n",
       "        vertical-align: middle;\n",
       "    }\n",
       "\n",
       "    .dataframe tbody tr th {\n",
       "        vertical-align: top;\n",
       "    }\n",
       "\n",
       "    .dataframe thead th {\n",
       "        text-align: right;\n",
       "    }\n",
       "</style>\n",
       "<table border=\"1\" class=\"dataframe\">\n",
       "  <thead>\n",
       "    <tr style=\"text-align: right;\">\n",
       "      <th></th>\n",
       "      <th>0</th>\n",
       "      <th>1</th>\n",
       "      <th>2</th>\n",
       "    </tr>\n",
       "  </thead>\n",
       "  <tbody>\n",
       "    <tr>\n",
       "      <th>15</th>\n",
       "      <td>0.535896</td>\n",
       "      <td>0.663795</td>\n",
       "      <td>0.514889</td>\n",
       "    </tr>\n",
       "    <tr>\n",
       "      <th>16</th>\n",
       "      <td>0.944595</td>\n",
       "      <td>0.586555</td>\n",
       "      <td>0.903402</td>\n",
       "    </tr>\n",
       "    <tr>\n",
       "      <th>17</th>\n",
       "      <td>0.137475</td>\n",
       "      <td>0.139276</td>\n",
       "      <td>0.807391</td>\n",
       "    </tr>\n",
       "    <tr>\n",
       "      <th>18</th>\n",
       "      <td>0.397677</td>\n",
       "      <td>0.165354</td>\n",
       "      <td>0.927509</td>\n",
       "    </tr>\n",
       "    <tr>\n",
       "      <th>19</th>\n",
       "      <td>0.347766</td>\n",
       "      <td>0.750812</td>\n",
       "      <td>0.725998</td>\n",
       "    </tr>\n",
       "  </tbody>\n",
       "</table>\n",
       "</div>"
      ],
      "text/plain": [
       "           0         1         2\n",
       "15  0.535896  0.663795  0.514889\n",
       "16  0.944595  0.586555  0.903402\n",
       "17  0.137475  0.139276  0.807391\n",
       "18  0.397677  0.165354  0.927509\n",
       "19  0.347766  0.750812  0.725998"
      ]
     },
     "execution_count": 192,
     "metadata": {},
     "output_type": "execute_result"
    }
   ],
   "source": [
    "df.tail()#presenta las 5 últimas filas"
   ]
  },
  {
   "cell_type": "code",
   "execution_count": 193,
   "metadata": {},
   "outputs": [
    {
     "data": {
      "text/html": [
       "<div>\n",
       "<style scoped>\n",
       "    .dataframe tbody tr th:only-of-type {\n",
       "        vertical-align: middle;\n",
       "    }\n",
       "\n",
       "    .dataframe tbody tr th {\n",
       "        vertical-align: top;\n",
       "    }\n",
       "\n",
       "    .dataframe thead th {\n",
       "        text-align: right;\n",
       "    }\n",
       "</style>\n",
       "<table border=\"1\" class=\"dataframe\">\n",
       "  <thead>\n",
       "    <tr style=\"text-align: right;\">\n",
       "      <th></th>\n",
       "      <th>0</th>\n",
       "      <th>1</th>\n",
       "      <th>2</th>\n",
       "    </tr>\n",
       "  </thead>\n",
       "  <tbody>\n",
       "    <tr>\n",
       "      <th>count</th>\n",
       "      <td>20.000000</td>\n",
       "      <td>20.000000</td>\n",
       "      <td>20.000000</td>\n",
       "    </tr>\n",
       "    <tr>\n",
       "      <th>mean</th>\n",
       "      <td>0.475478</td>\n",
       "      <td>0.455371</td>\n",
       "      <td>0.566987</td>\n",
       "    </tr>\n",
       "    <tr>\n",
       "      <th>std</th>\n",
       "      <td>0.316322</td>\n",
       "      <td>0.285713</td>\n",
       "      <td>0.323072</td>\n",
       "    </tr>\n",
       "    <tr>\n",
       "      <th>min</th>\n",
       "      <td>0.018288</td>\n",
       "      <td>0.039055</td>\n",
       "      <td>0.049953</td>\n",
       "    </tr>\n",
       "    <tr>\n",
       "      <th>25%</th>\n",
       "      <td>0.233529</td>\n",
       "      <td>0.160698</td>\n",
       "      <td>0.287975</td>\n",
       "    </tr>\n",
       "    <tr>\n",
       "      <th>50%</th>\n",
       "      <td>0.466787</td>\n",
       "      <td>0.469733</td>\n",
       "      <td>0.640591</td>\n",
       "    </tr>\n",
       "    <tr>\n",
       "      <th>75%</th>\n",
       "      <td>0.711860</td>\n",
       "      <td>0.680752</td>\n",
       "      <td>0.849621</td>\n",
       "    </tr>\n",
       "    <tr>\n",
       "      <th>max</th>\n",
       "      <td>0.957890</td>\n",
       "      <td>0.968262</td>\n",
       "      <td>0.988861</td>\n",
       "    </tr>\n",
       "  </tbody>\n",
       "</table>\n",
       "</div>"
      ],
      "text/plain": [
       "               0          1          2\n",
       "count  20.000000  20.000000  20.000000\n",
       "mean    0.475478   0.455371   0.566987\n",
       "std     0.316322   0.285713   0.323072\n",
       "min     0.018288   0.039055   0.049953\n",
       "25%     0.233529   0.160698   0.287975\n",
       "50%     0.466787   0.469733   0.640591\n",
       "75%     0.711860   0.680752   0.849621\n",
       "max     0.957890   0.968262   0.988861"
      ]
     },
     "execution_count": 193,
     "metadata": {},
     "output_type": "execute_result"
    }
   ],
   "source": [
    "df.describe()#estadísticas descriptivas"
   ]
  },
  {
   "cell_type": "markdown",
   "metadata": {},
   "source": [
    "### Al copiar dataframes hay que tener cuidado, por defecto no hace una copia, sino que con otro nombre apunta a los mismos datos:"
   ]
  },
  {
   "cell_type": "code",
   "execution_count": 194,
   "metadata": {},
   "outputs": [
    {
     "name": "stdout",
     "output_type": "stream",
     "text": [
      "df2= \n",
      "    a  b  c\n",
      "0  5  2  4\n",
      "1  2  4  7\n",
      "2  7  9  1\n",
      "3  7  0  6\n"
     ]
    }
   ],
   "source": [
    "df2copia=df2#no crea una nueva copia de df2, solo podemos usar df2copia para nombrar el mismo df2\n",
    "df2copia.columns=['a', 'b', 'c']#realmente ha cambiado df2\n",
    "print('df2= \\n', df2)"
   ]
  },
  {
   "cell_type": "markdown",
   "metadata": {},
   "source": [
    "Para hacer una copia independiente hay que especificarlo."
   ]
  },
  {
   "cell_type": "code",
   "execution_count": 195,
   "metadata": {},
   "outputs": [
    {
     "name": "stdout",
     "output_type": "stream",
     "text": [
      "\n",
      "df3= \n",
      "    A  B  C\n",
      "0  5  2  4\n",
      "1  2  4  7\n",
      "2  7  9  1\n",
      "3  7  0  6\n",
      "\n",
      "df2 no cambia= \n",
      "    a  b  c\n",
      "0  5  2  4\n",
      "1  2  4  7\n",
      "2  7  9  1\n",
      "3  7  0  6\n"
     ]
    }
   ],
   "source": [
    "df3=df2.copy() #df3 es una copia independiente\n",
    "df3.columns=['A', 'B', 'C']#si le cambiamos algo, no afecta a df2\n",
    "print('\\ndf3= \\n', df3)\n",
    "print('\\ndf2 no cambia= \\n', df2)"
   ]
  },
  {
   "cell_type": "code",
   "execution_count": 196,
   "metadata": {},
   "outputs": [
    {
     "name": "stdout",
     "output_type": "stream",
     "text": [
      "\n",
      "df3= \n",
      "       A  B  C\n",
      "suj1  5  2  4\n",
      "suj2  2  4  7\n",
      "suj3  7  9  1\n",
      "suj4  7  0  6\n"
     ]
    }
   ],
   "source": [
    "df3.index=['suj1', 'suj2', 'suj3', 'suj4']#los nombres de las filas también se pueden modificar\n",
    "print('\\ndf3= \\n', df3)"
   ]
  },
  {
   "cell_type": "markdown",
   "metadata": {},
   "source": [
    "### Se pueden seleccionar bloques de datos"
   ]
  },
  {
   "cell_type": "code",
   "execution_count": 197,
   "metadata": {},
   "outputs": [
    {
     "data": {
      "text/html": [
       "<div>\n",
       "<style scoped>\n",
       "    .dataframe tbody tr th:only-of-type {\n",
       "        vertical-align: middle;\n",
       "    }\n",
       "\n",
       "    .dataframe tbody tr th {\n",
       "        vertical-align: top;\n",
       "    }\n",
       "\n",
       "    .dataframe thead th {\n",
       "        text-align: right;\n",
       "    }\n",
       "</style>\n",
       "<table border=\"1\" class=\"dataframe\">\n",
       "  <thead>\n",
       "    <tr style=\"text-align: right;\">\n",
       "      <th></th>\n",
       "      <th>a</th>\n",
       "      <th>b</th>\n",
       "      <th>c</th>\n",
       "    </tr>\n",
       "  </thead>\n",
       "  <tbody>\n",
       "    <tr>\n",
       "      <th>2</th>\n",
       "      <td>7</td>\n",
       "      <td>9</td>\n",
       "      <td>1</td>\n",
       "    </tr>\n",
       "    <tr>\n",
       "      <th>3</th>\n",
       "      <td>7</td>\n",
       "      <td>0</td>\n",
       "      <td>6</td>\n",
       "    </tr>\n",
       "  </tbody>\n",
       "</table>\n",
       "</div>"
      ],
      "text/plain": [
       "   a  b  c\n",
       "2  7  9  1\n",
       "3  7  0  6"
      ]
     },
     "execution_count": 197,
     "metadata": {},
     "output_type": "execute_result"
    }
   ],
   "source": [
    "df2[2:4]#todas las columnas, filas de 2 a 4 (no inclusive)"
   ]
  },
  {
   "cell_type": "code",
   "execution_count": 198,
   "metadata": {},
   "outputs": [
    {
     "data": {
      "text/plain": [
       "0    5\n",
       "1    2\n",
       "2    7\n",
       "3    7\n",
       "Name: a, dtype: int32"
      ]
     },
     "execution_count": 198,
     "metadata": {},
     "output_type": "execute_result"
    }
   ],
   "source": [
    "df2['a']#la columna 'a'"
   ]
  },
  {
   "cell_type": "code",
   "execution_count": 199,
   "metadata": {},
   "outputs": [
    {
     "data": {
      "text/plain": [
       "2    7\n",
       "3    7\n",
       "Name: a, dtype: int32"
      ]
     },
     "execution_count": 199,
     "metadata": {},
     "output_type": "execute_result"
    }
   ],
   "source": [
    "df2['a'][2:4]"
   ]
  },
  {
   "cell_type": "code",
   "execution_count": 200,
   "metadata": {},
   "outputs": [
    {
     "data": {
      "text/html": [
       "<div>\n",
       "<style scoped>\n",
       "    .dataframe tbody tr th:only-of-type {\n",
       "        vertical-align: middle;\n",
       "    }\n",
       "\n",
       "    .dataframe tbody tr th {\n",
       "        vertical-align: top;\n",
       "    }\n",
       "\n",
       "    .dataframe thead th {\n",
       "        text-align: right;\n",
       "    }\n",
       "</style>\n",
       "<table border=\"1\" class=\"dataframe\">\n",
       "  <thead>\n",
       "    <tr style=\"text-align: right;\">\n",
       "      <th></th>\n",
       "      <th>a</th>\n",
       "      <th>c</th>\n",
       "    </tr>\n",
       "  </thead>\n",
       "  <tbody>\n",
       "    <tr>\n",
       "      <th>0</th>\n",
       "      <td>5</td>\n",
       "      <td>4</td>\n",
       "    </tr>\n",
       "    <tr>\n",
       "      <th>1</th>\n",
       "      <td>2</td>\n",
       "      <td>7</td>\n",
       "    </tr>\n",
       "    <tr>\n",
       "      <th>2</th>\n",
       "      <td>7</td>\n",
       "      <td>1</td>\n",
       "    </tr>\n",
       "    <tr>\n",
       "      <th>3</th>\n",
       "      <td>7</td>\n",
       "      <td>6</td>\n",
       "    </tr>\n",
       "  </tbody>\n",
       "</table>\n",
       "</div>"
      ],
      "text/plain": [
       "   a  c\n",
       "0  5  4\n",
       "1  2  7\n",
       "2  7  1\n",
       "3  7  6"
      ]
     },
     "execution_count": 200,
     "metadata": {},
     "output_type": "execute_result"
    }
   ],
   "source": [
    "df2[['a','c']]#para seleccionar varias columnas no consecutivas, incluirlas en otro corchete"
   ]
  },
  {
   "cell_type": "code",
   "execution_count": 201,
   "metadata": {},
   "outputs": [
    {
     "data": {
      "text/html": [
       "<div>\n",
       "<style scoped>\n",
       "    .dataframe tbody tr th:only-of-type {\n",
       "        vertical-align: middle;\n",
       "    }\n",
       "\n",
       "    .dataframe tbody tr th {\n",
       "        vertical-align: top;\n",
       "    }\n",
       "\n",
       "    .dataframe thead th {\n",
       "        text-align: right;\n",
       "    }\n",
       "</style>\n",
       "<table border=\"1\" class=\"dataframe\">\n",
       "  <thead>\n",
       "    <tr style=\"text-align: right;\">\n",
       "      <th></th>\n",
       "      <th>b</th>\n",
       "      <th>c</th>\n",
       "    </tr>\n",
       "  </thead>\n",
       "  <tbody>\n",
       "    <tr>\n",
       "      <th>2</th>\n",
       "      <td>9</td>\n",
       "      <td>1</td>\n",
       "    </tr>\n",
       "    <tr>\n",
       "      <th>3</th>\n",
       "      <td>0</td>\n",
       "      <td>6</td>\n",
       "    </tr>\n",
       "  </tbody>\n",
       "</table>\n",
       "</div>"
      ],
      "text/plain": [
       "   b  c\n",
       "2  9  1\n",
       "3  0  6"
      ]
     },
     "execution_count": 201,
     "metadata": {},
     "output_type": "execute_result"
    }
   ],
   "source": [
    "df2.iloc[2:4, 1:3]#para seleccionar filas y columnas por bloques"
   ]
  },
  {
   "cell_type": "code",
   "execution_count": 202,
   "metadata": {},
   "outputs": [
    {
     "data": {
      "text/html": [
       "<div>\n",
       "<style scoped>\n",
       "    .dataframe tbody tr th:only-of-type {\n",
       "        vertical-align: middle;\n",
       "    }\n",
       "\n",
       "    .dataframe tbody tr th {\n",
       "        vertical-align: top;\n",
       "    }\n",
       "\n",
       "    .dataframe thead th {\n",
       "        text-align: right;\n",
       "    }\n",
       "</style>\n",
       "<table border=\"1\" class=\"dataframe\">\n",
       "  <thead>\n",
       "    <tr style=\"text-align: right;\">\n",
       "      <th></th>\n",
       "      <th>a</th>\n",
       "      <th>b</th>\n",
       "      <th>c</th>\n",
       "      <th>d</th>\n",
       "    </tr>\n",
       "  </thead>\n",
       "  <tbody>\n",
       "    <tr>\n",
       "      <th>0</th>\n",
       "      <td>5</td>\n",
       "      <td>2</td>\n",
       "      <td>4</td>\n",
       "      <td>8</td>\n",
       "    </tr>\n",
       "    <tr>\n",
       "      <th>1</th>\n",
       "      <td>2</td>\n",
       "      <td>4</td>\n",
       "      <td>7</td>\n",
       "      <td>14</td>\n",
       "    </tr>\n",
       "    <tr>\n",
       "      <th>2</th>\n",
       "      <td>7</td>\n",
       "      <td>9</td>\n",
       "      <td>1</td>\n",
       "      <td>2</td>\n",
       "    </tr>\n",
       "    <tr>\n",
       "      <th>3</th>\n",
       "      <td>7</td>\n",
       "      <td>0</td>\n",
       "      <td>6</td>\n",
       "      <td>12</td>\n",
       "    </tr>\n",
       "  </tbody>\n",
       "</table>\n",
       "</div>"
      ],
      "text/plain": [
       "   a  b  c   d\n",
       "0  5  2  4   8\n",
       "1  2  4  7  14\n",
       "2  7  9  1   2\n",
       "3  7  0  6  12"
      ]
     },
     "execution_count": 202,
     "metadata": {},
     "output_type": "execute_result"
    }
   ],
   "source": [
    "df2['d']=df2['c']*2#crea una nueva columna\n",
    "df2"
   ]
  },
  {
   "cell_type": "code",
   "execution_count": 203,
   "metadata": {},
   "outputs": [
    {
     "data": {
      "text/html": [
       "<div>\n",
       "<style scoped>\n",
       "    .dataframe tbody tr th:only-of-type {\n",
       "        vertical-align: middle;\n",
       "    }\n",
       "\n",
       "    .dataframe tbody tr th {\n",
       "        vertical-align: top;\n",
       "    }\n",
       "\n",
       "    .dataframe thead th {\n",
       "        text-align: right;\n",
       "    }\n",
       "</style>\n",
       "<table border=\"1\" class=\"dataframe\">\n",
       "  <thead>\n",
       "    <tr style=\"text-align: right;\">\n",
       "      <th></th>\n",
       "      <th>a</th>\n",
       "      <th>b</th>\n",
       "      <th>c</th>\n",
       "      <th>d</th>\n",
       "      <th>Sexo</th>\n",
       "    </tr>\n",
       "  </thead>\n",
       "  <tbody>\n",
       "    <tr>\n",
       "      <th>0</th>\n",
       "      <td>5</td>\n",
       "      <td>2</td>\n",
       "      <td>4</td>\n",
       "      <td>8</td>\n",
       "      <td>0</td>\n",
       "    </tr>\n",
       "    <tr>\n",
       "      <th>1</th>\n",
       "      <td>2</td>\n",
       "      <td>4</td>\n",
       "      <td>7</td>\n",
       "      <td>14</td>\n",
       "      <td>1</td>\n",
       "    </tr>\n",
       "    <tr>\n",
       "      <th>2</th>\n",
       "      <td>7</td>\n",
       "      <td>9</td>\n",
       "      <td>1</td>\n",
       "      <td>2</td>\n",
       "      <td>1</td>\n",
       "    </tr>\n",
       "    <tr>\n",
       "      <th>3</th>\n",
       "      <td>7</td>\n",
       "      <td>0</td>\n",
       "      <td>6</td>\n",
       "      <td>12</td>\n",
       "      <td>0</td>\n",
       "    </tr>\n",
       "  </tbody>\n",
       "</table>\n",
       "</div>"
      ],
      "text/plain": [
       "   a  b  c   d  Sexo\n",
       "0  5  2  4   8     0\n",
       "1  2  4  7  14     1\n",
       "2  7  9  1   2     1\n",
       "3  7  0  6  12     0"
      ]
     },
     "execution_count": 203,
     "metadata": {},
     "output_type": "execute_result"
    }
   ],
   "source": [
    "df2['Sexo']=[0,1,1,0]#añade otra columna\n",
    "df2"
   ]
  },
  {
   "cell_type": "code",
   "execution_count": 204,
   "metadata": {},
   "outputs": [
    {
     "name": "stdout",
     "output_type": "stream",
     "text": [
      "Index(['a', 'b', 'c', 'd', 'Sexo'], dtype='object')\n",
      "Sexo\n",
      "El índice de la columna sexo es 4\n"
     ]
    }
   ],
   "source": [
    "print(df2.columns) #nombre de todas las columnas\n",
    "print(df2.columns[-1]) #nombre de la última columna\n",
    "print('El índice de la columna sexo es', df2.columns.get_loc('Sexo'))"
   ]
  },
  {
   "cell_type": "markdown",
   "metadata": {},
   "source": [
    "### Se puede hacer referencia a un valor de distintas formas. Depende de si es más práctico usar el índice de las filas y columnas o su etiqueta:"
   ]
  },
  {
   "cell_type": "code",
   "execution_count": 205,
   "metadata": {},
   "outputs": [
    {
     "name": "stdout",
     "output_type": "stream",
     "text": [
      "2\n",
      "2\n",
      "2\n",
      "2\n",
      "2\n",
      "2\n",
      "2\n"
     ]
    }
   ],
   "source": [
    "print(df2['a'][1])#nombre de etiqueta de la columa y la fila\n",
    "print(df2[df2.columns[0]][1])#número del nombre de la columna de la columa y fila\n",
    "print(df2.loc[1,'a']) #con etiquetas, primero se indica la fila y después la columna\n",
    "print(df2.iloc[1,0]) #con índices, primero se indica la fila y después la columna\n",
    "print(df2.iloc[1,df2.columns.get_loc('a')]) #lo mismo que la anterior pero para cuando sabemos el nombre de la columna y no el índice\n",
    "print(df2.iat[1,0]) #primero se indica la fila y después la columna\n",
    "print(df2.at[1,'a']) #primero se indica la fila y después la columna"
   ]
  },
  {
   "cell_type": "code",
   "execution_count": 206,
   "metadata": {},
   "outputs": [
    {
     "name": "stdout",
     "output_type": "stream",
     "text": [
      "df3= \n",
      "       A  B  C\n",
      "suj1  5  2  4\n",
      "suj2  2  4  7\n",
      "suj3  7  9  1\n",
      "suj4  7  0  6\n",
      "9\n",
      "9\n",
      "9\n",
      "9\n",
      "4\n",
      "9\n",
      "9\n"
     ]
    }
   ],
   "source": [
    "print('df3= \\n', df3)\n",
    "print(df3['B']['suj3'])#nombre de etiqueta de la columa y la fila\n",
    "print(df3[df3.columns[1]]['suj3'])#número del nombre de la columna de la columa y fila\n",
    "print(df3.loc['suj3','B']) #con etiquetas, primero se indica la fila y después la columna\n",
    "print(df3.iloc[2,1]) #con índices, primero se indica la fila y después la columna\n",
    "print(df3.iloc[1,df3.columns.get_loc('B')]) #lo mismo que la anterior pero para cuando sabemos el nombre de la columna y no el índice\n",
    "print(df3.at['suj3','B']) #con etiquetas, primero se indica la fila y después la columna\n",
    "print(df3.iat[2,1]) #con índices, primero se indica la fila y después la columna"
   ]
  },
  {
   "cell_type": "markdown",
   "metadata": {},
   "source": [
    "Para modificar valores en una celda concreta. iat y at son más rápidos pero solo permiten modificar una celda, mientras que iloc y loc pueden hacerlo con más de una"
   ]
  },
  {
   "cell_type": "code",
   "execution_count": 207,
   "metadata": {},
   "outputs": [
    {
     "name": "stdout",
     "output_type": "stream",
     "text": [
      "     a    b     c     d  Sexo nuevaCol nuevaCol2\n",
      "0  5.0  2.0  11.0   8.0   0.0      NaN       NaN\n",
      "1  2.0  4.0  11.0  11.0   1.0    nuevo       NaN\n",
      "2  7.0  9.0   1.0   2.0   1.0    nuevo       NaN\n",
      "3  7.0  0.0   6.0  12.0   0.0      NaN       NaN\n",
      "5  NaN  NaN   NaN   NaN   NaN      NaN     nuevo\n"
     ]
    }
   ],
   "source": [
    "df2.at[1, 'd']=11 #con etiquetas, modifica un valor por nombre fila, col\n",
    "df2.iat[0, 2]=11 #con índices, modifica un valor por nº fila, col\n",
    "\n",
    "df2.loc[1, 'd']=11 \n",
    "df2.iloc[0, 2]=11 #con índices, modifica un valor por nº fila, col\n",
    "df2.iloc[0:2, 2]=11 #se puede usar con selección de varias celdas a la vez.\n",
    "df2.loc[1:2, 'nuevaCol']='nuevo' #loc e iloc también se pueden usar para crear nuevas filas o columnas\n",
    "df2.loc[5, 'nuevaCol2']='nuevo'\n",
    "print(df2)"
   ]
  },
  {
   "cell_type": "code",
   "execution_count": 208,
   "metadata": {},
   "outputs": [
    {
     "data": {
      "text/html": [
       "<div>\n",
       "<style scoped>\n",
       "    .dataframe tbody tr th:only-of-type {\n",
       "        vertical-align: middle;\n",
       "    }\n",
       "\n",
       "    .dataframe tbody tr th {\n",
       "        vertical-align: top;\n",
       "    }\n",
       "\n",
       "    .dataframe thead th {\n",
       "        text-align: right;\n",
       "    }\n",
       "</style>\n",
       "<table border=\"1\" class=\"dataframe\">\n",
       "  <thead>\n",
       "    <tr style=\"text-align: right;\">\n",
       "      <th></th>\n",
       "      <th>a</th>\n",
       "      <th>b</th>\n",
       "      <th>c</th>\n",
       "      <th>d</th>\n",
       "      <th>Sexo</th>\n",
       "      <th>nuevaCol</th>\n",
       "      <th>nuevaCol2</th>\n",
       "    </tr>\n",
       "  </thead>\n",
       "  <tbody>\n",
       "    <tr>\n",
       "      <th>0</th>\n",
       "      <td>5.0</td>\n",
       "      <td>2.0</td>\n",
       "      <td>11.0</td>\n",
       "      <td>8.0</td>\n",
       "      <td>0.0</td>\n",
       "      <td>NaN</td>\n",
       "      <td>NaN</td>\n",
       "    </tr>\n",
       "    <tr>\n",
       "      <th>1</th>\n",
       "      <td>2.0</td>\n",
       "      <td>4.0</td>\n",
       "      <td>11.0</td>\n",
       "      <td>11.0</td>\n",
       "      <td>1.0</td>\n",
       "      <td>nuevo</td>\n",
       "      <td>NaN</td>\n",
       "    </tr>\n",
       "    <tr>\n",
       "      <th>2</th>\n",
       "      <td>7.0</td>\n",
       "      <td>9.0</td>\n",
       "      <td>1.0</td>\n",
       "      <td>2.0</td>\n",
       "      <td>1.0</td>\n",
       "      <td>nuevo</td>\n",
       "      <td>NaN</td>\n",
       "    </tr>\n",
       "    <tr>\n",
       "      <th>3</th>\n",
       "      <td>7.0</td>\n",
       "      <td>0.0</td>\n",
       "      <td>6.0</td>\n",
       "      <td>12.0</td>\n",
       "      <td>0.0</td>\n",
       "      <td>NaN</td>\n",
       "      <td>NaN</td>\n",
       "    </tr>\n",
       "    <tr>\n",
       "      <th>5</th>\n",
       "      <td>NaN</td>\n",
       "      <td>NaN</td>\n",
       "      <td>NaN</td>\n",
       "      <td>NaN</td>\n",
       "      <td>NaN</td>\n",
       "      <td>NaN</td>\n",
       "      <td>nuevo</td>\n",
       "    </tr>\n",
       "  </tbody>\n",
       "</table>\n",
       "</div>"
      ],
      "text/plain": [
       "     a    b     c     d  Sexo nuevaCol nuevaCol2\n",
       "0  5.0  2.0  11.0   8.0   0.0      NaN       NaN\n",
       "1  2.0  4.0  11.0  11.0   1.0    nuevo       NaN\n",
       "2  7.0  9.0   1.0   2.0   1.0    nuevo       NaN\n",
       "3  7.0  0.0   6.0  12.0   0.0      NaN       NaN\n",
       "5  NaN  NaN   NaN   NaN   NaN      NaN     nuevo"
      ]
     },
     "execution_count": 208,
     "metadata": {},
     "output_type": "execute_result"
    }
   ],
   "source": [
    "df2[['a','b']]=df2[['a','b']].astype(np.float)#cambiar el tipo de datos de las columnas\n",
    "df2"
   ]
  },
  {
   "cell_type": "markdown",
   "metadata": {},
   "source": [
    "### Se pueden selecionar filas según los datos cumplan una o varias condiciones. "
   ]
  },
  {
   "cell_type": "code",
   "execution_count": 209,
   "metadata": {},
   "outputs": [
    {
     "data": {
      "text/html": [
       "<div>\n",
       "<style scoped>\n",
       "    .dataframe tbody tr th:only-of-type {\n",
       "        vertical-align: middle;\n",
       "    }\n",
       "\n",
       "    .dataframe tbody tr th {\n",
       "        vertical-align: top;\n",
       "    }\n",
       "\n",
       "    .dataframe thead th {\n",
       "        text-align: right;\n",
       "    }\n",
       "</style>\n",
       "<table border=\"1\" class=\"dataframe\">\n",
       "  <thead>\n",
       "    <tr style=\"text-align: right;\">\n",
       "      <th></th>\n",
       "      <th>a</th>\n",
       "      <th>b</th>\n",
       "      <th>c</th>\n",
       "      <th>d</th>\n",
       "      <th>Sexo</th>\n",
       "      <th>nuevaCol</th>\n",
       "      <th>nuevaCol2</th>\n",
       "    </tr>\n",
       "  </thead>\n",
       "  <tbody>\n",
       "    <tr>\n",
       "      <th>0</th>\n",
       "      <td>5.0</td>\n",
       "      <td>2.0</td>\n",
       "      <td>11.0</td>\n",
       "      <td>8.0</td>\n",
       "      <td>0.0</td>\n",
       "      <td>NaN</td>\n",
       "      <td>NaN</td>\n",
       "    </tr>\n",
       "    <tr>\n",
       "      <th>3</th>\n",
       "      <td>7.0</td>\n",
       "      <td>0.0</td>\n",
       "      <td>6.0</td>\n",
       "      <td>12.0</td>\n",
       "      <td>0.0</td>\n",
       "      <td>NaN</td>\n",
       "      <td>NaN</td>\n",
       "    </tr>\n",
       "  </tbody>\n",
       "</table>\n",
       "</div>"
      ],
      "text/plain": [
       "     a    b     c     d  Sexo nuevaCol nuevaCol2\n",
       "0  5.0  2.0  11.0   8.0   0.0      NaN       NaN\n",
       "3  7.0  0.0   6.0  12.0   0.0      NaN       NaN"
      ]
     },
     "execution_count": 209,
     "metadata": {},
     "output_type": "execute_result"
    }
   ],
   "source": [
    "chicos=df2[df2['Sexo']==0]#selecciona las filas según los valores de una variable\n",
    "chicos"
   ]
  },
  {
   "cell_type": "code",
   "execution_count": 210,
   "metadata": {},
   "outputs": [
    {
     "data": {
      "text/html": [
       "<div>\n",
       "<style scoped>\n",
       "    .dataframe tbody tr th:only-of-type {\n",
       "        vertical-align: middle;\n",
       "    }\n",
       "\n",
       "    .dataframe tbody tr th {\n",
       "        vertical-align: top;\n",
       "    }\n",
       "\n",
       "    .dataframe thead th {\n",
       "        text-align: right;\n",
       "    }\n",
       "</style>\n",
       "<table border=\"1\" class=\"dataframe\">\n",
       "  <thead>\n",
       "    <tr style=\"text-align: right;\">\n",
       "      <th></th>\n",
       "      <th>a</th>\n",
       "      <th>b</th>\n",
       "      <th>c</th>\n",
       "      <th>d</th>\n",
       "      <th>Sexo</th>\n",
       "      <th>nuevaCol</th>\n",
       "      <th>nuevaCol2</th>\n",
       "    </tr>\n",
       "  </thead>\n",
       "  <tbody>\n",
       "    <tr>\n",
       "      <th>0</th>\n",
       "      <td>5.0</td>\n",
       "      <td>2.0</td>\n",
       "      <td>11.0</td>\n",
       "      <td>8.0</td>\n",
       "      <td>0.0</td>\n",
       "      <td>NaN</td>\n",
       "      <td>NaN</td>\n",
       "    </tr>\n",
       "    <tr>\n",
       "      <th>3</th>\n",
       "      <td>7.0</td>\n",
       "      <td>0.0</td>\n",
       "      <td>6.0</td>\n",
       "      <td>12.0</td>\n",
       "      <td>0.0</td>\n",
       "      <td>NaN</td>\n",
       "      <td>NaN</td>\n",
       "    </tr>\n",
       "  </tbody>\n",
       "</table>\n",
       "</div>"
      ],
      "text/plain": [
       "     a    b     c     d  Sexo nuevaCol nuevaCol2\n",
       "0  5.0  2.0  11.0   8.0   0.0      NaN       NaN\n",
       "3  7.0  0.0   6.0  12.0   0.0      NaN       NaN"
      ]
     },
     "execution_count": 210,
     "metadata": {},
     "output_type": "execute_result"
    }
   ],
   "source": [
    "chicos=df2[(df2['Sexo']==0) & (df2['c']>=5) | (df2['a']< 2)]#selecciona las filas según más de una condición\n",
    "chicos"
   ]
  },
  {
   "cell_type": "code",
   "execution_count": 211,
   "metadata": {},
   "outputs": [
    {
     "data": {
      "text/plain": [
       "Index(['a', 'b', 'c', 'd', 'Sexo', 'nuevaCol', 'nuevaCol2'], dtype='object')"
      ]
     },
     "execution_count": 211,
     "metadata": {},
     "output_type": "execute_result"
    }
   ],
   "source": [
    "df2.columns #nombres de las columnas"
   ]
  },
  {
   "cell_type": "code",
   "execution_count": 212,
   "metadata": {},
   "outputs": [
    {
     "data": {
      "text/html": [
       "<div>\n",
       "<style scoped>\n",
       "    .dataframe tbody tr th:only-of-type {\n",
       "        vertical-align: middle;\n",
       "    }\n",
       "\n",
       "    .dataframe tbody tr th {\n",
       "        vertical-align: top;\n",
       "    }\n",
       "\n",
       "    .dataframe thead th {\n",
       "        text-align: right;\n",
       "    }\n",
       "</style>\n",
       "<table border=\"1\" class=\"dataframe\">\n",
       "  <thead>\n",
       "    <tr style=\"text-align: right;\">\n",
       "      <th></th>\n",
       "      <th>a</th>\n",
       "      <th>b</th>\n",
       "      <th>d</th>\n",
       "      <th>Sexo</th>\n",
       "      <th>nuevaCol</th>\n",
       "      <th>nuevaCol2</th>\n",
       "    </tr>\n",
       "  </thead>\n",
       "  <tbody>\n",
       "    <tr>\n",
       "      <th>0</th>\n",
       "      <td>5.0</td>\n",
       "      <td>2.0</td>\n",
       "      <td>8.0</td>\n",
       "      <td>0.0</td>\n",
       "      <td>NaN</td>\n",
       "      <td>NaN</td>\n",
       "    </tr>\n",
       "    <tr>\n",
       "      <th>1</th>\n",
       "      <td>2.0</td>\n",
       "      <td>4.0</td>\n",
       "      <td>11.0</td>\n",
       "      <td>1.0</td>\n",
       "      <td>nuevo</td>\n",
       "      <td>NaN</td>\n",
       "    </tr>\n",
       "    <tr>\n",
       "      <th>2</th>\n",
       "      <td>7.0</td>\n",
       "      <td>9.0</td>\n",
       "      <td>2.0</td>\n",
       "      <td>1.0</td>\n",
       "      <td>nuevo</td>\n",
       "      <td>NaN</td>\n",
       "    </tr>\n",
       "    <tr>\n",
       "      <th>3</th>\n",
       "      <td>7.0</td>\n",
       "      <td>0.0</td>\n",
       "      <td>12.0</td>\n",
       "      <td>0.0</td>\n",
       "      <td>NaN</td>\n",
       "      <td>NaN</td>\n",
       "    </tr>\n",
       "    <tr>\n",
       "      <th>5</th>\n",
       "      <td>NaN</td>\n",
       "      <td>NaN</td>\n",
       "      <td>NaN</td>\n",
       "      <td>NaN</td>\n",
       "      <td>NaN</td>\n",
       "      <td>nuevo</td>\n",
       "    </tr>\n",
       "  </tbody>\n",
       "</table>\n",
       "</div>"
      ],
      "text/plain": [
       "     a    b     d  Sexo nuevaCol nuevaCol2\n",
       "0  5.0  2.0   8.0   0.0      NaN       NaN\n",
       "1  2.0  4.0  11.0   1.0    nuevo       NaN\n",
       "2  7.0  9.0   2.0   1.0    nuevo       NaN\n",
       "3  7.0  0.0  12.0   0.0      NaN       NaN\n",
       "5  NaN  NaN   NaN   NaN      NaN     nuevo"
      ]
     },
     "execution_count": 212,
     "metadata": {},
     "output_type": "execute_result"
    }
   ],
   "source": [
    "df3=df2.drop('c', axis=1) #elimina columnas enteras. Para que lo haga en la misma variable df2.drop('c', axis=1, implace=True)\n",
    "df3"
   ]
  },
  {
   "cell_type": "markdown",
   "metadata": {},
   "source": [
    "### Se pueden reordenar las columnas"
   ]
  },
  {
   "cell_type": "code",
   "execution_count": 213,
   "metadata": {},
   "outputs": [
    {
     "name": "stdout",
     "output_type": "stream",
     "text": [
      "Index(['A', 'C', 'E', 'G', 'H', 'a', 'b'], dtype='object')\n"
     ]
    }
   ],
   "source": [
    "#Orden alfabético\n",
    "variables=['G', 'A', 'b', 'C', 'E', 'a', 'H']\n",
    "dfOrden=pd.DataFrame(np.random.rand(10, len(variables)), columns=variables)\n",
    "dfOrden.sort_index(axis=1, inplace=True)\n",
    "print(dfOrden.columns)"
   ]
  },
  {
   "cell_type": "markdown",
   "metadata": {},
   "source": [
    "### Reordenar columnas especificando el orden"
   ]
  },
  {
   "cell_type": "code",
   "execution_count": 214,
   "metadata": {},
   "outputs": [
    {
     "name": "stdout",
     "output_type": "stream",
     "text": [
      "Index(['H', 'E', 'a', 'A', 'C', 'G', 'b'], dtype='object')\n"
     ]
    }
   ],
   "source": [
    "dfOrden=dfOrden.reindex (columns=['H', 'E', 'a', 'A', 'C', 'G', 'b'])\n",
    "print(dfOrden.columns)"
   ]
  },
  {
   "cell_type": "markdown",
   "metadata": {},
   "source": [
    "### Para cambiar el nombre de alguna columna"
   ]
  },
  {
   "cell_type": "code",
   "execution_count": 215,
   "metadata": {},
   "outputs": [
    {
     "name": "stdout",
     "output_type": "stream",
     "text": [
      "Index(['G', 'A', 'BB', 'C', 'E', 'AA', 'H'], dtype='object')\n"
     ]
    }
   ],
   "source": [
    "variables=['G', 'A', 'b', 'C', 'E', 'a', 'H']\n",
    "dfOrden=pd.DataFrame(np.random.rand(10, len(variables)), columns=variables)\n",
    "#dfOrden.replace(['b', 'a'], ['BB', 'AA'])\n",
    "dfOrden.rename(columns={'b':'BB', 'a':'AA'}, inplace=True)\n",
    "\n",
    "print(dfOrden.columns)"
   ]
  },
  {
   "cell_type": "markdown",
   "metadata": {},
   "source": [
    "### Para seleccionar columnas por grupos con alguna coincidencia en el nombre"
   ]
  },
  {
   "cell_type": "code",
   "execution_count": 216,
   "metadata": {},
   "outputs": [
    {
     "name": "stdout",
     "output_type": "stream",
     "text": [
      "Index(['A_marcha_CA', 'A_marcha_BR', 'A_marcha_MA'], dtype='object')\n",
      "Index(['A_carrera_CA', 'B_carrera_CA', 'VI_carrera_CA', 'A_carrera_BR',\n",
      "       'B_carrera_BR', 'VI_carrera_BR', 'A_carrera_MA', 'B_carrera_MA',\n",
      "       'VI_carrera_MA'],\n",
      "      dtype='object')\n"
     ]
    }
   ],
   "source": [
    "variables=['A_marcha_CA', 'B_marcha_CA', 'VI_marcha_CA', 'A_marcha_BR', 'B_marcha_BR', 'VI_marcha_BR', 'A_marcha_MA', 'B_marcha_MA', 'VI_marcha_MA', 'A_carrera_CA', 'B_carrera_CA', 'VI_carrera_CA', 'A_carrera_BR', 'B_carrera_BR', 'VI_carrera_BR', 'A_carrera_MA', 'B_carrera_MA', 'VI_carrera_MA']\n",
    "dfLargo=pd.DataFrame(np.random.rand(10, len(variables)), columns=variables)\n",
    "dfA=dfLargo.filter(regex='A_marcha') #mete en un mismo df todas las variables que contienen 'A_marcha'\n",
    "print(dfA.columns)\n",
    "\n",
    "dfCarrera=dfLargo.filter(regex='_carrera_') #mete en un mismo df todas las variables sobre carrera\n",
    "print(dfCarrera.columns)"
   ]
  },
  {
   "cell_type": "markdown",
   "metadata": {},
   "source": [
    "### Para sustituir valores en columnas. Por ejemplo, si tenemos la columna Sexo con 1 y 0 y queremos cambiarlo a 'Hombres' 'Mujeres'"
   ]
  },
  {
   "cell_type": "code",
   "execution_count": 217,
   "metadata": {},
   "outputs": [
    {
     "name": "stdout",
     "output_type": "stream",
     "text": [
      "    Sexo\n",
      "0      1\n",
      "1      1\n",
      "2      0\n",
      "3      0\n",
      "4      1\n",
      "5      0\n",
      "6      1\n",
      "7      1\n",
      "8      0\n",
      "9      0\n",
      "10     1\n",
      "      Sexo\n",
      "0    Mujer\n",
      "1    Mujer\n",
      "2   Hombre\n",
      "3   Hombre\n",
      "4    Mujer\n",
      "5   Hombre\n",
      "6    Mujer\n",
      "7    Mujer\n",
      "8   Hombre\n",
      "9   Hombre\n",
      "10   Mujer\n"
     ]
    }
   ],
   "source": [
    "dfCambioValores=pd.DataFrame({'Sexo':[1,1,0,0,1,0,1,1,0,0,1]})\n",
    "print(dfCambioValores)\n",
    "dfCambioValores.replace([0, 1], ['Hombre', 'Mujer'], inplace=True)\n",
    "print(dfCambioValores)"
   ]
  },
  {
   "cell_type": "markdown",
   "metadata": {},
   "source": [
    "### Cuenta el nº de veces que se repite cada valor en una columna.\n",
    "útil para variables categóricas"
   ]
  },
  {
   "cell_type": "code",
   "execution_count": 218,
   "metadata": {},
   "outputs": [
    {
     "name": "stdout",
     "output_type": "stream",
     "text": [
      "Mujer     6\n",
      "Hombre    5\n",
      "Name: Sexo, dtype: int64\n"
     ]
    }
   ],
   "source": [
    "#Cuenta el nº de veces que se repite cada valor en una columna.\n",
    "#útil para variables categóricas\n",
    "numSexo=dfCambioValores['Sexo'].value_counts()\n",
    "print(numSexo)"
   ]
  },
  {
   "cell_type": "code",
   "execution_count": null,
   "metadata": {},
   "outputs": [],
   "source": []
  }
 ],
 "metadata": {
  "kernelspec": {
   "display_name": "Python 3",
   "language": "python",
   "name": "python3"
  },
  "language_info": {
   "codemirror_mode": {
    "name": "ipython",
    "version": 3
   },
   "file_extension": ".py",
   "mimetype": "text/x-python",
   "name": "python",
   "nbconvert_exporter": "python",
   "pygments_lexer": "ipython3",
   "version": "3.6.5"
  }
 },
 "nbformat": 4,
 "nbformat_minor": 2
}
