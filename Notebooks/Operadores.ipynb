{
  "nbformat": 4,
  "nbformat_minor": 0,
  "metadata": {
    "kernelspec": {
      "display_name": "Python 3",
      "language": "python",
      "name": "python3"
    },
    "language_info": {
      "codemirror_mode": {
        "name": "ipython",
        "version": 3
      },
      "file_extension": ".py",
      "mimetype": "text/x-python",
      "name": "python",
      "nbconvert_exporter": "python",
      "pygments_lexer": "ipython3",
      "version": "3.6.5"
    },
    "colab": {
      "name": "Operadores.ipynb",
      "provenance": [],
      "collapsed_sections": [],
      "toc_visible": true,
      "include_colab_link": true
    }
  },
  "cells": [
    {
      "cell_type": "markdown",
      "metadata": {
        "id": "view-in-github",
        "colab_type": "text"
      },
      "source": [
        "<a href=\"https://colab.research.google.com/github/joselvira/BiomecanicaPython/blob/master/Notebooks/Operadores.ipynb\" target=\"_parent\"><img src=\"https://colab.research.google.com/assets/colab-badge.svg\" alt=\"Open In Colab\"/></a>"
      ]
    },
    {
      "cell_type": "markdown",
      "metadata": {
        "id": "6yat9IL16DgA"
      },
      "source": [
        "# Operadores en Python"
      ]
    },
    {
      "cell_type": "markdown",
      "metadata": {
        "id": "jAAMS4fe6DgI"
      },
      "source": [
        "Los operadores sirven para hacer cosas con las variables.\n",
        "Se pueden realizar operaciones como en una calculadora."
      ]
    },
    {
      "cell_type": "markdown",
      "metadata": {
        "id": "WvXJQfaU6DgI"
      },
      "source": [
        "## Operadores aritméticos"
      ]
    },
    {
      "cell_type": "markdown",
      "metadata": {
        "id": "zmL8Z_OA6DgJ"
      },
      "source": [
        "Son los que sirven para realizar operaciónes aritméticas básicas."
      ]
    },
    {
      "cell_type": "code",
      "metadata": {
        "colab": {
          "base_uri": "https://localhost:8080/"
        },
        "id": "dnULXa3C6DgJ",
        "outputId": "f1afd19c-adc6-4280-b785-cfb153b9a050"
      },
      "source": [
        "5+3"
      ],
      "execution_count": 5,
      "outputs": [
        {
          "output_type": "execute_result",
          "data": {
            "text/plain": [
              "8"
            ]
          },
          "metadata": {
            "tags": []
          },
          "execution_count": 5
        }
      ]
    },
    {
      "cell_type": "code",
      "metadata": {
        "colab": {
          "base_uri": "https://localhost:8080/"
        },
        "id": "nokRNmlX6DgK",
        "outputId": "2d58e4ed-1ae9-4cc6-e036-059d10664bff"
      },
      "source": [
        "4*6"
      ],
      "execution_count": 6,
      "outputs": [
        {
          "output_type": "execute_result",
          "data": {
            "text/plain": [
              "24"
            ]
          },
          "metadata": {
            "tags": []
          },
          "execution_count": 6
        }
      ]
    },
    {
      "cell_type": "markdown",
      "metadata": {
        "id": "241sldQg6DgL"
      },
      "source": [
        "Las operaciones se resuelven siguiendo un orden: (* /) (+ -).\n",
        "En caso de empate (* /) o (+ -) se ejecuta de izquierda a derecha.\n",
        "Los paréntesis alteran el orden."
      ]
    },
    {
      "cell_type": "code",
      "metadata": {
        "colab": {
          "base_uri": "https://localhost:8080/"
        },
        "id": "mzljmaRj6DgL",
        "outputId": "f7006329-9e4e-48b2-cb61-257123c0e8f8"
      },
      "source": [
        "3+2*4"
      ],
      "execution_count": 7,
      "outputs": [
        {
          "output_type": "execute_result",
          "data": {
            "text/plain": [
              "11"
            ]
          },
          "metadata": {
            "tags": []
          },
          "execution_count": 7
        }
      ]
    },
    {
      "cell_type": "code",
      "metadata": {
        "colab": {
          "base_uri": "https://localhost:8080/"
        },
        "id": "xkX9R1Gw6DgM",
        "outputId": "08a00399-19c3-4ccd-dea3-781dd54faafc"
      },
      "source": [
        "(3+2)*8"
      ],
      "execution_count": 8,
      "outputs": [
        {
          "output_type": "execute_result",
          "data": {
            "text/plain": [
              "40"
            ]
          },
          "metadata": {
            "tags": []
          },
          "execution_count": 8
        }
      ]
    },
    {
      "cell_type": "code",
      "metadata": {
        "colab": {
          "base_uri": "https://localhost:8080/"
        },
        "id": "acGHSdMw6DgM",
        "outputId": "6743c548-ab05-44a6-d743-95ae16d67f15"
      },
      "source": [
        "3*2/6"
      ],
      "execution_count": 9,
      "outputs": [
        {
          "output_type": "execute_result",
          "data": {
            "text/plain": [
              "1.0"
            ]
          },
          "metadata": {
            "tags": []
          },
          "execution_count": 9
        }
      ]
    },
    {
      "cell_type": "code",
      "metadata": {
        "colab": {
          "base_uri": "https://localhost:8080/"
        },
        "id": "WTp68an66DgM",
        "outputId": "385c7420-c51f-4114-a61b-0681b63a2d4d"
      },
      "source": [
        "12/2*3"
      ],
      "execution_count": 10,
      "outputs": [
        {
          "output_type": "execute_result",
          "data": {
            "text/plain": [
              "18.0"
            ]
          },
          "metadata": {
            "tags": []
          },
          "execution_count": 10
        }
      ]
    },
    {
      "cell_type": "code",
      "metadata": {
        "colab": {
          "base_uri": "https://localhost:8080/"
        },
        "id": "Jf-ryosx6DgN",
        "outputId": "4c683dd7-62d9-4ccf-d27b-5a773f5044f0"
      },
      "source": [
        "12/(2*3)"
      ],
      "execution_count": 11,
      "outputs": [
        {
          "output_type": "execute_result",
          "data": {
            "text/plain": [
              "2.0"
            ]
          },
          "metadata": {
            "tags": []
          },
          "execution_count": 11
        }
      ]
    },
    {
      "cell_type": "code",
      "metadata": {
        "colab": {
          "base_uri": "https://localhost:8080/"
        },
        "id": "9Cr23Rut6DgN",
        "outputId": "8518b16f-50ce-42a6-930b-e94d9b7def96"
      },
      "source": [
        "2+12/2*3"
      ],
      "execution_count": 12,
      "outputs": [
        {
          "output_type": "execute_result",
          "data": {
            "text/plain": [
              "20.0"
            ]
          },
          "metadata": {
            "tags": []
          },
          "execution_count": 12
        }
      ]
    },
    {
      "cell_type": "markdown",
      "metadata": {
        "id": "68iEDnaG6DgN"
      },
      "source": [
        "Elevar al cuadrado:"
      ]
    },
    {
      "cell_type": "code",
      "metadata": {
        "colab": {
          "base_uri": "https://localhost:8080/"
        },
        "id": "7uEenQ8z6DgN",
        "outputId": "b2fcf7ed-76bc-4f6e-dcac-8504b1b945f0"
      },
      "source": [
        "4**2"
      ],
      "execution_count": 13,
      "outputs": [
        {
          "output_type": "execute_result",
          "data": {
            "text/plain": [
              "16"
            ]
          },
          "metadata": {
            "tags": []
          },
          "execution_count": 13
        }
      ]
    },
    {
      "cell_type": "code",
      "metadata": {
        "colab": {
          "base_uri": "https://localhost:8080/"
        },
        "id": "kcRZOBlg6DgO",
        "outputId": "e8ea5e60-a792-46ac-c57f-4846bf9309b2"
      },
      "source": [
        "4**3"
      ],
      "execution_count": 14,
      "outputs": [
        {
          "output_type": "execute_result",
          "data": {
            "text/plain": [
              "64"
            ]
          },
          "metadata": {
            "tags": []
          },
          "execution_count": 14
        }
      ]
    },
    {
      "cell_type": "markdown",
      "metadata": {
        "id": "c_9-ls8X6DgO"
      },
      "source": [
        "Raiz cuadrada:"
      ]
    },
    {
      "cell_type": "code",
      "metadata": {
        "colab": {
          "base_uri": "https://localhost:8080/"
        },
        "id": "BRaEC9AJ6DgO",
        "outputId": "12324e46-a37e-4ee6-bbf2-681aa5a85c15"
      },
      "source": [
        "4**(1/2)"
      ],
      "execution_count": 15,
      "outputs": [
        {
          "output_type": "execute_result",
          "data": {
            "text/plain": [
              "2.0"
            ]
          },
          "metadata": {
            "tags": []
          },
          "execution_count": 15
        }
      ]
    },
    {
      "cell_type": "code",
      "metadata": {
        "colab": {
          "base_uri": "https://localhost:8080/"
        },
        "id": "wJYAqfrX6DgP",
        "outputId": "39b80cfc-60ea-4433-c277-78acc560ef59"
      },
      "source": [
        "64**0.5"
      ],
      "execution_count": 16,
      "outputs": [
        {
          "output_type": "execute_result",
          "data": {
            "text/plain": [
              "8.0"
            ]
          },
          "metadata": {
            "tags": []
          },
          "execution_count": 16
        }
      ]
    },
    {
      "cell_type": "markdown",
      "metadata": {
        "id": "r5YDgkHY6DgP"
      },
      "source": [
        "Raiz cúbica...:"
      ]
    },
    {
      "cell_type": "code",
      "metadata": {
        "colab": {
          "base_uri": "https://localhost:8080/"
        },
        "id": "VrhfbhJ_6DgP",
        "outputId": "937bf800-9d53-4c9e-e1fd-2633d0000e43"
      },
      "source": [
        "8**float(1/3)"
      ],
      "execution_count": 17,
      "outputs": [
        {
          "output_type": "execute_result",
          "data": {
            "text/plain": [
              "2.0"
            ]
          },
          "metadata": {
            "tags": []
          },
          "execution_count": 17
        }
      ]
    },
    {
      "cell_type": "markdown",
      "metadata": {
        "id": "rLry57aw6DgP"
      },
      "source": [
        "Comprobar siempre las operaciones complejas, o asegurarse con paréntesis.\n",
        "Ejemplo para calcular la altura de un salto a partir del tiempo de vuelo de 0.493 s:"
      ]
    },
    {
      "cell_type": "code",
      "metadata": {
        "colab": {
          "base_uri": "https://localhost:8080/"
        },
        "id": "M62wnmRG6DgQ",
        "outputId": "d8779d25-c7d4-4f95-cac1-782adbf68baa"
      },
      "source": [
        "9.8*0.98**2/8 #incorrecto"
      ],
      "execution_count": 18,
      "outputs": [
        {
          "output_type": "execute_result",
          "data": {
            "text/plain": [
              "1.17649"
            ]
          },
          "metadata": {
            "tags": []
          },
          "execution_count": 18
        }
      ]
    },
    {
      "cell_type": "code",
      "metadata": {
        "colab": {
          "base_uri": "https://localhost:8080/"
        },
        "id": "60fhMi-J6DgQ",
        "outputId": "a49d87e0-34ee-430a-a12e-5ce8153d1d57"
      },
      "source": [
        "(9.8*0.298**2)/8"
      ],
      "execution_count": 19,
      "outputs": [
        {
          "output_type": "execute_result",
          "data": {
            "text/plain": [
              "0.1087849"
            ]
          },
          "metadata": {
            "tags": []
          },
          "execution_count": 19
        }
      ]
    },
    {
      "cell_type": "markdown",
      "metadata": {
        "id": "0PX5RiX06DgQ"
      },
      "source": [
        "Valor entero de una división (//). Redondea por debajo."
      ]
    },
    {
      "cell_type": "code",
      "metadata": {
        "colab": {
          "base_uri": "https://localhost:8080/"
        },
        "id": "vhvvTC0o6DgQ",
        "outputId": "6a2d388c-678b-4bbd-898d-f5120da12e75"
      },
      "source": [
        "4//3"
      ],
      "execution_count": 20,
      "outputs": [
        {
          "output_type": "execute_result",
          "data": {
            "text/plain": [
              "1"
            ]
          },
          "metadata": {
            "tags": []
          },
          "execution_count": 20
        }
      ]
    },
    {
      "cell_type": "code",
      "metadata": {
        "colab": {
          "base_uri": "https://localhost:8080/"
        },
        "id": "-JrZ6-mF6DgQ",
        "outputId": "3fbfc2df-c95f-455f-92e5-0134f42e46f3"
      },
      "source": [
        "4/3"
      ],
      "execution_count": 21,
      "outputs": [
        {
          "output_type": "execute_result",
          "data": {
            "text/plain": [
              "1.3333333333333333"
            ]
          },
          "metadata": {
            "tags": []
          },
          "execution_count": 21
        }
      ]
    },
    {
      "cell_type": "markdown",
      "metadata": {
        "id": "tLn904Gz6DgR"
      },
      "source": [
        "Módulo o residuo de una división (%)."
      ]
    },
    {
      "cell_type": "code",
      "metadata": {
        "colab": {
          "base_uri": "https://localhost:8080/"
        },
        "id": "inxGb33-6DgR",
        "outputId": "6d4097da-b01a-46d1-ed39-86e2e3ed972a"
      },
      "source": [
        "4%3"
      ],
      "execution_count": 22,
      "outputs": [
        {
          "output_type": "execute_result",
          "data": {
            "text/plain": [
              "1"
            ]
          },
          "metadata": {
            "tags": []
          },
          "execution_count": 22
        }
      ]
    },
    {
      "cell_type": "markdown",
      "metadata": {
        "id": "Mco7jkxg6DgR"
      },
      "source": [
        "## Operadores de asignación"
      ]
    },
    {
      "cell_type": "markdown",
      "metadata": {
        "id": "srsS9kUe6DgR"
      },
      "source": [
        "El más básico es el signo **=**. Lo que hace es meter el valor de la derecha del signo igual dentro de la varaible de la iquierda.\n",
        "\n",
        "**No confundir con una comparación**, que se representa con un doble igual **==**."
      ]
    },
    {
      "cell_type": "code",
      "metadata": {
        "id": "3ezgXcVF6DgR"
      },
      "source": [
        "a = 10"
      ],
      "execution_count": 23,
      "outputs": []
    },
    {
      "cell_type": "code",
      "metadata": {
        "id": "vONpXnTG6DgS"
      },
      "source": [
        "b = 2"
      ],
      "execution_count": 24,
      "outputs": []
    },
    {
      "cell_type": "code",
      "metadata": {
        "colab": {
          "base_uri": "https://localhost:8080/"
        },
        "id": "WMHnSK8q6DgS",
        "outputId": "31298780-9215-46c4-d104-9be1cd6bd267"
      },
      "source": [
        "c = a + b\n",
        "print(c)"
      ],
      "execution_count": 25,
      "outputs": [
        {
          "output_type": "stream",
          "text": [
            "12\n"
          ],
          "name": "stdout"
        }
      ]
    },
    {
      "cell_type": "code",
      "metadata": {
        "colab": {
          "base_uri": "https://localhost:8080/"
        },
        "id": "LIEcLn-b6DgS",
        "outputId": "097a210b-0b8a-4a58-bb95-6ba026c856c4"
      },
      "source": [
        "d = a**b\n",
        "print(d)"
      ],
      "execution_count": 26,
      "outputs": [
        {
          "output_type": "stream",
          "text": [
            "100\n"
          ],
          "name": "stdout"
        }
      ]
    },
    {
      "cell_type": "markdown",
      "metadata": {
        "id": "JQPOcaoq6DgS"
      },
      "source": [
        "Cuando se quiere modificar el valor de una variable mediante un operador, se puede hacer de dos formas:"
      ]
    },
    {
      "cell_type": "code",
      "metadata": {
        "colab": {
          "base_uri": "https://localhost:8080/"
        },
        "id": "8TvzqOKo6DgT",
        "outputId": "e351e4f6-a031-487f-b84b-5585d05cb3a8"
      },
      "source": [
        "a = 10\n",
        "a = a + 5 #añade 5 al valor que ya tenía la variable a\n",
        "print(a)"
      ],
      "execution_count": 27,
      "outputs": [
        {
          "output_type": "stream",
          "text": [
            "15\n"
          ],
          "name": "stdout"
        }
      ]
    },
    {
      "cell_type": "markdown",
      "metadata": {
        "id": "Jy6Yfa5I7WID"
      },
      "source": [
        "O de esta otra forma más simplificada."
      ]
    },
    {
      "cell_type": "code",
      "metadata": {
        "colab": {
          "base_uri": "https://localhost:8080/"
        },
        "id": "dF_8hWSS6DgT",
        "outputId": "2334720b-9eff-4ab9-cba4-c456937b0c8b"
      },
      "source": [
        "b = 2\n",
        "b += 3 #equivalente a b = b + 3\n",
        "print(b)"
      ],
      "execution_count": 28,
      "outputs": [
        {
          "output_type": "stream",
          "text": [
            "5\n"
          ],
          "name": "stdout"
        }
      ]
    },
    {
      "cell_type": "markdown",
      "metadata": {
        "id": "B_8v4k-Z6DgT"
      },
      "source": [
        "También se pueden usar otros operadores de asignación: +=, -=, *=, /=, **=, //="
      ]
    },
    {
      "cell_type": "code",
      "metadata": {
        "colab": {
          "base_uri": "https://localhost:8080/"
        },
        "id": "H7JAy82-6DgT",
        "outputId": "100226aa-8ead-4bf7-a4cd-c077afe37124"
      },
      "source": [
        "a = 3\n",
        "a *= 4\n",
        "print(a)"
      ],
      "execution_count": 29,
      "outputs": [
        {
          "output_type": "stream",
          "text": [
            "12\n"
          ],
          "name": "stdout"
        }
      ]
    },
    {
      "cell_type": "code",
      "metadata": {
        "colab": {
          "base_uri": "https://localhost:8080/"
        },
        "id": "6vBrPoDK6DgU",
        "outputId": "2f4f800b-3b48-4f29-e9aa-bcfd44b257bb"
      },
      "source": [
        "b = 3\n",
        "b **= 3\n",
        "print(b)"
      ],
      "execution_count": 30,
      "outputs": [
        {
          "output_type": "stream",
          "text": [
            "27\n"
          ],
          "name": "stdout"
        }
      ]
    },
    {
      "cell_type": "markdown",
      "metadata": {
        "id": "W1BMh_Tg6DgU"
      },
      "source": [
        "También se puede operar con las variables de texto."
      ]
    },
    {
      "cell_type": "code",
      "metadata": {
        "id": "OvO1tmBh6DgU"
      },
      "source": [
        "a = 'hola'\n",
        "b = 'cara'\n",
        "c = 'cola'\n",
        "d = a + b + c"
      ],
      "execution_count": 31,
      "outputs": []
    },
    {
      "cell_type": "code",
      "metadata": {
        "colab": {
          "base_uri": "https://localhost:8080/"
        },
        "id": "3S5haJLt6DgU",
        "outputId": "31576402-290c-4557-b909-b7e4573921bb"
      },
      "source": [
        "print(d)"
      ],
      "execution_count": 32,
      "outputs": [
        {
          "output_type": "stream",
          "text": [
            "holacaracola\n"
          ],
          "name": "stdout"
        }
      ]
    },
    {
      "cell_type": "markdown",
      "metadata": {
        "id": "WRv_RuUl6DgU"
      },
      "source": [
        "Se puede mejorar:"
      ]
    },
    {
      "cell_type": "code",
      "metadata": {
        "colab": {
          "base_uri": "https://localhost:8080/"
        },
        "id": "pDsXJqjc6DgV",
        "outputId": "f4cfa379-af92-4f91-9e28-a56b2c4d53ab"
      },
      "source": [
        "d = a + ' ' + b + c\n",
        "print(d)"
      ],
      "execution_count": 33,
      "outputs": [
        {
          "output_type": "stream",
          "text": [
            "hola caracola\n"
          ],
          "name": "stdout"
        }
      ]
    },
    {
      "cell_type": "markdown",
      "metadata": {
        "id": "WsQ2jGSd6DgV"
      },
      "source": [
        "Los operadores con cadenas de texto no funcionan igual que con los números:"
      ]
    },
    {
      "cell_type": "code",
      "metadata": {
        "colab": {
          "base_uri": "https://localhost:8080/",
          "height": 35
        },
        "id": "zkXuPxFd6DgV",
        "outputId": "b92531c0-1f16-4ba4-b90b-4f6c57116659"
      },
      "source": [
        "a*3"
      ],
      "execution_count": 34,
      "outputs": [
        {
          "output_type": "execute_result",
          "data": {
            "application/vnd.google.colaboratory.intrinsic+json": {
              "type": "string"
            },
            "text/plain": [
              "'holaholahola'"
            ]
          },
          "metadata": {
            "tags": []
          },
          "execution_count": 34
        }
      ]
    },
    {
      "cell_type": "code",
      "metadata": {
        "id": "lHvFhpef6DgV"
      },
      "source": [
        ""
      ],
      "execution_count": 34,
      "outputs": []
    },
    {
      "cell_type": "markdown",
      "metadata": {
        "id": "6L0klJff6DgV"
      },
      "source": [
        "## Operadores de comparación"
      ]
    },
    {
      "cell_type": "markdown",
      "metadata": {
        "id": "kxLIXjw66DgW"
      },
      "source": [
        "Realizan una comparación lógica y devuelven un valor booleano (True o False).\n",
        "Los operadores son: ==, !=, >, <, >=, <="
      ]
    },
    {
      "cell_type": "code",
      "metadata": {
        "id": "rS_TbmS_6DgW"
      },
      "source": [
        "a = 3; b = 2; c = 3"
      ],
      "execution_count": 35,
      "outputs": []
    },
    {
      "cell_type": "code",
      "metadata": {
        "colab": {
          "base_uri": "https://localhost:8080/"
        },
        "id": "CYBKxO2X6DgW",
        "outputId": "5055b9d2-9c6b-43f6-a1c1-6f0aefb1c2cf"
      },
      "source": [
        "a == b"
      ],
      "execution_count": 36,
      "outputs": [
        {
          "output_type": "execute_result",
          "data": {
            "text/plain": [
              "False"
            ]
          },
          "metadata": {
            "tags": []
          },
          "execution_count": 36
        }
      ]
    },
    {
      "cell_type": "code",
      "metadata": {
        "colab": {
          "base_uri": "https://localhost:8080/"
        },
        "id": "dmlvTLr16DgW",
        "outputId": "b9212135-ea77-4549-8caf-ce7091c029df"
      },
      "source": [
        "a != b"
      ],
      "execution_count": 37,
      "outputs": [
        {
          "output_type": "execute_result",
          "data": {
            "text/plain": [
              "True"
            ]
          },
          "metadata": {
            "tags": []
          },
          "execution_count": 37
        }
      ]
    },
    {
      "cell_type": "code",
      "metadata": {
        "colab": {
          "base_uri": "https://localhost:8080/"
        },
        "id": "-6NRCIDn6DgW",
        "outputId": "8ee4e06e-1af6-41d5-9df9-63436c8af3a5"
      },
      "source": [
        "a == c"
      ],
      "execution_count": 38,
      "outputs": [
        {
          "output_type": "execute_result",
          "data": {
            "text/plain": [
              "True"
            ]
          },
          "metadata": {
            "tags": []
          },
          "execution_count": 38
        }
      ]
    },
    {
      "cell_type": "markdown",
      "metadata": {
        "id": "jxFmzd516DgX"
      },
      "source": [
        "OJO, un error frecuente es utilizar = cuando se quiere comparar:"
      ]
    },
    {
      "cell_type": "code",
      "metadata": {
        "id": "3Wd_guUF6DgX"
      },
      "source": [
        "a=b #asigna el valor de b a la variable a, no las compara."
      ],
      "execution_count": 39,
      "outputs": []
    },
    {
      "cell_type": "markdown",
      "metadata": {
        "id": "qkM6x6xG6DgX"
      },
      "source": [
        "También se puede comparar con operadores booleanos (and, or, not)"
      ]
    },
    {
      "cell_type": "code",
      "metadata": {
        "id": "KKaBctu-6DgX"
      },
      "source": [
        "a=True; b=False; c=True"
      ],
      "execution_count": 40,
      "outputs": []
    },
    {
      "cell_type": "code",
      "metadata": {
        "colab": {
          "base_uri": "https://localhost:8080/"
        },
        "id": "uNHtMTy06DgX",
        "outputId": "269dc938-ee00-472e-ccf7-591d267163c0"
      },
      "source": [
        "a and b"
      ],
      "execution_count": 41,
      "outputs": [
        {
          "output_type": "execute_result",
          "data": {
            "text/plain": [
              "False"
            ]
          },
          "metadata": {
            "tags": []
          },
          "execution_count": 41
        }
      ]
    },
    {
      "cell_type": "code",
      "metadata": {
        "colab": {
          "base_uri": "https://localhost:8080/"
        },
        "id": "0DU48Jgv6DgY",
        "outputId": "17b296e8-0804-4fa8-c606-88ca4cdf43a1"
      },
      "source": [
        "a and c"
      ],
      "execution_count": 42,
      "outputs": [
        {
          "output_type": "execute_result",
          "data": {
            "text/plain": [
              "True"
            ]
          },
          "metadata": {
            "tags": []
          },
          "execution_count": 42
        }
      ]
    },
    {
      "cell_type": "code",
      "metadata": {
        "colab": {
          "base_uri": "https://localhost:8080/"
        },
        "id": "4qSrwB7Y6DgY",
        "outputId": "2db8ec6e-b526-46f0-fc68-7ad1e0495599"
      },
      "source": [
        "a or b"
      ],
      "execution_count": 43,
      "outputs": [
        {
          "output_type": "execute_result",
          "data": {
            "text/plain": [
              "True"
            ]
          },
          "metadata": {
            "tags": []
          },
          "execution_count": 43
        }
      ]
    },
    {
      "cell_type": "code",
      "metadata": {
        "colab": {
          "base_uri": "https://localhost:8080/"
        },
        "id": "Ccqp2uVK6DgY",
        "outputId": "39be9126-6005-4daa-8320-ac3801eb4325"
      },
      "source": [
        "not a"
      ],
      "execution_count": 44,
      "outputs": [
        {
          "output_type": "execute_result",
          "data": {
            "text/plain": [
              "False"
            ]
          },
          "metadata": {
            "tags": []
          },
          "execution_count": 44
        }
      ]
    },
    {
      "cell_type": "code",
      "metadata": {
        "colab": {
          "base_uri": "https://localhost:8080/"
        },
        "id": "r5EVb7n36DgY",
        "outputId": "ac13064f-9e49-490a-9a69-195194003878"
      },
      "source": [
        "not b"
      ],
      "execution_count": 45,
      "outputs": [
        {
          "output_type": "execute_result",
          "data": {
            "text/plain": [
              "True"
            ]
          },
          "metadata": {
            "tags": []
          },
          "execution_count": 45
        }
      ]
    },
    {
      "cell_type": "code",
      "metadata": {
        "colab": {
          "base_uri": "https://localhost:8080/"
        },
        "id": "w2koCMnk6DgZ",
        "outputId": "cc047fe3-69c4-438d-c70e-519bc461a7fe"
      },
      "source": [
        "not(a and b)"
      ],
      "execution_count": 46,
      "outputs": [
        {
          "output_type": "execute_result",
          "data": {
            "text/plain": [
              "True"
            ]
          },
          "metadata": {
            "tags": []
          },
          "execution_count": 46
        }
      ]
    },
    {
      "cell_type": "code",
      "metadata": {
        "colab": {
          "base_uri": "https://localhost:8080/"
        },
        "id": "Mh3lD94n6DgZ",
        "outputId": "fcc9e6fb-caf8-492d-ad5e-de3cf537a33c"
      },
      "source": [
        "not(a and c)"
      ],
      "execution_count": 47,
      "outputs": [
        {
          "output_type": "execute_result",
          "data": {
            "text/plain": [
              "False"
            ]
          },
          "metadata": {
            "tags": []
          },
          "execution_count": 47
        }
      ]
    },
    {
      "cell_type": "code",
      "metadata": {
        "id": "qCkQ9kRt6DgZ"
      },
      "source": [
        "mayor_edad = 18"
      ],
      "execution_count": 48,
      "outputs": []
    },
    {
      "cell_type": "code",
      "metadata": {
        "id": "BLs-8I0F6DgZ"
      },
      "source": [
        "edad_persona = 15"
      ],
      "execution_count": 49,
      "outputs": []
    },
    {
      "cell_type": "code",
      "metadata": {
        "colab": {
          "base_uri": "https://localhost:8080/"
        },
        "id": "ZIGkT8pJ6DgZ",
        "outputId": "e02e26b5-7475-4a42-998a-8a22b0fd64ee"
      },
      "source": [
        "edad_persona >= mayor_edad"
      ],
      "execution_count": 50,
      "outputs": [
        {
          "output_type": "execute_result",
          "data": {
            "text/plain": [
              "False"
            ]
          },
          "metadata": {
            "tags": []
          },
          "execution_count": 50
        }
      ]
    }
  ]
}