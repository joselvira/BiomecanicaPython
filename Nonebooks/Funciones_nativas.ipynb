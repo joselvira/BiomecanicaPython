{
  "nbformat": 4,
  "nbformat_minor": 0,
  "metadata": {
    "kernelspec": {
      "display_name": "Python 3",
      "language": "python",
      "name": "python3"
    },
    "language_info": {
      "codemirror_mode": {
        "name": "ipython",
        "version": 3
      },
      "file_extension": ".py",
      "mimetype": "text/x-python",
      "name": "python",
      "nbconvert_exporter": "python",
      "pygments_lexer": "ipython3",
      "version": "3.6.5"
    },
    "colab": {
      "name": "Funciones_nativas.ipynb",
      "provenance": [],
      "collapsed_sections": [],
      "toc_visible": true,
      "include_colab_link": true
    }
  },
  "cells": [
    {
      "cell_type": "markdown",
      "metadata": {
        "id": "view-in-github",
        "colab_type": "text"
      },
      "source": [
        "<a href=\"https://colab.research.google.com/github/joselvira/BiomecanicaPython/blob/master/Nonebooks/Funciones_nativas.ipynb\" target=\"_parent\"><img src=\"https://colab.research.google.com/assets/colab-badge.svg\" alt=\"Open In Colab\"/></a>"
      ]
    },
    {
      "cell_type": "markdown",
      "metadata": {
        "id": "8ufDJ6at87pJ"
      },
      "source": [
        "# Funciones nativas"
      ]
    },
    {
      "cell_type": "markdown",
      "metadata": {
        "id": "5HLAwssP87pS"
      },
      "source": [
        "Todos los lenguajes tienen algunas funciones propias del lenguaje, a parte de las que se pueden crear."
      ]
    },
    {
      "cell_type": "markdown",
      "metadata": {
        "id": "Z7ZH166E87pT"
      },
      "source": [
        "Algunas útiles son: range, len, list, is, in, not in, dir"
      ]
    },
    {
      "cell_type": "code",
      "metadata": {
        "colab": {
          "base_uri": "https://localhost:8080/"
        },
        "id": "U8DA0_Pf87pT",
        "outputId": "fb84fb5c-7017-4a2b-d799-363404475a6d"
      },
      "source": [
        "x = range(10) #listado de número consecutivo, no incluye el último\n",
        "print(x)"
      ],
      "execution_count": 6,
      "outputs": [
        {
          "output_type": "stream",
          "text": [
            "range(0, 10)\n"
          ],
          "name": "stdout"
        }
      ]
    },
    {
      "cell_type": "markdown",
      "metadata": {
        "id": "S2SRuaX39NAm"
      },
      "source": [
        "Con la función *len* Podemos obtener el número de elementos que contiene una lista por ejemplo."
      ]
    },
    {
      "cell_type": "code",
      "metadata": {
        "colab": {
          "base_uri": "https://localhost:8080/"
        },
        "id": "BP23ojeL87pU",
        "outputId": "561358cb-fed0-491a-e7a5-2694e258b5e6"
      },
      "source": [
        "nombres = ['Juan', 'Antonio', 'Diego', 'María', 'Sonia']\n",
        "len(nombres) #número de elementos"
      ],
      "execution_count": 7,
      "outputs": [
        {
          "output_type": "execute_result",
          "data": {
            "text/plain": [
              "5"
            ]
          },
          "metadata": {
            "tags": []
          },
          "execution_count": 7
        }
      ]
    },
    {
      "cell_type": "markdown",
      "metadata": {
        "id": "2YJjUqHf9nMa"
      },
      "source": [
        "La función *list* sirve para convertir en una variable de tipo *lista* de elementos separados una cadena de texto."
      ]
    },
    {
      "cell_type": "code",
      "metadata": {
        "colab": {
          "base_uri": "https://localhost:8080/"
        },
        "id": "j4Qit8GH87pV",
        "outputId": "300680d4-b6da-45de-81f5-f6911a951a64"
      },
      "source": [
        "a=list('hola caracola')\n",
        "a"
      ],
      "execution_count": 8,
      "outputs": [
        {
          "output_type": "execute_result",
          "data": {
            "text/plain": [
              "['h', 'o', 'l', 'a', ' ', 'c', 'a', 'r', 'a', 'c', 'o', 'l', 'a']"
            ]
          },
          "metadata": {
            "tags": []
          },
          "execution_count": 8
        }
      ]
    },
    {
      "cell_type": "markdown",
      "metadata": {
        "id": "gzPVrYId9-RD"
      },
      "source": [
        "Las instruccione *in* y *not in* sirven para comprobar si un elemento cualquiera está dentro de una lista. Devuelve un valor *True* o *False*."
      ]
    },
    {
      "cell_type": "code",
      "metadata": {
        "colab": {
          "base_uri": "https://localhost:8080/"
        },
        "id": "GHZpsl0q87pV",
        "outputId": "13d09e9d-9904-43ea-f6d1-f9baf01ecc2e"
      },
      "source": [
        "t='esto es una prueba'\n",
        "'a' in t"
      ],
      "execution_count": 9,
      "outputs": [
        {
          "output_type": "execute_result",
          "data": {
            "text/plain": [
              "True"
            ]
          },
          "metadata": {
            "tags": []
          },
          "execution_count": 9
        }
      ]
    },
    {
      "cell_type": "code",
      "metadata": {
        "colab": {
          "base_uri": "https://localhost:8080/"
        },
        "id": "nOjSTE-U87pW",
        "outputId": "bbf6a68d-c3e2-48e1-d312-5a8ce716b892"
      },
      "source": [
        "3 not in [2, 3, 4]"
      ],
      "execution_count": 10,
      "outputs": [
        {
          "output_type": "execute_result",
          "data": {
            "text/plain": [
              "False"
            ]
          },
          "metadata": {
            "tags": []
          },
          "execution_count": 10
        }
      ]
    },
    {
      "cell_type": "markdown",
      "metadata": {
        "id": "zdlf6VGY-RJo"
      },
      "source": [
        "La instrucción *index* es muy útil para conocer en qué posición (*índice*) se encuentra un elemento concreto."
      ]
    },
    {
      "cell_type": "code",
      "metadata": {
        "colab": {
          "base_uri": "https://localhost:8080/"
        },
        "id": "5XhkWG2M87pW",
        "outputId": "2fc24bef-2d09-477d-fe3c-932bef727d11"
      },
      "source": [
        "t.index('a')#dónde aparece por primera vez"
      ],
      "execution_count": 11,
      "outputs": [
        {
          "output_type": "execute_result",
          "data": {
            "text/plain": [
              "10"
            ]
          },
          "metadata": {
            "tags": []
          },
          "execution_count": 11
        }
      ]
    },
    {
      "cell_type": "markdown",
      "metadata": {
        "id": "0SONZgWR-bEN"
      },
      "source": [
        "La instrucción *count* cuenta cuántas repeticiones de un valor se encuentran en una variable."
      ]
    },
    {
      "cell_type": "code",
      "metadata": {
        "colab": {
          "base_uri": "https://localhost:8080/"
        },
        "id": "N8QL-8Rz87pW",
        "outputId": "65fe8769-0c70-4b13-b51c-b0e03d4b6cf5"
      },
      "source": [
        "t.count('a')#cuenta cuántas hay"
      ],
      "execution_count": 12,
      "outputs": [
        {
          "output_type": "execute_result",
          "data": {
            "text/plain": [
              "2"
            ]
          },
          "metadata": {
            "tags": []
          },
          "execution_count": 12
        }
      ]
    },
    {
      "cell_type": "markdown",
      "metadata": {
        "id": "zDNYsQzi87pX"
      },
      "source": [
        "Con *dir* se muestran todos los atributos asociados con una variable d eun tipo concreto. Indica las instrucciones que lleva implícitas y se pueden invocar con esa variable. No utilizar las que empiezan y acaban con __."
      ]
    },
    {
      "cell_type": "code",
      "metadata": {
        "colab": {
          "base_uri": "https://localhost:8080/"
        },
        "id": "zE3og1Xi87pX",
        "outputId": "98eb92c5-3ac8-4ecc-ef73-ff2a6104491d"
      },
      "source": [
        "lista=[3,5,4,9,6,7]\n",
        "dir(lista)"
      ],
      "execution_count": 13,
      "outputs": [
        {
          "output_type": "execute_result",
          "data": {
            "text/plain": [
              "['__add__',\n",
              " '__class__',\n",
              " '__contains__',\n",
              " '__delattr__',\n",
              " '__delitem__',\n",
              " '__dir__',\n",
              " '__doc__',\n",
              " '__eq__',\n",
              " '__format__',\n",
              " '__ge__',\n",
              " '__getattribute__',\n",
              " '__getitem__',\n",
              " '__gt__',\n",
              " '__hash__',\n",
              " '__iadd__',\n",
              " '__imul__',\n",
              " '__init__',\n",
              " '__init_subclass__',\n",
              " '__iter__',\n",
              " '__le__',\n",
              " '__len__',\n",
              " '__lt__',\n",
              " '__mul__',\n",
              " '__ne__',\n",
              " '__new__',\n",
              " '__reduce__',\n",
              " '__reduce_ex__',\n",
              " '__repr__',\n",
              " '__reversed__',\n",
              " '__rmul__',\n",
              " '__setattr__',\n",
              " '__setitem__',\n",
              " '__sizeof__',\n",
              " '__str__',\n",
              " '__subclasshook__',\n",
              " 'append',\n",
              " 'clear',\n",
              " 'copy',\n",
              " 'count',\n",
              " 'extend',\n",
              " 'index',\n",
              " 'insert',\n",
              " 'pop',\n",
              " 'remove',\n",
              " 'reverse',\n",
              " 'sort']"
            ]
          },
          "metadata": {
            "tags": []
          },
          "execution_count": 13
        }
      ]
    },
    {
      "cell_type": "markdown",
      "metadata": {
        "id": "22JgK17a-21V"
      },
      "source": [
        "Por ejemplo, con la variable de tipo *list* anterior, se pueden ejecutar las siguientes instrucciones."
      ]
    },
    {
      "cell_type": "code",
      "metadata": {
        "colab": {
          "base_uri": "https://localhost:8080/"
        },
        "id": "yzzPLukc87pX",
        "outputId": "20b6cc59-4045-424a-f304-30c3baf0f859"
      },
      "source": [
        "lista.sort() #por ejemplo\n",
        "print(lista)"
      ],
      "execution_count": 14,
      "outputs": [
        {
          "output_type": "stream",
          "text": [
            "[3, 4, 5, 6, 7, 9]\n"
          ],
          "name": "stdout"
        }
      ]
    },
    {
      "cell_type": "code",
      "metadata": {
        "colab": {
          "base_uri": "https://localhost:8080/"
        },
        "id": "I0CgzXOU87pY",
        "outputId": "a312631d-f94e-4077-d2bf-ea72bb2beb8b"
      },
      "source": [
        "lista.append(11)\n",
        "print(lista)"
      ],
      "execution_count": 15,
      "outputs": [
        {
          "output_type": "stream",
          "text": [
            "[3, 4, 5, 6, 7, 9, 11]\n"
          ],
          "name": "stdout"
        }
      ]
    },
    {
      "cell_type": "code",
      "metadata": {
        "colab": {
          "base_uri": "https://localhost:8080/"
        },
        "id": "TXQ8IH71_SBB",
        "outputId": "d2ffba08-ddaa-41d9-9fba-d8b8e876d1ea"
      },
      "source": [
        "lista.insert(2, 22) #introduce el valor 22 en la posición 2 (empezando por el cero)\n",
        "print(lista)"
      ],
      "execution_count": 16,
      "outputs": [
        {
          "output_type": "stream",
          "text": [
            "[3, 4, 22, 5, 6, 7, 9, 11]\n"
          ],
          "name": "stdout"
        }
      ]
    },
    {
      "cell_type": "markdown",
      "metadata": {
        "id": "hNTYbCbV_tVb"
      },
      "source": [
        "Estos son algunos ejemplos de funciones nativas, aunque se pueden encontrar más que resulten útiles en determinados momentos."
      ]
    }
  ]
}